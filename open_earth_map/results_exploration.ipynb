{
 "cells": [
  {
   "cell_type": "code",
   "execution_count": 2,
   "metadata": {},
   "outputs": [],
   "source": [
    "import pandas as pd\n",
    "from transformer_model_run import run_one_model\n",
    "import os\n",
    "import time\n",
    "import warnings\n",
    "import numpy as np\n",
    "import torch\n",
    "import torchvision\n",
    "from pathlib import Path\n",
    "import matplotlib.pyplot as plt\n",
    "import sys\n",
    "import oem"
   ]
  },
  {
   "cell_type": "markdown",
   "metadata": {},
   "source": [
    "# Results Exploration from UNET Transformer"
   ]
  },
  {
   "cell_type": "code",
   "execution_count": 8,
   "metadata": {},
   "outputs": [
    {
     "data": {
      "text/html": [
       "<div>\n",
       "<style scoped>\n",
       "    .dataframe tbody tr th:only-of-type {\n",
       "        vertical-align: middle;\n",
       "    }\n",
       "\n",
       "    .dataframe tbody tr th {\n",
       "        vertical-align: top;\n",
       "    }\n",
       "\n",
       "    .dataframe thead th {\n",
       "        text-align: right;\n",
       "    }\n",
       "</style>\n",
       "<table border=\"1\" class=\"dataframe\">\n",
       "  <thead>\n",
       "    <tr style=\"text-align: right;\">\n",
       "      <th></th>\n",
       "      <th>Model</th>\n",
       "      <th>Batch_size</th>\n",
       "      <th>Optimizer</th>\n",
       "      <th>Criterion</th>\n",
       "      <th>Best Score</th>\n",
       "    </tr>\n",
       "  </thead>\n",
       "  <tbody>\n",
       "    <tr>\n",
       "      <th>0</th>\n",
       "      <td>UNetFormer-res2net101-26w-4s</td>\n",
       "      <td>4</td>\n",
       "      <td>adam</td>\n",
       "      <td>CE</td>\n",
       "      <td>0.332655</td>\n",
       "    </tr>\n",
       "    <tr>\n",
       "      <th>1</th>\n",
       "      <td>UNetFormer-res2net101-26w-4s</td>\n",
       "      <td>4</td>\n",
       "      <td>adam</td>\n",
       "      <td>Focal</td>\n",
       "      <td>0.221994</td>\n",
       "    </tr>\n",
       "    <tr>\n",
       "      <th>2</th>\n",
       "      <td>UNetFormer-res2net101-26w-4s</td>\n",
       "      <td>4</td>\n",
       "      <td>adam</td>\n",
       "      <td>Jaccard</td>\n",
       "      <td>0.403267</td>\n",
       "    </tr>\n",
       "    <tr>\n",
       "      <th>3</th>\n",
       "      <td>UNetFormer-res2net101-26w-4s</td>\n",
       "      <td>4</td>\n",
       "      <td>adam</td>\n",
       "      <td>Dice</td>\n",
       "      <td>0.409696</td>\n",
       "    </tr>\n",
       "    <tr>\n",
       "      <th>4</th>\n",
       "      <td>UNetFormer-res2net101-26w-4s</td>\n",
       "      <td>4</td>\n",
       "      <td>adam</td>\n",
       "      <td>MCC</td>\n",
       "      <td>0.405605</td>\n",
       "    </tr>\n",
       "  </tbody>\n",
       "</table>\n",
       "</div>"
      ],
      "text/plain": [
       "                          Model  Batch_size Optimizer Criterion  Best Score\n",
       "0  UNetFormer-res2net101-26w-4s           4      adam        CE    0.332655\n",
       "1  UNetFormer-res2net101-26w-4s           4      adam     Focal    0.221994\n",
       "2  UNetFormer-res2net101-26w-4s           4      adam   Jaccard    0.403267\n",
       "3  UNetFormer-res2net101-26w-4s           4      adam      Dice    0.409696\n",
       "4  UNetFormer-res2net101-26w-4s           4      adam       MCC    0.405605"
      ]
     },
     "execution_count": 8,
     "metadata": {},
     "output_type": "execute_result"
    }
   ],
   "source": [
    "results_df = pd.read_csv('unetformer_results2.csv')\n",
    "results_df.head()"
   ]
  },
  {
   "cell_type": "code",
   "execution_count": 3,
   "metadata": {},
   "outputs": [],
   "source": [
    "warnings.filterwarnings(\"ignore\")\n",
    "os.environ['CUDA_VISIBLE_DEVICES'] = '2'\n",
    "\n",
    "# Path to the OpenEarthMap directory\n",
    "OEM_DATA_DIR = \"../OpenEarthMap_Mini/\"\n",
    "\n",
    "# Training and validation file list\n",
    "TRAIN_LIST = os.path.join(OEM_DATA_DIR, \"train.txt\")\n",
    "VAL_LIST = os.path.join(OEM_DATA_DIR, \"val.txt\")\n",
    "\n",
    "IMG_SIZE = 512\n",
    "N_CLASSES = 9\n",
    "LR = 0.0001\n",
    "WEIGHT_DECAY = 0.000001\n",
    "BATCH_SIZE = 16\n",
    "NUM_EPOCHS = 200\n",
    "DEVICE = \"cuda\"\n",
    "OUTPUT_DIR = \"../outputs\""
   ]
  },
  {
   "cell_type": "code",
   "execution_count": null,
   "metadata": {},
   "outputs": [],
   "source": [
    "img_paths = [f for f in Path(OEM_DATA_DIR).rglob(\n",
    "    \"*.tif\") if \"/images/\" in str(f)]\n",
    "train_fns = [str(f) for f in img_paths if f.name in np.loadtxt(\n",
    "    TRAIN_LIST, dtype=str)]\n",
    "val_fns = [str(f)\n",
    "            for f in img_paths if f.name in np.loadtxt(VAL_LIST, dtype=str)]\n",
    "\n",
    "print(\"Total samples      :\", len(img_paths))\n",
    "print(\"Training samples   :\", len(train_fns))\n",
    "print(\"Validation samples :\", len(val_fns))"
   ]
  },
  {
   "cell_type": "code",
   "execution_count": 5,
   "metadata": {},
   "outputs": [],
   "source": [
    "train_augm = torchvision.transforms.Compose(\n",
    "    [\n",
    "        oem.transforms.Rotate(),\n",
    "        oem.transforms.Crop(IMG_SIZE),\n",
    "    ],\n",
    ")\n",
    "\n",
    "val_augm = torchvision.transforms.Compose(\n",
    "    [\n",
    "        oem.transforms.Resize(IMG_SIZE),\n",
    "    ],\n",
    "\n",
    ")"
   ]
  },
  {
   "cell_type": "code",
   "execution_count": 6,
   "metadata": {},
   "outputs": [],
   "source": [
    "train_data = oem.dataset.OpenEarthMapDataset(\n",
    "    train_fns,\n",
    "    n_classes=N_CLASSES,\n",
    "    augm=train_augm,\n",
    ")\n",
    "\n",
    "val_data = oem.dataset.OpenEarthMapDataset(\n",
    "    val_fns,\n",
    "    n_classes=N_CLASSES,\n",
    "    augm=val_augm,\n",
    ")"
   ]
  },
  {
   "cell_type": "code",
   "execution_count": 9,
   "metadata": {},
   "outputs": [
    {
     "data": {
      "text/html": [
       "<div>\n",
       "<style scoped>\n",
       "    .dataframe tbody tr th:only-of-type {\n",
       "        vertical-align: middle;\n",
       "    }\n",
       "\n",
       "    .dataframe tbody tr th {\n",
       "        vertical-align: top;\n",
       "    }\n",
       "\n",
       "    .dataframe thead th {\n",
       "        text-align: right;\n",
       "    }\n",
       "</style>\n",
       "<table border=\"1\" class=\"dataframe\">\n",
       "  <thead>\n",
       "    <tr style=\"text-align: right;\">\n",
       "      <th></th>\n",
       "      <th>Model</th>\n",
       "      <th>Batch_size</th>\n",
       "      <th>Optimizer</th>\n",
       "      <th>Criterion</th>\n",
       "      <th>Best Score</th>\n",
       "    </tr>\n",
       "  </thead>\n",
       "  <tbody>\n",
       "    <tr>\n",
       "      <th>143</th>\n",
       "      <td>UNetFormer-seresnet152d</td>\n",
       "      <td>16</td>\n",
       "      <td>adam</td>\n",
       "      <td>Dice</td>\n",
       "      <td>0.477446</td>\n",
       "    </tr>\n",
       "    <tr>\n",
       "      <th>142</th>\n",
       "      <td>UNetFormer-seresnet152d</td>\n",
       "      <td>16</td>\n",
       "      <td>adam</td>\n",
       "      <td>Jaccard</td>\n",
       "      <td>0.468987</td>\n",
       "    </tr>\n",
       "    <tr>\n",
       "      <th>86</th>\n",
       "      <td>UNetFormer-seresnet152d</td>\n",
       "      <td>8</td>\n",
       "      <td>adam</td>\n",
       "      <td>Jaccard</td>\n",
       "      <td>0.461656</td>\n",
       "    </tr>\n",
       "    <tr>\n",
       "      <th>87</th>\n",
       "      <td>UNetFormer-seresnet152d</td>\n",
       "      <td>8</td>\n",
       "      <td>adam</td>\n",
       "      <td>Dice</td>\n",
       "      <td>0.456958</td>\n",
       "    </tr>\n",
       "  </tbody>\n",
       "</table>\n",
       "</div>"
      ],
      "text/plain": [
       "                       Model  Batch_size Optimizer Criterion  Best Score\n",
       "143  UNetFormer-seresnet152d          16      adam      Dice    0.477446\n",
       "142  UNetFormer-seresnet152d          16      adam   Jaccard    0.468987\n",
       "86   UNetFormer-seresnet152d           8      adam   Jaccard    0.461656\n",
       "87   UNetFormer-seresnet152d           8      adam      Dice    0.456958"
      ]
     },
     "execution_count": 9,
     "metadata": {},
     "output_type": "execute_result"
    }
   ],
   "source": [
    "results_df.sort_values('Best Score', ascending=False)[:4]"
   ]
  },
  {
   "cell_type": "code",
   "execution_count": 11,
   "metadata": {},
   "outputs": [
    {
     "name": "stdout",
     "output_type": "stream",
     "text": [
      "Loading data\n",
      "Loading Optimizer\n",
      "Loading Criterion\n",
      "../outputs/UNetFormer-efficientnet-b0_16_adam_Dice.pth\n"
     ]
    },
    {
     "name": "stderr",
     "output_type": "stream",
     "text": [
      "Train:   0%|          | 0/41 [00:00<?, ?it/s]"
     ]
    },
    {
     "name": "stdout",
     "output_type": "stream",
     "text": [
      "Loaded model:UNetFormer-efficientnet-b0_16_adam_Dice.pth (Epoch=9, Score=0.449)\n",
      "\n",
      "Epoch: 1\n",
      "NOT FOUND\n",
      "../outputs/UNetFormer-efficientnet-b0_16_adam_Dice.pth\n"
     ]
    },
    {
     "name": "stderr",
     "output_type": "stream",
     "text": [
      "Train: 100%|██████████| 41/41 [00:15<00:00,  2.70it/s, Loss=3.69, Score=0.538]\n",
      "Valid: 100%|██████████| 6/6 [00:02<00:00,  2.76it/s, Loss=4.42, Score=0.447]\n",
      "Train:   0%|          | 0/41 [00:00<?, ?it/s]"
     ]
    },
    {
     "name": "stdout",
     "output_type": "stream",
     "text": [
      "model saved\n",
      "\n",
      "Epoch: 2\n",
      "NOT FOUND\n",
      "../outputs/UNetFormer-efficientnet-b0_16_adam_Dice.pth\n"
     ]
    },
    {
     "name": "stderr",
     "output_type": "stream",
     "text": [
      "Train: 100%|██████████| 41/41 [00:16<00:00,  2.47it/s, Loss=3.77, Score=0.529]\n",
      "Valid: 100%|██████████| 6/6 [00:02<00:00,  2.74it/s, Loss=4.37, Score=0.454]\n",
      "Train:   0%|          | 0/41 [00:00<?, ?it/s]"
     ]
    },
    {
     "name": "stdout",
     "output_type": "stream",
     "text": [
      "model saved\n",
      "\n",
      "Epoch: 3\n",
      "NOT FOUND\n",
      "../outputs/UNetFormer-efficientnet-b0_16_adam_Dice.pth\n"
     ]
    },
    {
     "name": "stderr",
     "output_type": "stream",
     "text": [
      "Train: 100%|██████████| 41/41 [00:16<00:00,  2.56it/s, Loss=3.69, Score=0.539]\n",
      "Valid: 100%|██████████| 6/6 [00:02<00:00,  2.09it/s, Loss=4.36, Score=0.455]\n",
      "Train:   0%|          | 0/41 [00:00<?, ?it/s]"
     ]
    },
    {
     "name": "stdout",
     "output_type": "stream",
     "text": [
      "model saved\n",
      "\n",
      "Epoch: 4\n",
      "NOT FOUND\n",
      "../outputs/UNetFormer-efficientnet-b0_16_adam_Dice.pth\n"
     ]
    },
    {
     "name": "stderr",
     "output_type": "stream",
     "text": [
      "Train: 100%|██████████| 41/41 [00:16<00:00,  2.45it/s, Loss=3.58, Score=0.553]\n",
      "Valid: 100%|██████████| 6/6 [00:02<00:00,  2.75it/s, Loss=4.36, Score=0.455]\n",
      "Train:   0%|          | 0/41 [00:00<?, ?it/s]"
     ]
    },
    {
     "name": "stdout",
     "output_type": "stream",
     "text": [
      "model saved\n",
      "\n",
      "Epoch: 5\n",
      "NOT FOUND\n",
      "../outputs/UNetFormer-efficientnet-b0_16_adam_Dice.pth\n"
     ]
    },
    {
     "name": "stderr",
     "output_type": "stream",
     "text": [
      "Train: 100%|██████████| 41/41 [00:16<00:00,  2.47it/s, Loss=3.54, Score=0.558]\n",
      "Valid: 100%|██████████| 6/6 [00:02<00:00,  2.65it/s, Loss=4.38, Score=0.453]\n",
      "Train:   0%|          | 0/41 [00:00<?, ?it/s]"
     ]
    },
    {
     "name": "stdout",
     "output_type": "stream",
     "text": [
      "\n",
      "Epoch: 6\n",
      "NOT FOUND\n",
      "../outputs/UNetFormer-efficientnet-b0_16_adam_Dice.pth\n"
     ]
    },
    {
     "name": "stderr",
     "output_type": "stream",
     "text": [
      "Train: 100%|██████████| 41/41 [00:16<00:00,  2.56it/s, Loss=3.57, Score=0.553]\n",
      "Valid: 100%|██████████| 6/6 [00:02<00:00,  2.73it/s, Loss=4.32, Score=0.46] \n",
      "Train:   0%|          | 0/41 [00:00<?, ?it/s]"
     ]
    },
    {
     "name": "stdout",
     "output_type": "stream",
     "text": [
      "model saved\n",
      "\n",
      "Epoch: 7\n",
      "NOT FOUND\n",
      "../outputs/UNetFormer-efficientnet-b0_16_adam_Dice.pth\n"
     ]
    },
    {
     "name": "stderr",
     "output_type": "stream",
     "text": [
      "Train: 100%|██████████| 41/41 [00:16<00:00,  2.46it/s, Loss=3.53, Score=0.559]\n",
      "Valid: 100%|██████████| 6/6 [00:02<00:00,  2.68it/s, Loss=4.33, Score=0.458]\n",
      "Train:   0%|          | 0/41 [00:00<?, ?it/s]"
     ]
    },
    {
     "name": "stdout",
     "output_type": "stream",
     "text": [
      "\n",
      "Epoch: 8\n",
      "NOT FOUND\n",
      "../outputs/UNetFormer-efficientnet-b0_16_adam_Dice.pth\n"
     ]
    },
    {
     "name": "stderr",
     "output_type": "stream",
     "text": [
      "Train: 100%|██████████| 41/41 [00:13<00:00,  3.06it/s, Loss=3.61, Score=0.548]\n",
      "Valid: 100%|██████████| 6/6 [00:02<00:00,  2.57it/s, Loss=4.36, Score=0.455]\n",
      "Train:   0%|          | 0/41 [00:00<?, ?it/s]"
     ]
    },
    {
     "name": "stdout",
     "output_type": "stream",
     "text": [
      "\n",
      "Epoch: 9\n",
      "NOT FOUND\n",
      "../outputs/UNetFormer-efficientnet-b0_16_adam_Dice.pth\n"
     ]
    },
    {
     "name": "stderr",
     "output_type": "stream",
     "text": [
      "Train: 100%|██████████| 41/41 [00:16<00:00,  2.46it/s, Loss=3.47, Score=0.566]\n",
      "Valid: 100%|██████████| 6/6 [00:02<00:00,  2.73it/s, Loss=4.36, Score=0.455]\n",
      "Train:   0%|          | 0/41 [00:00<?, ?it/s]"
     ]
    },
    {
     "name": "stdout",
     "output_type": "stream",
     "text": [
      "\n",
      "Epoch: 10\n",
      "NOT FOUND\n",
      "../outputs/UNetFormer-efficientnet-b0_16_adam_Dice.pth\n"
     ]
    },
    {
     "name": "stderr",
     "output_type": "stream",
     "text": [
      "Train: 100%|██████████| 41/41 [00:16<00:00,  2.49it/s, Loss=3.5, Score=0.562] \n",
      "Valid: 100%|██████████| 6/6 [00:02<00:00,  2.98it/s, Loss=4.33, Score=0.459]\n",
      "Train:   0%|          | 0/41 [00:00<?, ?it/s]"
     ]
    },
    {
     "name": "stdout",
     "output_type": "stream",
     "text": [
      "\n",
      "Epoch: 11\n",
      "NOT FOUND\n",
      "../outputs/UNetFormer-efficientnet-b0_16_adam_Dice.pth\n"
     ]
    },
    {
     "name": "stderr",
     "output_type": "stream",
     "text": [
      "Train: 100%|██████████| 41/41 [00:16<00:00,  2.42it/s, Loss=3.49, Score=0.564]\n",
      "Valid: 100%|██████████| 6/6 [00:02<00:00,  2.75it/s, Loss=4.33, Score=0.459]\n",
      "Train:   0%|          | 0/41 [00:00<?, ?it/s]"
     ]
    },
    {
     "name": "stdout",
     "output_type": "stream",
     "text": [
      "\n",
      "Epoch: 12\n",
      "NOT FOUND\n",
      "../outputs/UNetFormer-efficientnet-b0_16_adam_Dice.pth\n"
     ]
    },
    {
     "name": "stderr",
     "output_type": "stream",
     "text": [
      "Train: 100%|██████████| 41/41 [00:16<00:00,  2.45it/s, Loss=3.41, Score=0.574]\n",
      "Valid: 100%|██████████| 6/6 [00:02<00:00,  2.81it/s, Loss=4.35, Score=0.456]\n",
      "Train:   0%|          | 0/41 [00:00<?, ?it/s]"
     ]
    },
    {
     "name": "stdout",
     "output_type": "stream",
     "text": [
      "\n",
      "Epoch: 13\n",
      "NOT FOUND\n",
      "../outputs/UNetFormer-efficientnet-b0_16_adam_Dice.pth\n"
     ]
    },
    {
     "name": "stderr",
     "output_type": "stream",
     "text": [
      "Train: 100%|██████████| 41/41 [00:16<00:00,  2.56it/s, Loss=3.37, Score=0.579]\n",
      "Valid: 100%|██████████| 6/6 [00:02<00:00,  2.55it/s, Loss=4.28, Score=0.465]\n",
      "Train:   0%|          | 0/41 [00:00<?, ?it/s]"
     ]
    },
    {
     "name": "stdout",
     "output_type": "stream",
     "text": [
      "model saved\n",
      "\n",
      "Epoch: 14\n",
      "NOT FOUND\n",
      "../outputs/UNetFormer-efficientnet-b0_16_adam_Dice.pth\n"
     ]
    },
    {
     "name": "stderr",
     "output_type": "stream",
     "text": [
      "Train: 100%|██████████| 41/41 [00:16<00:00,  2.47it/s, Loss=3.45, Score=0.569]\n",
      "Valid: 100%|██████████| 6/6 [00:02<00:00,  2.75it/s, Loss=4.34, Score=0.457]\n",
      "Train:   0%|          | 0/41 [00:00<?, ?it/s]"
     ]
    },
    {
     "name": "stdout",
     "output_type": "stream",
     "text": [
      "\n",
      "Epoch: 15\n",
      "NOT FOUND\n",
      "../outputs/UNetFormer-efficientnet-b0_16_adam_Dice.pth\n"
     ]
    },
    {
     "name": "stderr",
     "output_type": "stream",
     "text": [
      "Train: 100%|██████████| 41/41 [00:15<00:00,  2.67it/s, Loss=3.46, Score=0.567]\n",
      "Valid: 100%|██████████| 6/6 [00:02<00:00,  2.76it/s, Loss=4.41, Score=0.449]\n",
      "Train:   0%|          | 0/41 [00:00<?, ?it/s]"
     ]
    },
    {
     "name": "stdout",
     "output_type": "stream",
     "text": [
      "\n",
      "Epoch: 16\n",
      "NOT FOUND\n",
      "../outputs/UNetFormer-efficientnet-b0_16_adam_Dice.pth\n"
     ]
    },
    {
     "name": "stderr",
     "output_type": "stream",
     "text": [
      "Train: 100%|██████████| 41/41 [00:16<00:00,  2.45it/s, Loss=3.48, Score=0.564]\n",
      "Valid: 100%|██████████| 6/6 [00:02<00:00,  2.73it/s, Loss=4.33, Score=0.459]\n",
      "Train:   0%|          | 0/41 [00:00<?, ?it/s]"
     ]
    },
    {
     "name": "stdout",
     "output_type": "stream",
     "text": [
      "\n",
      "Epoch: 17\n",
      "NOT FOUND\n",
      "../outputs/UNetFormer-efficientnet-b0_16_adam_Dice.pth\n"
     ]
    },
    {
     "name": "stderr",
     "output_type": "stream",
     "text": [
      "Train: 100%|██████████| 41/41 [00:15<00:00,  2.68it/s, Loss=3.35, Score=0.581]\n",
      "Valid: 100%|██████████| 6/6 [00:02<00:00,  2.72it/s, Loss=4.35, Score=0.457]\n",
      "Train:   0%|          | 0/41 [00:00<?, ?it/s]"
     ]
    },
    {
     "name": "stdout",
     "output_type": "stream",
     "text": [
      "\n",
      "Epoch: 18\n",
      "NOT FOUND\n",
      "../outputs/UNetFormer-efficientnet-b0_16_adam_Dice.pth\n"
     ]
    },
    {
     "name": "stderr",
     "output_type": "stream",
     "text": [
      "Train: 100%|██████████| 41/41 [00:16<00:00,  2.46it/s, Loss=3.46, Score=0.568]\n",
      "Valid: 100%|██████████| 6/6 [00:02<00:00,  2.66it/s, Loss=4.28, Score=0.464]\n",
      "Train:   0%|          | 0/41 [00:00<?, ?it/s]"
     ]
    },
    {
     "name": "stdout",
     "output_type": "stream",
     "text": [
      "\n",
      "Epoch: 19\n",
      "NOT FOUND\n",
      "../outputs/UNetFormer-efficientnet-b0_16_adam_Dice.pth\n"
     ]
    },
    {
     "name": "stderr",
     "output_type": "stream",
     "text": [
      "Train: 100%|██████████| 41/41 [00:16<00:00,  2.45it/s, Loss=3.49, Score=0.564]\n",
      "Valid: 100%|██████████| 6/6 [00:02<00:00,  2.70it/s, Loss=4.22, Score=0.472]\n",
      "Train:   0%|          | 0/41 [00:00<?, ?it/s]"
     ]
    },
    {
     "name": "stdout",
     "output_type": "stream",
     "text": [
      "model saved\n",
      "\n",
      "Epoch: 20\n",
      "NOT FOUND\n",
      "../outputs/UNetFormer-efficientnet-b0_16_adam_Dice.pth\n"
     ]
    },
    {
     "name": "stderr",
     "output_type": "stream",
     "text": [
      "Train: 100%|██████████| 41/41 [00:17<00:00,  2.38it/s, Loss=3.37, Score=0.579]\n",
      "Valid: 100%|██████████| 6/6 [00:02<00:00,  2.61it/s, Loss=4.24, Score=0.47] \n",
      "Train:   0%|          | 0/41 [00:00<?, ?it/s]"
     ]
    },
    {
     "name": "stdout",
     "output_type": "stream",
     "text": [
      "\n",
      "Epoch: 21\n",
      "NOT FOUND\n",
      "../outputs/UNetFormer-efficientnet-b0_16_adam_Dice.pth\n"
     ]
    },
    {
     "name": "stderr",
     "output_type": "stream",
     "text": [
      "Train: 100%|██████████| 41/41 [00:16<00:00,  2.47it/s, Loss=3.32, Score=0.586]\n",
      "Valid: 100%|██████████| 6/6 [00:02<00:00,  2.62it/s, Loss=4.31, Score=0.462]\n",
      "Train:   0%|          | 0/41 [00:00<?, ?it/s]"
     ]
    },
    {
     "name": "stdout",
     "output_type": "stream",
     "text": [
      "\n",
      "Epoch: 22\n",
      "NOT FOUND\n",
      "../outputs/UNetFormer-efficientnet-b0_16_adam_Dice.pth\n"
     ]
    },
    {
     "name": "stderr",
     "output_type": "stream",
     "text": [
      "Train: 100%|██████████| 41/41 [00:15<00:00,  2.70it/s, Loss=3.28, Score=0.59] \n",
      "Valid: 100%|██████████| 6/6 [00:02<00:00,  2.77it/s, Loss=4.29, Score=0.464]\n",
      "Train:   0%|          | 0/41 [00:00<?, ?it/s]"
     ]
    },
    {
     "name": "stdout",
     "output_type": "stream",
     "text": [
      "\n",
      "Epoch: 23\n",
      "NOT FOUND\n",
      "../outputs/UNetFormer-efficientnet-b0_16_adam_Dice.pth\n"
     ]
    },
    {
     "name": "stderr",
     "output_type": "stream",
     "text": [
      "Train: 100%|██████████| 41/41 [00:16<00:00,  2.45it/s, Loss=3.34, Score=0.582]\n",
      "Valid: 100%|██████████| 6/6 [00:02<00:00,  2.71it/s, Loss=4.31, Score=0.462]\n",
      "Train:   0%|          | 0/41 [00:00<?, ?it/s]"
     ]
    },
    {
     "name": "stdout",
     "output_type": "stream",
     "text": [
      "\n",
      "Epoch: 24\n",
      "NOT FOUND\n",
      "../outputs/UNetFormer-efficientnet-b0_16_adam_Dice.pth\n"
     ]
    },
    {
     "name": "stderr",
     "output_type": "stream",
     "text": [
      "Train: 100%|██████████| 41/41 [00:15<00:00,  2.68it/s, Loss=3.26, Score=0.593]\n",
      "Valid: 100%|██████████| 6/6 [00:02<00:00,  2.79it/s, Loss=4.28, Score=0.465]\n",
      "Train:   0%|          | 0/41 [00:00<?, ?it/s]"
     ]
    },
    {
     "name": "stdout",
     "output_type": "stream",
     "text": [
      "\n",
      "Epoch: 25\n",
      "NOT FOUND\n",
      "../outputs/UNetFormer-efficientnet-b0_16_adam_Dice.pth\n"
     ]
    },
    {
     "name": "stderr",
     "output_type": "stream",
     "text": [
      "Train: 100%|██████████| 41/41 [00:16<00:00,  2.47it/s, Loss=3.23, Score=0.596]\n",
      "Valid: 100%|██████████| 6/6 [00:02<00:00,  2.45it/s, Loss=4.28, Score=0.465]\n",
      "Train:   0%|          | 0/41 [00:00<?, ?it/s]"
     ]
    },
    {
     "name": "stdout",
     "output_type": "stream",
     "text": [
      "\n",
      "Epoch: 26\n",
      "NOT FOUND\n",
      "../outputs/UNetFormer-efficientnet-b0_16_adam_Dice.pth\n"
     ]
    },
    {
     "name": "stderr",
     "output_type": "stream",
     "text": [
      "Train: 100%|██████████| 41/41 [00:16<00:00,  2.46it/s, Loss=3.27, Score=0.592]\n",
      "Valid: 100%|██████████| 6/6 [00:02<00:00,  2.36it/s, Loss=4.29, Score=0.464]\n",
      "Train:   0%|          | 0/41 [00:00<?, ?it/s]"
     ]
    },
    {
     "name": "stdout",
     "output_type": "stream",
     "text": [
      "\n",
      "Epoch: 27\n",
      "NOT FOUND\n",
      "../outputs/UNetFormer-efficientnet-b0_16_adam_Dice.pth\n"
     ]
    },
    {
     "name": "stderr",
     "output_type": "stream",
     "text": [
      "Train: 100%|██████████| 41/41 [00:16<00:00,  2.42it/s, Loss=3.28, Score=0.59] \n",
      "Valid: 100%|██████████| 6/6 [00:02<00:00,  2.76it/s, Loss=4.28, Score=0.465]\n",
      "Train:   0%|          | 0/41 [00:00<?, ?it/s]"
     ]
    },
    {
     "name": "stdout",
     "output_type": "stream",
     "text": [
      "\n",
      "Epoch: 28\n",
      "NOT FOUND\n",
      "../outputs/UNetFormer-efficientnet-b0_16_adam_Dice.pth\n"
     ]
    },
    {
     "name": "stderr",
     "output_type": "stream",
     "text": [
      "Train: 100%|██████████| 41/41 [00:16<00:00,  2.44it/s, Loss=3.24, Score=0.595]\n",
      "Valid: 100%|██████████| 6/6 [00:02<00:00,  2.65it/s, Loss=4.2, Score=0.475] \n",
      "Train:   0%|          | 0/41 [00:00<?, ?it/s]"
     ]
    },
    {
     "name": "stdout",
     "output_type": "stream",
     "text": [
      "model saved\n",
      "\n",
      "Epoch: 29\n",
      "NOT FOUND\n",
      "../outputs/UNetFormer-efficientnet-b0_16_adam_Dice.pth\n"
     ]
    },
    {
     "name": "stderr",
     "output_type": "stream",
     "text": [
      "Train: 100%|██████████| 41/41 [00:14<00:00,  2.86it/s, Loss=3.14, Score=0.608]\n",
      "Valid: 100%|██████████| 6/6 [00:02<00:00,  2.77it/s, Loss=4.25, Score=0.468]\n",
      "Train:   0%|          | 0/41 [00:00<?, ?it/s]"
     ]
    },
    {
     "name": "stdout",
     "output_type": "stream",
     "text": [
      "\n",
      "Epoch: 30\n",
      "NOT FOUND\n",
      "../outputs/UNetFormer-efficientnet-b0_16_adam_Dice.pth\n"
     ]
    },
    {
     "name": "stderr",
     "output_type": "stream",
     "text": [
      "Train: 100%|██████████| 41/41 [00:16<00:00,  2.46it/s, Loss=3.28, Score=0.59] \n",
      "Valid: 100%|██████████| 6/6 [00:02<00:00,  2.68it/s, Loss=4.36, Score=0.455]\n",
      "Train:   0%|          | 0/41 [00:00<?, ?it/s]"
     ]
    },
    {
     "name": "stdout",
     "output_type": "stream",
     "text": [
      "\n",
      "Epoch: 31\n",
      "NOT FOUND\n",
      "../outputs/UNetFormer-efficientnet-b0_16_adam_Dice.pth\n"
     ]
    },
    {
     "name": "stderr",
     "output_type": "stream",
     "text": [
      "Train: 100%|██████████| 41/41 [00:15<00:00,  2.69it/s, Loss=3.18, Score=0.603]\n",
      "Valid: 100%|██████████| 6/6 [00:02<00:00,  2.67it/s, Loss=4.26, Score=0.468]\n",
      "Train:   0%|          | 0/41 [00:00<?, ?it/s]"
     ]
    },
    {
     "name": "stdout",
     "output_type": "stream",
     "text": [
      "\n",
      "Epoch: 32\n",
      "NOT FOUND\n",
      "../outputs/UNetFormer-efficientnet-b0_16_adam_Dice.pth\n"
     ]
    },
    {
     "name": "stderr",
     "output_type": "stream",
     "text": [
      "Train: 100%|██████████| 41/41 [00:16<00:00,  2.45it/s, Loss=3.2, Score=0.6]   \n",
      "Valid: 100%|██████████| 6/6 [00:02<00:00,  2.73it/s, Loss=4.29, Score=0.464]\n",
      "Train:   0%|          | 0/41 [00:00<?, ?it/s]"
     ]
    },
    {
     "name": "stdout",
     "output_type": "stream",
     "text": [
      "\n",
      "Epoch: 33\n",
      "NOT FOUND\n",
      "../outputs/UNetFormer-efficientnet-b0_16_adam_Dice.pth\n"
     ]
    },
    {
     "name": "stderr",
     "output_type": "stream",
     "text": [
      "Train: 100%|██████████| 41/41 [00:16<00:00,  2.48it/s, Loss=3.28, Score=0.59] \n",
      "Valid: 100%|██████████| 6/6 [00:02<00:00,  2.67it/s, Loss=4.28, Score=0.465]\n",
      "Train:   0%|          | 0/41 [00:00<?, ?it/s]"
     ]
    },
    {
     "name": "stdout",
     "output_type": "stream",
     "text": [
      "\n",
      "Epoch: 34\n",
      "NOT FOUND\n",
      "../outputs/UNetFormer-efficientnet-b0_16_adam_Dice.pth\n"
     ]
    },
    {
     "name": "stderr",
     "output_type": "stream",
     "text": [
      "Train: 100%|██████████| 41/41 [00:16<00:00,  2.44it/s, Loss=3.24, Score=0.595]\n",
      "Valid: 100%|██████████| 6/6 [00:02<00:00,  2.70it/s, Loss=4.27, Score=0.467]\n",
      "Train:   0%|          | 0/41 [00:00<?, ?it/s]"
     ]
    },
    {
     "name": "stdout",
     "output_type": "stream",
     "text": [
      "\n",
      "Epoch: 35\n",
      "NOT FOUND\n",
      "../outputs/UNetFormer-efficientnet-b0_16_adam_Dice.pth\n"
     ]
    },
    {
     "name": "stderr",
     "output_type": "stream",
     "text": [
      "Train: 100%|██████████| 41/41 [00:16<00:00,  2.45it/s, Loss=3.18, Score=0.603]\n",
      "Valid: 100%|██████████| 6/6 [00:02<00:00,  2.73it/s, Loss=4.27, Score=0.466]\n",
      "Train:   0%|          | 0/41 [00:00<?, ?it/s]"
     ]
    },
    {
     "name": "stdout",
     "output_type": "stream",
     "text": [
      "\n",
      "Epoch: 36\n",
      "NOT FOUND\n",
      "../outputs/UNetFormer-efficientnet-b0_16_adam_Dice.pth\n"
     ]
    },
    {
     "name": "stderr",
     "output_type": "stream",
     "text": [
      "Train: 100%|██████████| 41/41 [00:15<00:00,  2.68it/s, Loss=3.19, Score=0.601]\n",
      "Valid: 100%|██████████| 6/6 [00:02<00:00,  2.69it/s, Loss=4.26, Score=0.468]\n",
      "Train:   0%|          | 0/41 [00:00<?, ?it/s]"
     ]
    },
    {
     "name": "stdout",
     "output_type": "stream",
     "text": [
      "\n",
      "Epoch: 37\n",
      "NOT FOUND\n",
      "../outputs/UNetFormer-efficientnet-b0_16_adam_Dice.pth\n"
     ]
    },
    {
     "name": "stderr",
     "output_type": "stream",
     "text": [
      "Train: 100%|██████████| 41/41 [00:16<00:00,  2.45it/s, Loss=3.2, Score=0.6]   \n",
      "Valid: 100%|██████████| 6/6 [00:02<00:00,  2.68it/s, Loss=4.25, Score=0.468]\n",
      "Train:   0%|          | 0/41 [00:00<?, ?it/s]"
     ]
    },
    {
     "name": "stdout",
     "output_type": "stream",
     "text": [
      "\n",
      "Epoch: 38\n",
      "NOT FOUND\n",
      "../outputs/UNetFormer-efficientnet-b0_16_adam_Dice.pth\n"
     ]
    },
    {
     "name": "stderr",
     "output_type": "stream",
     "text": [
      "Train: 100%|██████████| 41/41 [00:15<00:00,  2.67it/s, Loss=3.16, Score=0.605]\n",
      "Valid: 100%|██████████| 6/6 [00:02<00:00,  2.65it/s, Loss=4.25, Score=0.469]\n",
      "Train:   0%|          | 0/41 [00:00<?, ?it/s]"
     ]
    },
    {
     "name": "stdout",
     "output_type": "stream",
     "text": [
      "\n",
      "Epoch: 39\n",
      "NOT FOUND\n",
      "../outputs/UNetFormer-efficientnet-b0_16_adam_Dice.pth\n"
     ]
    },
    {
     "name": "stderr",
     "output_type": "stream",
     "text": [
      "Train: 100%|██████████| 41/41 [00:16<00:00,  2.45it/s, Loss=3.18, Score=0.602]\n",
      "Valid: 100%|██████████| 6/6 [00:02<00:00,  2.74it/s, Loss=4.24, Score=0.47] \n",
      "Train:   0%|          | 0/41 [00:00<?, ?it/s]"
     ]
    },
    {
     "name": "stdout",
     "output_type": "stream",
     "text": [
      "\n",
      "Epoch: 40\n",
      "NOT FOUND\n",
      "../outputs/UNetFormer-efficientnet-b0_16_adam_Dice.pth\n"
     ]
    },
    {
     "name": "stderr",
     "output_type": "stream",
     "text": [
      "Train: 100%|██████████| 41/41 [00:16<00:00,  2.47it/s, Loss=3.18, Score=0.602]\n",
      "Valid: 100%|██████████| 6/6 [00:02<00:00,  2.56it/s, Loss=4.3, Score=0.463] \n",
      "Train:   0%|          | 0/41 [00:00<?, ?it/s]"
     ]
    },
    {
     "name": "stdout",
     "output_type": "stream",
     "text": [
      "\n",
      "Epoch: 41\n",
      "NOT FOUND\n",
      "../outputs/UNetFormer-efficientnet-b0_16_adam_Dice.pth\n"
     ]
    },
    {
     "name": "stderr",
     "output_type": "stream",
     "text": [
      "Train: 100%|██████████| 41/41 [00:16<00:00,  2.45it/s, Loss=3.11, Score=0.611]\n",
      "Valid: 100%|██████████| 6/6 [00:02<00:00,  2.69it/s, Loss=4.23, Score=0.471]\n",
      "Train:   0%|          | 0/41 [00:00<?, ?it/s]"
     ]
    },
    {
     "name": "stdout",
     "output_type": "stream",
     "text": [
      "\n",
      "Epoch: 42\n",
      "NOT FOUND\n",
      "../outputs/UNetFormer-efficientnet-b0_16_adam_Dice.pth\n"
     ]
    },
    {
     "name": "stderr",
     "output_type": "stream",
     "text": [
      "Train: 100%|██████████| 41/41 [00:16<00:00,  2.46it/s, Loss=3.04, Score=0.619]\n",
      "Valid: 100%|██████████| 6/6 [00:02<00:00,  2.75it/s, Loss=4.22, Score=0.473]\n",
      "Train:   0%|          | 0/41 [00:00<?, ?it/s]"
     ]
    },
    {
     "name": "stdout",
     "output_type": "stream",
     "text": [
      "\n",
      "Epoch: 43\n",
      "NOT FOUND\n",
      "../outputs/UNetFormer-efficientnet-b0_16_adam_Dice.pth\n"
     ]
    },
    {
     "name": "stderr",
     "output_type": "stream",
     "text": [
      "Train: 100%|██████████| 41/41 [00:13<00:00,  3.04it/s, Loss=3.09, Score=0.614]\n",
      "Valid: 100%|██████████| 6/6 [00:02<00:00,  2.77it/s, Loss=4.26, Score=0.467]\n",
      "Train:   0%|          | 0/41 [00:00<?, ?it/s]"
     ]
    },
    {
     "name": "stdout",
     "output_type": "stream",
     "text": [
      "\n",
      "Epoch: 44\n",
      "NOT FOUND\n",
      "../outputs/UNetFormer-efficientnet-b0_16_adam_Dice.pth\n"
     ]
    },
    {
     "name": "stderr",
     "output_type": "stream",
     "text": [
      "Train: 100%|██████████| 41/41 [00:16<00:00,  2.44it/s, Loss=3.19, Score=0.601]\n",
      "Valid: 100%|██████████| 6/6 [00:02<00:00,  2.74it/s, Loss=4.25, Score=0.469]\n",
      "Train:   0%|          | 0/41 [00:00<?, ?it/s]"
     ]
    },
    {
     "name": "stdout",
     "output_type": "stream",
     "text": [
      "\n",
      "Epoch: 45\n",
      "NOT FOUND\n",
      "../outputs/UNetFormer-efficientnet-b0_16_adam_Dice.pth\n"
     ]
    },
    {
     "name": "stderr",
     "output_type": "stream",
     "text": [
      "Train: 100%|██████████| 41/41 [00:15<00:00,  2.58it/s, Loss=3.13, Score=0.609]\n",
      "Valid: 100%|██████████| 6/6 [00:02<00:00,  2.52it/s, Loss=4.24, Score=0.47] \n",
      "Train:   0%|          | 0/41 [00:00<?, ?it/s]"
     ]
    },
    {
     "name": "stdout",
     "output_type": "stream",
     "text": [
      "\n",
      "Epoch: 46\n",
      "NOT FOUND\n",
      "../outputs/UNetFormer-efficientnet-b0_16_adam_Dice.pth\n"
     ]
    },
    {
     "name": "stderr",
     "output_type": "stream",
     "text": [
      "Train: 100%|██████████| 41/41 [00:16<00:00,  2.44it/s, Loss=3.13, Score=0.609]\n",
      "Valid: 100%|██████████| 6/6 [00:02<00:00,  2.66it/s, Loss=4.27, Score=0.466]\n",
      "Train:   0%|          | 0/41 [00:00<?, ?it/s]"
     ]
    },
    {
     "name": "stdout",
     "output_type": "stream",
     "text": [
      "\n",
      "Epoch: 47\n",
      "NOT FOUND\n",
      "../outputs/UNetFormer-efficientnet-b0_16_adam_Dice.pth\n"
     ]
    },
    {
     "name": "stderr",
     "output_type": "stream",
     "text": [
      "Train: 100%|██████████| 41/41 [00:16<00:00,  2.45it/s, Loss=3.13, Score=0.608]\n",
      "Valid: 100%|██████████| 6/6 [00:02<00:00,  2.95it/s, Loss=4.3, Score=0.463] \n",
      "Train:   0%|          | 0/41 [00:00<?, ?it/s]"
     ]
    },
    {
     "name": "stdout",
     "output_type": "stream",
     "text": [
      "\n",
      "Epoch: 48\n",
      "NOT FOUND\n",
      "../outputs/UNetFormer-efficientnet-b0_16_adam_Dice.pth\n"
     ]
    },
    {
     "name": "stderr",
     "output_type": "stream",
     "text": [
      "Train: 100%|██████████| 41/41 [00:16<00:00,  2.42it/s, Loss=3.01, Score=0.624]\n",
      "Valid: 100%|██████████| 6/6 [00:02<00:00,  2.62it/s, Loss=4.26, Score=0.468]\n",
      "Train:   0%|          | 0/41 [00:00<?, ?it/s]"
     ]
    },
    {
     "name": "stdout",
     "output_type": "stream",
     "text": [
      "\n",
      "Epoch: 49\n",
      "NOT FOUND\n",
      "../outputs/UNetFormer-efficientnet-b0_16_adam_Dice.pth\n"
     ]
    },
    {
     "name": "stderr",
     "output_type": "stream",
     "text": [
      "Train: 100%|██████████| 41/41 [00:16<00:00,  2.44it/s, Loss=3.12, Score=0.61] \n",
      "Valid: 100%|██████████| 6/6 [00:02<00:00,  2.75it/s, Loss=4.19, Score=0.476]\n",
      "Train:   0%|          | 0/41 [00:00<?, ?it/s]"
     ]
    },
    {
     "name": "stdout",
     "output_type": "stream",
     "text": [
      "model saved\n",
      "\n",
      "Epoch: 50\n",
      "NOT FOUND\n",
      "../outputs/UNetFormer-efficientnet-b0_16_adam_Dice.pth\n"
     ]
    },
    {
     "name": "stderr",
     "output_type": "stream",
     "text": [
      "Train: 100%|██████████| 41/41 [00:16<00:00,  2.55it/s, Loss=3.14, Score=0.608]\n",
      "Valid: 100%|██████████| 6/6 [00:02<00:00,  2.71it/s, Loss=4.2, Score=0.476] \n",
      "Train:   0%|          | 0/41 [00:00<?, ?it/s]"
     ]
    },
    {
     "name": "stdout",
     "output_type": "stream",
     "text": [
      "\n",
      "Epoch: 51\n",
      "NOT FOUND\n",
      "../outputs/UNetFormer-efficientnet-b0_16_adam_Dice.pth\n"
     ]
    },
    {
     "name": "stderr",
     "output_type": "stream",
     "text": [
      "Train: 100%|██████████| 41/41 [00:16<00:00,  2.43it/s, Loss=3.04, Score=0.62] \n",
      "Valid: 100%|██████████| 6/6 [00:02<00:00,  2.71it/s, Loss=4.24, Score=0.47] \n",
      "Train:   0%|          | 0/41 [00:00<?, ?it/s]"
     ]
    },
    {
     "name": "stdout",
     "output_type": "stream",
     "text": [
      "\n",
      "Epoch: 52\n",
      "NOT FOUND\n",
      "../outputs/UNetFormer-efficientnet-b0_16_adam_Dice.pth\n"
     ]
    },
    {
     "name": "stderr",
     "output_type": "stream",
     "text": [
      "Train: 100%|██████████| 41/41 [00:15<00:00,  2.66it/s, Loss=3.0, Score=0.625] \n",
      "Valid: 100%|██████████| 6/6 [00:02<00:00,  2.77it/s, Loss=4.3, Score=0.462] \n",
      "Train:   0%|          | 0/41 [00:00<?, ?it/s]"
     ]
    },
    {
     "name": "stdout",
     "output_type": "stream",
     "text": [
      "\n",
      "Epoch: 53\n",
      "NOT FOUND\n",
      "../outputs/UNetFormer-efficientnet-b0_16_adam_Dice.pth\n"
     ]
    },
    {
     "name": "stderr",
     "output_type": "stream",
     "text": [
      "Train: 100%|██████████| 41/41 [00:16<00:00,  2.46it/s, Loss=3.12, Score=0.61] \n",
      "Valid: 100%|██████████| 6/6 [00:02<00:00,  2.76it/s, Loss=4.33, Score=0.459]\n",
      "Train:   0%|          | 0/41 [00:00<?, ?it/s]"
     ]
    },
    {
     "name": "stdout",
     "output_type": "stream",
     "text": [
      "\n",
      "Epoch: 54\n",
      "NOT FOUND\n",
      "../outputs/UNetFormer-efficientnet-b0_16_adam_Dice.pth\n"
     ]
    },
    {
     "name": "stderr",
     "output_type": "stream",
     "text": [
      "Train: 100%|██████████| 41/41 [00:15<00:00,  2.64it/s, Loss=2.96, Score=0.63] \n",
      "Valid: 100%|██████████| 6/6 [00:02<00:00,  2.56it/s, Loss=4.25, Score=0.469]\n",
      "Train:   0%|          | 0/41 [00:00<?, ?it/s]"
     ]
    },
    {
     "name": "stdout",
     "output_type": "stream",
     "text": [
      "\n",
      "Epoch: 55\n",
      "NOT FOUND\n",
      "../outputs/UNetFormer-efficientnet-b0_16_adam_Dice.pth\n"
     ]
    },
    {
     "name": "stderr",
     "output_type": "stream",
     "text": [
      "Train: 100%|██████████| 41/41 [00:16<00:00,  2.50it/s, Loss=3.12, Score=0.609]\n",
      "Valid: 100%|██████████| 6/6 [00:02<00:00,  2.69it/s, Loss=4.21, Score=0.473]\n",
      "Train:   0%|          | 0/41 [00:00<?, ?it/s]"
     ]
    },
    {
     "name": "stdout",
     "output_type": "stream",
     "text": [
      "\n",
      "Epoch: 56\n",
      "NOT FOUND\n",
      "../outputs/UNetFormer-efficientnet-b0_16_adam_Dice.pth\n"
     ]
    },
    {
     "name": "stderr",
     "output_type": "stream",
     "text": [
      "Train: 100%|██████████| 41/41 [00:16<00:00,  2.47it/s, Loss=2.99, Score=0.627]\n",
      "Valid: 100%|██████████| 6/6 [00:02<00:00,  2.84it/s, Loss=4.27, Score=0.466]\n",
      "Train:   0%|          | 0/41 [00:00<?, ?it/s]"
     ]
    },
    {
     "name": "stdout",
     "output_type": "stream",
     "text": [
      "\n",
      "Epoch: 57\n",
      "NOT FOUND\n",
      "../outputs/UNetFormer-efficientnet-b0_16_adam_Dice.pth\n"
     ]
    },
    {
     "name": "stderr",
     "output_type": "stream",
     "text": [
      "Train: 100%|██████████| 41/41 [00:11<00:00,  3.64it/s, Loss=3.06, Score=0.618]\n",
      "Valid: 100%|██████████| 6/6 [00:02<00:00,  2.81it/s, Loss=4.33, Score=0.459]\n",
      "Train:   0%|          | 0/41 [00:00<?, ?it/s]"
     ]
    },
    {
     "name": "stdout",
     "output_type": "stream",
     "text": [
      "\n",
      "Epoch: 58\n",
      "NOT FOUND\n",
      "../outputs/UNetFormer-efficientnet-b0_16_adam_Dice.pth\n"
     ]
    },
    {
     "name": "stderr",
     "output_type": "stream",
     "text": [
      "Train: 100%|██████████| 41/41 [00:13<00:00,  2.93it/s, Loss=3.06, Score=0.618]\n",
      "Valid: 100%|██████████| 6/6 [00:02<00:00,  2.56it/s, Loss=4.43, Score=0.447]\n",
      "Train:   0%|          | 0/41 [00:00<?, ?it/s]"
     ]
    },
    {
     "name": "stdout",
     "output_type": "stream",
     "text": [
      "\n",
      "Epoch: 59\n",
      "NOT FOUND\n",
      "../outputs/UNetFormer-efficientnet-b0_16_adam_Dice.pth\n"
     ]
    },
    {
     "name": "stderr",
     "output_type": "stream",
     "text": [
      "Train: 100%|██████████| 41/41 [00:16<00:00,  2.43it/s, Loss=3.07, Score=0.617]\n",
      "Valid: 100%|██████████| 6/6 [00:02<00:00,  2.54it/s, Loss=4.32, Score=0.46] \n",
      "Train:   0%|          | 0/41 [00:00<?, ?it/s]"
     ]
    },
    {
     "name": "stdout",
     "output_type": "stream",
     "text": [
      "\n",
      "Epoch: 60\n",
      "NOT FOUND\n",
      "../outputs/UNetFormer-efficientnet-b0_16_adam_Dice.pth\n"
     ]
    },
    {
     "name": "stderr",
     "output_type": "stream",
     "text": [
      "Train: 100%|██████████| 41/41 [00:15<00:00,  2.63it/s, Loss=3.01, Score=0.624]\n",
      "Valid: 100%|██████████| 6/6 [00:02<00:00,  2.74it/s, Loss=4.3, Score=0.462] \n",
      "Train:   0%|          | 0/41 [00:00<?, ?it/s]"
     ]
    },
    {
     "name": "stdout",
     "output_type": "stream",
     "text": [
      "\n",
      "Epoch: 61\n",
      "NOT FOUND\n",
      "../outputs/UNetFormer-efficientnet-b0_16_adam_Dice.pth\n"
     ]
    },
    {
     "name": "stderr",
     "output_type": "stream",
     "text": [
      "Train: 100%|██████████| 41/41 [00:16<00:00,  2.46it/s, Loss=3.11, Score=0.612]\n",
      "Valid: 100%|██████████| 6/6 [00:02<00:00,  2.78it/s, Loss=4.24, Score=0.471]\n",
      "Train:   0%|          | 0/41 [00:00<?, ?it/s]"
     ]
    },
    {
     "name": "stdout",
     "output_type": "stream",
     "text": [
      "\n",
      "Epoch: 62\n",
      "NOT FOUND\n",
      "../outputs/UNetFormer-efficientnet-b0_16_adam_Dice.pth\n"
     ]
    },
    {
     "name": "stderr",
     "output_type": "stream",
     "text": [
      "Train: 100%|██████████| 41/41 [00:16<00:00,  2.44it/s, Loss=3.01, Score=0.624]\n",
      "Valid: 100%|██████████| 6/6 [00:02<00:00,  2.91it/s, Loss=4.26, Score=0.468]\n",
      "Train:   0%|          | 0/41 [00:00<?, ?it/s]"
     ]
    },
    {
     "name": "stdout",
     "output_type": "stream",
     "text": [
      "\n",
      "Epoch: 63\n",
      "NOT FOUND\n",
      "../outputs/UNetFormer-efficientnet-b0_16_adam_Dice.pth\n"
     ]
    },
    {
     "name": "stderr",
     "output_type": "stream",
     "text": [
      "Train: 100%|██████████| 41/41 [00:16<00:00,  2.41it/s, Loss=3.02, Score=0.623]\n",
      "Valid: 100%|██████████| 6/6 [00:02<00:00,  2.76it/s, Loss=4.18, Score=0.477]\n",
      "Train:   0%|          | 0/41 [00:00<?, ?it/s]"
     ]
    },
    {
     "name": "stdout",
     "output_type": "stream",
     "text": [
      "model saved\n",
      "\n",
      "Epoch: 64\n",
      "NOT FOUND\n",
      "../outputs/UNetFormer-efficientnet-b0_16_adam_Dice.pth\n"
     ]
    },
    {
     "name": "stderr",
     "output_type": "stream",
     "text": [
      "Train: 100%|██████████| 41/41 [00:16<00:00,  2.44it/s, Loss=3.04, Score=0.62] \n",
      "Valid: 100%|██████████| 6/6 [00:02<00:00,  2.71it/s, Loss=4.21, Score=0.474]\n",
      "Train:   0%|          | 0/41 [00:00<?, ?it/s]"
     ]
    },
    {
     "name": "stdout",
     "output_type": "stream",
     "text": [
      "\n",
      "Epoch: 65\n",
      "NOT FOUND\n",
      "../outputs/UNetFormer-efficientnet-b0_16_adam_Dice.pth\n"
     ]
    },
    {
     "name": "stderr",
     "output_type": "stream",
     "text": [
      "Train: 100%|██████████| 41/41 [00:16<00:00,  2.55it/s, Loss=2.91, Score=0.636]\n",
      "Valid: 100%|██████████| 6/6 [00:02<00:00,  2.74it/s, Loss=4.2, Score=0.476] \n",
      "Train:   0%|          | 0/41 [00:00<?, ?it/s]"
     ]
    },
    {
     "name": "stdout",
     "output_type": "stream",
     "text": [
      "\n",
      "Epoch: 66\n",
      "NOT FOUND\n",
      "../outputs/UNetFormer-efficientnet-b0_16_adam_Dice.pth\n"
     ]
    },
    {
     "name": "stderr",
     "output_type": "stream",
     "text": [
      "Train: 100%|██████████| 41/41 [00:16<00:00,  2.44it/s, Loss=3.03, Score=0.621]\n",
      "Valid: 100%|██████████| 6/6 [00:02<00:00,  2.66it/s, Loss=4.19, Score=0.476]\n",
      "Train:   0%|          | 0/41 [00:00<?, ?it/s]"
     ]
    },
    {
     "name": "stdout",
     "output_type": "stream",
     "text": [
      "\n",
      "Epoch: 67\n",
      "NOT FOUND\n",
      "../outputs/UNetFormer-efficientnet-b0_16_adam_Dice.pth\n"
     ]
    },
    {
     "name": "stderr",
     "output_type": "stream",
     "text": [
      "Train: 100%|██████████| 41/41 [00:15<00:00,  2.67it/s, Loss=3.03, Score=0.622]\n",
      "Valid: 100%|██████████| 6/6 [00:02<00:00,  2.73it/s, Loss=4.19, Score=0.477]\n",
      "Train:   0%|          | 0/41 [00:00<?, ?it/s]"
     ]
    },
    {
     "name": "stdout",
     "output_type": "stream",
     "text": [
      "\n",
      "Epoch: 68\n",
      "NOT FOUND\n",
      "../outputs/UNetFormer-efficientnet-b0_16_adam_Dice.pth\n"
     ]
    },
    {
     "name": "stderr",
     "output_type": "stream",
     "text": [
      "Train: 100%|██████████| 41/41 [00:16<00:00,  2.45it/s, Loss=2.87, Score=0.642]\n",
      "Valid: 100%|██████████| 6/6 [00:02<00:00,  2.68it/s, Loss=4.19, Score=0.476]\n",
      "Train:   0%|          | 0/41 [00:00<?, ?it/s]"
     ]
    },
    {
     "name": "stdout",
     "output_type": "stream",
     "text": [
      "\n",
      "Epoch: 69\n",
      "NOT FOUND\n",
      "../outputs/UNetFormer-efficientnet-b0_16_adam_Dice.pth\n"
     ]
    },
    {
     "name": "stderr",
     "output_type": "stream",
     "text": [
      "Train: 100%|██████████| 41/41 [00:15<00:00,  2.57it/s, Loss=3.01, Score=0.623]\n",
      "Valid: 100%|██████████| 6/6 [00:02<00:00,  2.51it/s, Loss=4.18, Score=0.478]\n",
      "Train:   0%|          | 0/41 [00:00<?, ?it/s]"
     ]
    },
    {
     "name": "stdout",
     "output_type": "stream",
     "text": [
      "model saved\n",
      "\n",
      "Epoch: 70\n",
      "NOT FOUND\n",
      "../outputs/UNetFormer-efficientnet-b0_16_adam_Dice.pth\n"
     ]
    },
    {
     "name": "stderr",
     "output_type": "stream",
     "text": [
      "Train: 100%|██████████| 41/41 [00:16<00:00,  2.46it/s, Loss=2.93, Score=0.634]\n",
      "Valid: 100%|██████████| 6/6 [00:02<00:00,  2.54it/s, Loss=4.23, Score=0.472]\n",
      "Train:   0%|          | 0/41 [00:00<?, ?it/s]"
     ]
    },
    {
     "name": "stdout",
     "output_type": "stream",
     "text": [
      "\n",
      "Epoch: 71\n",
      "NOT FOUND\n",
      "../outputs/UNetFormer-efficientnet-b0_16_adam_Dice.pth\n"
     ]
    },
    {
     "name": "stderr",
     "output_type": "stream",
     "text": [
      "Train: 100%|██████████| 41/41 [00:16<00:00,  2.46it/s, Loss=2.95, Score=0.631]\n",
      "Valid: 100%|██████████| 6/6 [00:02<00:00,  2.43it/s, Loss=4.23, Score=0.472]\n",
      "Train:   0%|          | 0/41 [00:00<?, ?it/s]"
     ]
    },
    {
     "name": "stdout",
     "output_type": "stream",
     "text": [
      "\n",
      "Epoch: 72\n",
      "NOT FOUND\n",
      "../outputs/UNetFormer-efficientnet-b0_16_adam_Dice.pth\n"
     ]
    },
    {
     "name": "stderr",
     "output_type": "stream",
     "text": [
      "Train: 100%|██████████| 41/41 [00:16<00:00,  2.41it/s, Loss=2.86, Score=0.642]\n",
      "Valid: 100%|██████████| 6/6 [00:02<00:00,  2.57it/s, Loss=4.26, Score=0.468]\n",
      "Train:   0%|          | 0/41 [00:00<?, ?it/s]"
     ]
    },
    {
     "name": "stdout",
     "output_type": "stream",
     "text": [
      "\n",
      "Epoch: 73\n",
      "NOT FOUND\n",
      "../outputs/UNetFormer-efficientnet-b0_16_adam_Dice.pth\n"
     ]
    },
    {
     "name": "stderr",
     "output_type": "stream",
     "text": [
      "Train: 100%|██████████| 41/41 [00:16<00:00,  2.42it/s, Loss=2.88, Score=0.64] \n",
      "Valid: 100%|██████████| 6/6 [00:02<00:00,  2.70it/s, Loss=4.21, Score=0.474]\n",
      "Train:   0%|          | 0/41 [00:00<?, ?it/s]"
     ]
    },
    {
     "name": "stdout",
     "output_type": "stream",
     "text": [
      "\n",
      "Epoch: 74\n",
      "NOT FOUND\n",
      "../outputs/UNetFormer-efficientnet-b0_16_adam_Dice.pth\n"
     ]
    },
    {
     "name": "stderr",
     "output_type": "stream",
     "text": [
      "Train: 100%|██████████| 41/41 [00:16<00:00,  2.54it/s, Loss=2.93, Score=0.634]\n",
      "Valid: 100%|██████████| 6/6 [00:02<00:00,  2.60it/s, Loss=4.22, Score=0.472]\n",
      "Train:   0%|          | 0/41 [00:00<?, ?it/s]"
     ]
    },
    {
     "name": "stdout",
     "output_type": "stream",
     "text": [
      "\n",
      "Epoch: 75\n",
      "NOT FOUND\n",
      "../outputs/UNetFormer-efficientnet-b0_16_adam_Dice.pth\n"
     ]
    },
    {
     "name": "stderr",
     "output_type": "stream",
     "text": [
      "Train: 100%|██████████| 41/41 [00:16<00:00,  2.42it/s, Loss=2.96, Score=0.629]\n",
      "Valid: 100%|██████████| 6/6 [00:02<00:00,  2.53it/s, Loss=4.24, Score=0.47] \n",
      "Train:   0%|          | 0/41 [00:00<?, ?it/s]"
     ]
    },
    {
     "name": "stdout",
     "output_type": "stream",
     "text": [
      "\n",
      "Epoch: 76\n",
      "NOT FOUND\n",
      "../outputs/UNetFormer-efficientnet-b0_16_adam_Dice.pth\n"
     ]
    },
    {
     "name": "stderr",
     "output_type": "stream",
     "text": [
      "Train: 100%|██████████| 41/41 [00:15<00:00,  2.69it/s, Loss=2.9, Score=0.637] \n",
      "Valid: 100%|██████████| 6/6 [00:02<00:00,  2.51it/s, Loss=4.29, Score=0.464]\n",
      "Train:   0%|          | 0/41 [00:00<?, ?it/s]"
     ]
    },
    {
     "name": "stdout",
     "output_type": "stream",
     "text": [
      "\n",
      "Epoch: 77\n",
      "NOT FOUND\n",
      "../outputs/UNetFormer-efficientnet-b0_16_adam_Dice.pth\n"
     ]
    },
    {
     "name": "stderr",
     "output_type": "stream",
     "text": [
      "Train: 100%|██████████| 41/41 [00:16<00:00,  2.45it/s, Loss=2.83, Score=0.646]\n",
      "Valid: 100%|██████████| 6/6 [00:02<00:00,  2.51it/s, Loss=4.24, Score=0.47] \n",
      "Train:   0%|          | 0/41 [00:00<?, ?it/s]"
     ]
    },
    {
     "name": "stdout",
     "output_type": "stream",
     "text": [
      "\n",
      "Epoch: 78\n",
      "NOT FOUND\n",
      "../outputs/UNetFormer-efficientnet-b0_16_adam_Dice.pth\n"
     ]
    },
    {
     "name": "stderr",
     "output_type": "stream",
     "text": [
      "Train: 100%|██████████| 41/41 [00:15<00:00,  2.59it/s, Loss=2.92, Score=0.635]\n",
      "Valid: 100%|██████████| 6/6 [00:02<00:00,  2.46it/s, Loss=4.24, Score=0.47] \n",
      "Train:   0%|          | 0/41 [00:00<?, ?it/s]"
     ]
    },
    {
     "name": "stdout",
     "output_type": "stream",
     "text": [
      "\n",
      "Epoch: 79\n",
      "NOT FOUND\n",
      "../outputs/UNetFormer-efficientnet-b0_16_adam_Dice.pth\n"
     ]
    },
    {
     "name": "stderr",
     "output_type": "stream",
     "text": [
      "Train: 100%|██████████| 41/41 [00:16<00:00,  2.45it/s, Loss=2.99, Score=0.626]\n",
      "Valid: 100%|██████████| 6/6 [00:02<00:00,  2.74it/s, Loss=4.24, Score=0.47] \n",
      "Train:   0%|          | 0/41 [00:00<?, ?it/s]"
     ]
    },
    {
     "name": "stdout",
     "output_type": "stream",
     "text": [
      "\n",
      "Epoch: 80\n",
      "NOT FOUND\n",
      "../outputs/UNetFormer-efficientnet-b0_16_adam_Dice.pth\n"
     ]
    },
    {
     "name": "stderr",
     "output_type": "stream",
     "text": [
      "Train: 100%|██████████| 41/41 [00:16<00:00,  2.42it/s, Loss=2.93, Score=0.634]\n",
      "Valid: 100%|██████████| 6/6 [00:02<00:00,  2.86it/s, Loss=4.24, Score=0.47] \n",
      "Train:   0%|          | 0/41 [00:00<?, ?it/s]"
     ]
    },
    {
     "name": "stdout",
     "output_type": "stream",
     "text": [
      "\n",
      "Epoch: 81\n",
      "NOT FOUND\n",
      "../outputs/UNetFormer-efficientnet-b0_16_adam_Dice.pth\n"
     ]
    },
    {
     "name": "stderr",
     "output_type": "stream",
     "text": [
      "Train: 100%|██████████| 41/41 [00:16<00:00,  2.43it/s, Loss=2.87, Score=0.641]\n",
      "Valid: 100%|██████████| 6/6 [00:02<00:00,  2.69it/s, Loss=4.19, Score=0.476]\n",
      "Train:   0%|          | 0/41 [00:00<?, ?it/s]"
     ]
    },
    {
     "name": "stdout",
     "output_type": "stream",
     "text": [
      "\n",
      "Epoch: 82\n",
      "NOT FOUND\n",
      "../outputs/UNetFormer-efficientnet-b0_16_adam_Dice.pth\n"
     ]
    },
    {
     "name": "stderr",
     "output_type": "stream",
     "text": [
      "Train: 100%|██████████| 41/41 [00:16<00:00,  2.46it/s, Loss=2.85, Score=0.643]\n",
      "Valid: 100%|██████████| 6/6 [00:02<00:00,  2.69it/s, Loss=4.15, Score=0.481]\n",
      "Train:   0%|          | 0/41 [00:00<?, ?it/s]"
     ]
    },
    {
     "name": "stdout",
     "output_type": "stream",
     "text": [
      "model saved\n",
      "\n",
      "Epoch: 83\n",
      "NOT FOUND\n",
      "../outputs/UNetFormer-efficientnet-b0_16_adam_Dice.pth\n"
     ]
    },
    {
     "name": "stderr",
     "output_type": "stream",
     "text": [
      "Train: 100%|██████████| 41/41 [00:15<00:00,  2.65it/s, Loss=2.86, Score=0.642]\n",
      "Valid: 100%|██████████| 6/6 [00:02<00:00,  2.73it/s, Loss=4.15, Score=0.482]\n",
      "Train:   0%|          | 0/41 [00:00<?, ?it/s]"
     ]
    },
    {
     "name": "stdout",
     "output_type": "stream",
     "text": [
      "model saved\n",
      "\n",
      "Epoch: 84\n",
      "NOT FOUND\n",
      "../outputs/UNetFormer-efficientnet-b0_16_adam_Dice.pth\n"
     ]
    },
    {
     "name": "stderr",
     "output_type": "stream",
     "text": [
      "Train: 100%|██████████| 41/41 [00:16<00:00,  2.44it/s, Loss=2.87, Score=0.641]\n",
      "Valid: 100%|██████████| 6/6 [00:02<00:00,  2.64it/s, Loss=4.16, Score=0.48] \n",
      "Train:   0%|          | 0/41 [00:00<?, ?it/s]"
     ]
    },
    {
     "name": "stdout",
     "output_type": "stream",
     "text": [
      "\n",
      "Epoch: 85\n",
      "NOT FOUND\n",
      "../outputs/UNetFormer-efficientnet-b0_16_adam_Dice.pth\n"
     ]
    },
    {
     "name": "stderr",
     "output_type": "stream",
     "text": [
      "Train: 100%|██████████| 41/41 [00:15<00:00,  2.65it/s, Loss=3.0, Score=0.626] \n",
      "Valid: 100%|██████████| 6/6 [00:02<00:00,  2.74it/s, Loss=4.13, Score=0.484]\n",
      "Train:   0%|          | 0/41 [00:00<?, ?it/s]"
     ]
    },
    {
     "name": "stdout",
     "output_type": "stream",
     "text": [
      "model saved\n",
      "\n",
      "Epoch: 86\n",
      "NOT FOUND\n",
      "../outputs/UNetFormer-efficientnet-b0_16_adam_Dice.pth\n"
     ]
    },
    {
     "name": "stderr",
     "output_type": "stream",
     "text": [
      "Train: 100%|██████████| 41/41 [00:16<00:00,  2.43it/s, Loss=2.94, Score=0.633]\n",
      "Valid: 100%|██████████| 6/6 [00:02<00:00,  2.68it/s, Loss=4.13, Score=0.483]\n",
      "Train:   0%|          | 0/41 [00:00<?, ?it/s]"
     ]
    },
    {
     "name": "stdout",
     "output_type": "stream",
     "text": [
      "\n",
      "Epoch: 87\n",
      "NOT FOUND\n",
      "../outputs/UNetFormer-efficientnet-b0_16_adam_Dice.pth\n"
     ]
    },
    {
     "name": "stderr",
     "output_type": "stream",
     "text": [
      "Train: 100%|██████████| 41/41 [00:15<00:00,  2.66it/s, Loss=2.88, Score=0.64] \n",
      "Valid: 100%|██████████| 6/6 [00:02<00:00,  2.69it/s, Loss=4.13, Score=0.484]\n",
      "Train:   0%|          | 0/41 [00:00<?, ?it/s]"
     ]
    },
    {
     "name": "stdout",
     "output_type": "stream",
     "text": [
      "\n",
      "Epoch: 88\n",
      "NOT FOUND\n",
      "../outputs/UNetFormer-efficientnet-b0_16_adam_Dice.pth\n"
     ]
    },
    {
     "name": "stderr",
     "output_type": "stream",
     "text": [
      "Train: 100%|██████████| 41/41 [00:16<00:00,  2.43it/s, Loss=2.94, Score=0.633]\n",
      "Valid: 100%|██████████| 6/6 [00:02<00:00,  2.67it/s, Loss=4.14, Score=0.482]\n",
      "Train:   0%|          | 0/41 [00:00<?, ?it/s]"
     ]
    },
    {
     "name": "stdout",
     "output_type": "stream",
     "text": [
      "\n",
      "Epoch: 89\n",
      "NOT FOUND\n",
      "../outputs/UNetFormer-efficientnet-b0_16_adam_Dice.pth\n"
     ]
    },
    {
     "name": "stderr",
     "output_type": "stream",
     "text": [
      "Train: 100%|██████████| 41/41 [00:16<00:00,  2.48it/s, Loss=2.95, Score=0.631]\n",
      "Valid: 100%|██████████| 6/6 [00:02<00:00,  2.82it/s, Loss=4.18, Score=0.477]\n",
      "Train:   0%|          | 0/41 [00:00<?, ?it/s]"
     ]
    },
    {
     "name": "stdout",
     "output_type": "stream",
     "text": [
      "\n",
      "Epoch: 90\n",
      "NOT FOUND\n",
      "../outputs/UNetFormer-efficientnet-b0_16_adam_Dice.pth\n"
     ]
    },
    {
     "name": "stderr",
     "output_type": "stream",
     "text": [
      "Train: 100%|██████████| 41/41 [00:16<00:00,  2.42it/s, Loss=2.84, Score=0.645]\n",
      "Valid: 100%|██████████| 6/6 [00:02<00:00,  2.71it/s, Loss=4.13, Score=0.483]\n",
      "Train:   0%|          | 0/41 [00:00<?, ?it/s]"
     ]
    },
    {
     "name": "stdout",
     "output_type": "stream",
     "text": [
      "\n",
      "Epoch: 91\n",
      "NOT FOUND\n",
      "../outputs/UNetFormer-efficientnet-b0_16_adam_Dice.pth\n"
     ]
    },
    {
     "name": "stderr",
     "output_type": "stream",
     "text": [
      "Train: 100%|██████████| 41/41 [00:16<00:00,  2.43it/s, Loss=2.81, Score=0.648]\n",
      "Valid: 100%|██████████| 6/6 [00:02<00:00,  2.71it/s, Loss=4.08, Score=0.49] \n",
      "Train:   0%|          | 0/41 [00:00<?, ?it/s]"
     ]
    },
    {
     "name": "stdout",
     "output_type": "stream",
     "text": [
      "model saved\n",
      "\n",
      "Epoch: 92\n",
      "NOT FOUND\n",
      "../outputs/UNetFormer-efficientnet-b0_16_adam_Dice.pth\n"
     ]
    },
    {
     "name": "stderr",
     "output_type": "stream",
     "text": [
      "Train: 100%|██████████| 41/41 [00:16<00:00,  2.51it/s, Loss=2.85, Score=0.644]\n",
      "Valid: 100%|██████████| 6/6 [00:02<00:00,  2.73it/s, Loss=4.14, Score=0.483]\n",
      "Train:   0%|          | 0/41 [00:00<?, ?it/s]"
     ]
    },
    {
     "name": "stdout",
     "output_type": "stream",
     "text": [
      "\n",
      "Epoch: 93\n",
      "NOT FOUND\n",
      "../outputs/UNetFormer-efficientnet-b0_16_adam_Dice.pth\n"
     ]
    },
    {
     "name": "stderr",
     "output_type": "stream",
     "text": [
      "Train: 100%|██████████| 41/41 [00:16<00:00,  2.44it/s, Loss=2.82, Score=0.648]\n",
      "Valid: 100%|██████████| 6/6 [00:02<00:00,  2.53it/s, Loss=4.14, Score=0.483]\n",
      "Train:   0%|          | 0/41 [00:00<?, ?it/s]"
     ]
    },
    {
     "name": "stdout",
     "output_type": "stream",
     "text": [
      "\n",
      "Epoch: 94\n",
      "NOT FOUND\n",
      "../outputs/UNetFormer-efficientnet-b0_16_adam_Dice.pth\n"
     ]
    },
    {
     "name": "stderr",
     "output_type": "stream",
     "text": [
      "Train: 100%|██████████| 41/41 [00:15<00:00,  2.67it/s, Loss=2.9, Score=0.638] \n",
      "Valid: 100%|██████████| 6/6 [00:02<00:00,  2.67it/s, Loss=4.13, Score=0.484]\n",
      "Train:   0%|          | 0/41 [00:00<?, ?it/s]"
     ]
    },
    {
     "name": "stdout",
     "output_type": "stream",
     "text": [
      "\n",
      "Epoch: 95\n",
      "NOT FOUND\n",
      "../outputs/UNetFormer-efficientnet-b0_16_adam_Dice.pth\n"
     ]
    },
    {
     "name": "stderr",
     "output_type": "stream",
     "text": [
      "Train: 100%|██████████| 41/41 [00:16<00:00,  2.43it/s, Loss=2.76, Score=0.655]\n",
      "Valid: 100%|██████████| 6/6 [00:02<00:00,  2.71it/s, Loss=4.13, Score=0.484]\n",
      "Train:   0%|          | 0/41 [00:00<?, ?it/s]"
     ]
    },
    {
     "name": "stdout",
     "output_type": "stream",
     "text": [
      "\n",
      "Epoch: 96\n",
      "NOT FOUND\n",
      "../outputs/UNetFormer-efficientnet-b0_16_adam_Dice.pth\n"
     ]
    },
    {
     "name": "stderr",
     "output_type": "stream",
     "text": [
      "Train: 100%|██████████| 41/41 [00:15<00:00,  2.68it/s, Loss=2.79, Score=0.651]\n",
      "Valid: 100%|██████████| 6/6 [00:02<00:00,  2.58it/s, Loss=4.17, Score=0.479]\n",
      "Train:   0%|          | 0/41 [00:00<?, ?it/s]"
     ]
    },
    {
     "name": "stdout",
     "output_type": "stream",
     "text": [
      "\n",
      "Epoch: 97\n",
      "NOT FOUND\n",
      "../outputs/UNetFormer-efficientnet-b0_16_adam_Dice.pth\n"
     ]
    },
    {
     "name": "stderr",
     "output_type": "stream",
     "text": [
      "Train: 100%|██████████| 41/41 [00:16<00:00,  2.45it/s, Loss=2.82, Score=0.648]\n",
      "Valid: 100%|██████████| 6/6 [00:02<00:00,  2.61it/s, Loss=4.21, Score=0.474]\n",
      "Train:   0%|          | 0/41 [00:00<?, ?it/s]"
     ]
    },
    {
     "name": "stdout",
     "output_type": "stream",
     "text": [
      "\n",
      "Epoch: 98\n",
      "NOT FOUND\n",
      "../outputs/UNetFormer-efficientnet-b0_16_adam_Dice.pth\n"
     ]
    },
    {
     "name": "stderr",
     "output_type": "stream",
     "text": [
      "Train: 100%|██████████| 41/41 [00:16<00:00,  2.49it/s, Loss=2.94, Score=0.633]\n",
      "Valid: 100%|██████████| 6/6 [00:02<00:00,  2.57it/s, Loss=4.15, Score=0.482]\n",
      "Train:   0%|          | 0/41 [00:00<?, ?it/s]"
     ]
    },
    {
     "name": "stdout",
     "output_type": "stream",
     "text": [
      "\n",
      "Epoch: 99\n",
      "NOT FOUND\n",
      "../outputs/UNetFormer-efficientnet-b0_16_adam_Dice.pth\n"
     ]
    },
    {
     "name": "stderr",
     "output_type": "stream",
     "text": [
      "Train: 100%|██████████| 41/41 [00:16<00:00,  2.43it/s, Loss=2.82, Score=0.648]\n",
      "Valid: 100%|██████████| 6/6 [00:02<00:00,  2.69it/s, Loss=4.13, Score=0.484]\n",
      "Train:   0%|          | 0/41 [00:00<?, ?it/s]"
     ]
    },
    {
     "name": "stdout",
     "output_type": "stream",
     "text": [
      "\n",
      "Epoch: 100\n",
      "NOT FOUND\n",
      "../outputs/UNetFormer-efficientnet-b0_16_adam_Dice.pth\n"
     ]
    },
    {
     "name": "stderr",
     "output_type": "stream",
     "text": [
      "Train: 100%|██████████| 41/41 [00:16<00:00,  2.44it/s, Loss=2.76, Score=0.655]\n",
      "Valid: 100%|██████████| 6/6 [00:02<00:00,  2.78it/s, Loss=4.15, Score=0.481]\n",
      "Train:   0%|          | 0/41 [00:00<?, ?it/s]"
     ]
    },
    {
     "name": "stdout",
     "output_type": "stream",
     "text": [
      "\n",
      "Epoch: 101\n",
      "NOT FOUND\n",
      "../outputs/UNetFormer-efficientnet-b0_16_adam_Dice.pth\n"
     ]
    },
    {
     "name": "stderr",
     "output_type": "stream",
     "text": [
      "Train: 100%|██████████| 41/41 [00:14<00:00,  2.83it/s, Loss=2.94, Score=0.632]\n",
      "Valid: 100%|██████████| 6/6 [00:02<00:00,  2.57it/s, Loss=4.12, Score=0.485]\n",
      "Train:   0%|          | 0/41 [00:00<?, ?it/s]"
     ]
    },
    {
     "name": "stdout",
     "output_type": "stream",
     "text": [
      "\n",
      "Epoch: 102\n",
      "NOT FOUND\n",
      "../outputs/UNetFormer-efficientnet-b0_16_adam_Dice.pth\n"
     ]
    },
    {
     "name": "stderr",
     "output_type": "stream",
     "text": [
      "Train: 100%|██████████| 41/41 [00:16<00:00,  2.46it/s, Loss=2.79, Score=0.651]\n",
      "Valid: 100%|██████████| 6/6 [00:02<00:00,  2.73it/s, Loss=4.13, Score=0.484]\n",
      "Train:   0%|          | 0/41 [00:00<?, ?it/s]"
     ]
    },
    {
     "name": "stdout",
     "output_type": "stream",
     "text": [
      "\n",
      "Epoch: 103\n",
      "NOT FOUND\n",
      "../outputs/UNetFormer-efficientnet-b0_16_adam_Dice.pth\n"
     ]
    },
    {
     "name": "stderr",
     "output_type": "stream",
     "text": [
      "Train: 100%|██████████| 41/41 [00:15<00:00,  2.67it/s, Loss=2.79, Score=0.651]\n",
      "Valid: 100%|██████████| 6/6 [00:02<00:00,  2.69it/s, Loss=4.12, Score=0.485]\n",
      "Train:   0%|          | 0/41 [00:00<?, ?it/s]"
     ]
    },
    {
     "name": "stdout",
     "output_type": "stream",
     "text": [
      "\n",
      "Epoch: 104\n",
      "NOT FOUND\n",
      "../outputs/UNetFormer-efficientnet-b0_16_adam_Dice.pth\n"
     ]
    },
    {
     "name": "stderr",
     "output_type": "stream",
     "text": [
      "Train: 100%|██████████| 41/41 [00:16<00:00,  2.45it/s, Loss=2.72, Score=0.66] \n",
      "Valid: 100%|██████████| 6/6 [00:02<00:00,  2.72it/s, Loss=4.11, Score=0.486]\n",
      "Train:   0%|          | 0/41 [00:00<?, ?it/s]"
     ]
    },
    {
     "name": "stdout",
     "output_type": "stream",
     "text": [
      "\n",
      "Epoch: 105\n",
      "NOT FOUND\n",
      "../outputs/UNetFormer-efficientnet-b0_16_adam_Dice.pth\n"
     ]
    },
    {
     "name": "stderr",
     "output_type": "stream",
     "text": [
      "Train: 100%|██████████| 41/41 [00:16<00:00,  2.45it/s, Loss=2.71, Score=0.661]\n",
      "Valid: 100%|██████████| 6/6 [00:02<00:00,  2.54it/s, Loss=4.1, Score=0.487] \n",
      "Train:   0%|          | 0/41 [00:00<?, ?it/s]"
     ]
    },
    {
     "name": "stdout",
     "output_type": "stream",
     "text": [
      "\n",
      "Epoch: 106\n",
      "NOT FOUND\n",
      "../outputs/UNetFormer-efficientnet-b0_16_adam_Dice.pth\n"
     ]
    },
    {
     "name": "stderr",
     "output_type": "stream",
     "text": [
      "Train: 100%|██████████| 41/41 [00:17<00:00,  2.41it/s, Loss=2.85, Score=0.644]\n",
      "Valid: 100%|██████████| 6/6 [00:02<00:00,  2.57it/s, Loss=4.11, Score=0.486]\n",
      "Train:   0%|          | 0/41 [00:00<?, ?it/s]"
     ]
    },
    {
     "name": "stdout",
     "output_type": "stream",
     "text": [
      "\n",
      "Epoch: 107\n",
      "NOT FOUND\n",
      "../outputs/UNetFormer-efficientnet-b0_16_adam_Dice.pth\n"
     ]
    },
    {
     "name": "stderr",
     "output_type": "stream",
     "text": [
      "Train: 100%|██████████| 41/41 [00:16<00:00,  2.44it/s, Loss=2.84, Score=0.645]\n",
      "Valid: 100%|██████████| 6/6 [00:02<00:00,  2.70it/s, Loss=4.12, Score=0.484]\n",
      "Train:   0%|          | 0/41 [00:00<?, ?it/s]"
     ]
    },
    {
     "name": "stdout",
     "output_type": "stream",
     "text": [
      "\n",
      "Epoch: 108\n",
      "NOT FOUND\n",
      "../outputs/UNetFormer-efficientnet-b0_16_adam_Dice.pth\n"
     ]
    },
    {
     "name": "stderr",
     "output_type": "stream",
     "text": [
      "Train: 100%|██████████| 41/41 [00:15<00:00,  2.61it/s, Loss=2.85, Score=0.644]\n",
      "Valid: 100%|██████████| 6/6 [00:02<00:00,  2.71it/s, Loss=4.08, Score=0.49] \n",
      "Train:   0%|          | 0/41 [00:00<?, ?it/s]"
     ]
    },
    {
     "name": "stdout",
     "output_type": "stream",
     "text": [
      "model saved\n",
      "\n",
      "Epoch: 109\n",
      "NOT FOUND\n",
      "../outputs/UNetFormer-efficientnet-b0_16_adam_Dice.pth\n"
     ]
    },
    {
     "name": "stderr",
     "output_type": "stream",
     "text": [
      "Train: 100%|██████████| 41/41 [00:16<00:00,  2.44it/s, Loss=2.83, Score=0.646]\n",
      "Valid: 100%|██████████| 6/6 [00:02<00:00,  2.67it/s, Loss=4.15, Score=0.481]\n",
      "Train:   0%|          | 0/41 [00:00<?, ?it/s]"
     ]
    },
    {
     "name": "stdout",
     "output_type": "stream",
     "text": [
      "\n",
      "Epoch: 110\n",
      "NOT FOUND\n",
      "../outputs/UNetFormer-efficientnet-b0_16_adam_Dice.pth\n"
     ]
    },
    {
     "name": "stderr",
     "output_type": "stream",
     "text": [
      "Train: 100%|██████████| 41/41 [00:15<00:00,  2.67it/s, Loss=2.82, Score=0.648]\n",
      "Valid: 100%|██████████| 6/6 [00:02<00:00,  2.75it/s, Loss=4.09, Score=0.488]\n",
      "Train:   0%|          | 0/41 [00:00<?, ?it/s]"
     ]
    },
    {
     "name": "stdout",
     "output_type": "stream",
     "text": [
      "\n",
      "Epoch: 111\n",
      "NOT FOUND\n",
      "../outputs/UNetFormer-efficientnet-b0_16_adam_Dice.pth\n"
     ]
    },
    {
     "name": "stderr",
     "output_type": "stream",
     "text": [
      "Train: 100%|██████████| 41/41 [00:16<00:00,  2.42it/s, Loss=2.79, Score=0.652]\n",
      "Valid: 100%|██████████| 6/6 [00:02<00:00,  2.64it/s, Loss=4.11, Score=0.486]\n",
      "Train:   0%|          | 0/41 [00:00<?, ?it/s]"
     ]
    },
    {
     "name": "stdout",
     "output_type": "stream",
     "text": [
      "\n",
      "Epoch: 112\n",
      "NOT FOUND\n",
      "../outputs/UNetFormer-efficientnet-b0_16_adam_Dice.pth\n"
     ]
    },
    {
     "name": "stderr",
     "output_type": "stream",
     "text": [
      "Train: 100%|██████████| 41/41 [00:15<00:00,  2.66it/s, Loss=2.83, Score=0.646]\n",
      "Valid: 100%|██████████| 6/6 [00:02<00:00,  2.66it/s, Loss=4.09, Score=0.489]\n",
      "Train:   0%|          | 0/41 [00:00<?, ?it/s]"
     ]
    },
    {
     "name": "stdout",
     "output_type": "stream",
     "text": [
      "\n",
      "Epoch: 113\n",
      "NOT FOUND\n",
      "../outputs/UNetFormer-efficientnet-b0_16_adam_Dice.pth\n"
     ]
    },
    {
     "name": "stderr",
     "output_type": "stream",
     "text": [
      "Train: 100%|██████████| 41/41 [00:16<00:00,  2.43it/s, Loss=2.79, Score=0.652]\n",
      "Valid: 100%|██████████| 6/6 [00:02<00:00,  2.72it/s, Loss=4.13, Score=0.484]\n",
      "Train:   0%|          | 0/41 [00:00<?, ?it/s]"
     ]
    },
    {
     "name": "stdout",
     "output_type": "stream",
     "text": [
      "\n",
      "Epoch: 114\n",
      "NOT FOUND\n",
      "../outputs/UNetFormer-efficientnet-b0_16_adam_Dice.pth\n"
     ]
    },
    {
     "name": "stderr",
     "output_type": "stream",
     "text": [
      "Train: 100%|██████████| 41/41 [00:16<00:00,  2.48it/s, Loss=2.75, Score=0.656]\n",
      "Valid: 100%|██████████| 6/6 [00:02<00:00,  2.85it/s, Loss=4.1, Score=0.487] \n",
      "Train:   0%|          | 0/41 [00:00<?, ?it/s]"
     ]
    },
    {
     "name": "stdout",
     "output_type": "stream",
     "text": [
      "\n",
      "Epoch: 115\n",
      "NOT FOUND\n",
      "../outputs/UNetFormer-efficientnet-b0_16_adam_Dice.pth\n"
     ]
    },
    {
     "name": "stderr",
     "output_type": "stream",
     "text": [
      "Train: 100%|██████████| 41/41 [00:16<00:00,  2.44it/s, Loss=2.83, Score=0.646]\n",
      "Valid: 100%|██████████| 6/6 [00:02<00:00,  2.72it/s, Loss=4.17, Score=0.479]\n",
      "Train:   0%|          | 0/41 [00:00<?, ?it/s]"
     ]
    },
    {
     "name": "stdout",
     "output_type": "stream",
     "text": [
      "\n",
      "Epoch: 116\n",
      "NOT FOUND\n",
      "../outputs/UNetFormer-efficientnet-b0_16_adam_Dice.pth\n"
     ]
    },
    {
     "name": "stderr",
     "output_type": "stream",
     "text": [
      "Train: 100%|██████████| 41/41 [00:16<00:00,  2.45it/s, Loss=2.78, Score=0.652]\n",
      "Valid: 100%|██████████| 6/6 [00:02<00:00,  2.69it/s, Loss=4.18, Score=0.478]\n",
      "Train:   0%|          | 0/41 [00:00<?, ?it/s]"
     ]
    },
    {
     "name": "stdout",
     "output_type": "stream",
     "text": [
      "\n",
      "Epoch: 117\n",
      "NOT FOUND\n",
      "../outputs/UNetFormer-efficientnet-b0_16_adam_Dice.pth\n"
     ]
    },
    {
     "name": "stderr",
     "output_type": "stream",
     "text": [
      "Train: 100%|██████████| 41/41 [00:16<00:00,  2.54it/s, Loss=2.78, Score=0.652]\n",
      "Valid: 100%|██████████| 6/6 [00:02<00:00,  2.63it/s, Loss=4.16, Score=0.48] \n",
      "Train:   0%|          | 0/41 [00:00<?, ?it/s]"
     ]
    },
    {
     "name": "stdout",
     "output_type": "stream",
     "text": [
      "\n",
      "Epoch: 118\n",
      "NOT FOUND\n",
      "../outputs/UNetFormer-efficientnet-b0_16_adam_Dice.pth\n"
     ]
    },
    {
     "name": "stderr",
     "output_type": "stream",
     "text": [
      "Train: 100%|██████████| 41/41 [00:16<00:00,  2.41it/s, Loss=2.82, Score=0.648]\n",
      "Valid: 100%|██████████| 6/6 [00:02<00:00,  2.65it/s, Loss=4.12, Score=0.485]\n",
      "Train:   0%|          | 0/41 [00:00<?, ?it/s]"
     ]
    },
    {
     "name": "stdout",
     "output_type": "stream",
     "text": [
      "\n",
      "Epoch: 119\n",
      "NOT FOUND\n",
      "../outputs/UNetFormer-efficientnet-b0_16_adam_Dice.pth\n"
     ]
    },
    {
     "name": "stderr",
     "output_type": "stream",
     "text": [
      "Train: 100%|██████████| 41/41 [00:15<00:00,  2.66it/s, Loss=2.83, Score=0.647]\n",
      "Valid: 100%|██████████| 6/6 [00:02<00:00,  2.69it/s, Loss=4.06, Score=0.493]\n",
      "Train:   0%|          | 0/41 [00:00<?, ?it/s]"
     ]
    },
    {
     "name": "stdout",
     "output_type": "stream",
     "text": [
      "model saved\n",
      "\n",
      "Epoch: 120\n",
      "NOT FOUND\n",
      "../outputs/UNetFormer-efficientnet-b0_16_adam_Dice.pth\n"
     ]
    },
    {
     "name": "stderr",
     "output_type": "stream",
     "text": [
      "Train: 100%|██████████| 41/41 [00:16<00:00,  2.44it/s, Loss=2.8, Score=0.65]  \n",
      "Valid: 100%|██████████| 6/6 [00:02<00:00,  2.45it/s, Loss=4.04, Score=0.495]\n",
      "Train:   0%|          | 0/41 [00:00<?, ?it/s]"
     ]
    },
    {
     "name": "stdout",
     "output_type": "stream",
     "text": [
      "model saved\n",
      "\n",
      "Epoch: 121\n",
      "NOT FOUND\n",
      "../outputs/UNetFormer-efficientnet-b0_16_adam_Dice.pth\n"
     ]
    },
    {
     "name": "stderr",
     "output_type": "stream",
     "text": [
      "Train: 100%|██████████| 41/41 [00:15<00:00,  2.68it/s, Loss=2.78, Score=0.653]\n",
      "Valid: 100%|██████████| 6/6 [00:02<00:00,  2.68it/s, Loss=4.07, Score=0.491]\n",
      "Train:   0%|          | 0/41 [00:00<?, ?it/s]"
     ]
    },
    {
     "name": "stdout",
     "output_type": "stream",
     "text": [
      "\n",
      "Epoch: 122\n",
      "NOT FOUND\n",
      "../outputs/UNetFormer-efficientnet-b0_16_adam_Dice.pth\n"
     ]
    },
    {
     "name": "stderr",
     "output_type": "stream",
     "text": [
      "Train: 100%|██████████| 41/41 [00:16<00:00,  2.44it/s, Loss=2.65, Score=0.669]\n",
      "Valid: 100%|██████████| 6/6 [00:02<00:00,  2.58it/s, Loss=4.19, Score=0.476]\n",
      "Train:   0%|          | 0/41 [00:00<?, ?it/s]"
     ]
    },
    {
     "name": "stdout",
     "output_type": "stream",
     "text": [
      "\n",
      "Epoch: 123\n",
      "NOT FOUND\n",
      "../outputs/UNetFormer-efficientnet-b0_16_adam_Dice.pth\n"
     ]
    },
    {
     "name": "stderr",
     "output_type": "stream",
     "text": [
      "Train: 100%|██████████| 41/41 [00:16<00:00,  2.46it/s, Loss=2.86, Score=0.643]\n",
      "Valid: 100%|██████████| 6/6 [00:02<00:00,  2.48it/s, Loss=4.15, Score=0.482]\n",
      "Train:   0%|          | 0/41 [00:00<?, ?it/s]"
     ]
    },
    {
     "name": "stdout",
     "output_type": "stream",
     "text": [
      "\n",
      "Epoch: 124\n",
      "NOT FOUND\n",
      "../outputs/UNetFormer-efficientnet-b0_16_adam_Dice.pth\n"
     ]
    },
    {
     "name": "stderr",
     "output_type": "stream",
     "text": [
      "Train: 100%|██████████| 41/41 [00:12<00:00,  3.33it/s, Loss=2.78, Score=0.653]\n",
      "Valid: 100%|██████████| 6/6 [00:02<00:00,  2.42it/s, Loss=4.11, Score=0.486]\n",
      "Train:   0%|          | 0/41 [00:00<?, ?it/s]"
     ]
    },
    {
     "name": "stdout",
     "output_type": "stream",
     "text": [
      "\n",
      "Epoch: 125\n",
      "NOT FOUND\n",
      "../outputs/UNetFormer-efficientnet-b0_16_adam_Dice.pth\n"
     ]
    },
    {
     "name": "stderr",
     "output_type": "stream",
     "text": [
      "Train: 100%|██████████| 41/41 [00:16<00:00,  2.45it/s, Loss=2.77, Score=0.653]\n",
      "Valid: 100%|██████████| 6/6 [00:02<00:00,  2.56it/s, Loss=4.13, Score=0.484]\n",
      "Train:   0%|          | 0/41 [00:00<?, ?it/s]"
     ]
    },
    {
     "name": "stdout",
     "output_type": "stream",
     "text": [
      "\n",
      "Epoch: 126\n",
      "NOT FOUND\n",
      "../outputs/UNetFormer-efficientnet-b0_16_adam_Dice.pth\n"
     ]
    },
    {
     "name": "stderr",
     "output_type": "stream",
     "text": [
      "Train: 100%|██████████| 41/41 [00:16<00:00,  2.44it/s, Loss=2.78, Score=0.652]\n",
      "Valid: 100%|██████████| 6/6 [00:02<00:00,  2.78it/s, Loss=4.24, Score=0.47] \n",
      "Train:   0%|          | 0/41 [00:00<?, ?it/s]"
     ]
    },
    {
     "name": "stdout",
     "output_type": "stream",
     "text": [
      "\n",
      "Epoch: 127\n",
      "NOT FOUND\n",
      "../outputs/UNetFormer-efficientnet-b0_16_adam_Dice.pth\n"
     ]
    },
    {
     "name": "stderr",
     "output_type": "stream",
     "text": [
      "Train: 100%|██████████| 41/41 [00:16<00:00,  2.45it/s, Loss=2.82, Score=0.648]\n",
      "Valid: 100%|██████████| 6/6 [00:02<00:00,  2.58it/s, Loss=4.13, Score=0.484]\n",
      "Train:   0%|          | 0/41 [00:00<?, ?it/s]"
     ]
    },
    {
     "name": "stdout",
     "output_type": "stream",
     "text": [
      "\n",
      "Epoch: 128\n",
      "NOT FOUND\n",
      "../outputs/UNetFormer-efficientnet-b0_16_adam_Dice.pth\n"
     ]
    },
    {
     "name": "stderr",
     "output_type": "stream",
     "text": [
      "Train: 100%|██████████| 41/41 [00:16<00:00,  2.45it/s, Loss=2.73, Score=0.659]\n",
      "Valid: 100%|██████████| 6/6 [00:02<00:00,  2.56it/s, Loss=4.09, Score=0.489]\n",
      "Train:   0%|          | 0/41 [00:00<?, ?it/s]"
     ]
    },
    {
     "name": "stdout",
     "output_type": "stream",
     "text": [
      "\n",
      "Epoch: 129\n",
      "NOT FOUND\n",
      "../outputs/UNetFormer-efficientnet-b0_16_adam_Dice.pth\n"
     ]
    },
    {
     "name": "stderr",
     "output_type": "stream",
     "text": [
      "Train: 100%|██████████| 41/41 [00:15<00:00,  2.64it/s, Loss=2.79, Score=0.651]\n",
      "Valid: 100%|██████████| 6/6 [00:02<00:00,  2.62it/s, Loss=4.08, Score=0.49] \n",
      "Train:   0%|          | 0/41 [00:00<?, ?it/s]"
     ]
    },
    {
     "name": "stdout",
     "output_type": "stream",
     "text": [
      "\n",
      "Epoch: 130\n",
      "NOT FOUND\n",
      "../outputs/UNetFormer-efficientnet-b0_16_adam_Dice.pth\n"
     ]
    },
    {
     "name": "stderr",
     "output_type": "stream",
     "text": [
      "Train: 100%|██████████| 41/41 [00:16<00:00,  2.44it/s, Loss=2.69, Score=0.663]\n",
      "Valid: 100%|██████████| 6/6 [00:02<00:00,  2.70it/s, Loss=4.07, Score=0.491]\n",
      "Train:   0%|          | 0/41 [00:00<?, ?it/s]"
     ]
    },
    {
     "name": "stdout",
     "output_type": "stream",
     "text": [
      "\n",
      "Epoch: 131\n",
      "NOT FOUND\n",
      "../outputs/UNetFormer-efficientnet-b0_16_adam_Dice.pth\n"
     ]
    },
    {
     "name": "stderr",
     "output_type": "stream",
     "text": [
      "Train: 100%|██████████| 41/41 [00:15<00:00,  2.68it/s, Loss=2.72, Score=0.66] \n",
      "Valid: 100%|██████████| 6/6 [00:02<00:00,  2.72it/s, Loss=4.08, Score=0.491]\n",
      "Train:   0%|          | 0/41 [00:00<?, ?it/s]"
     ]
    },
    {
     "name": "stdout",
     "output_type": "stream",
     "text": [
      "\n",
      "Epoch: 132\n",
      "NOT FOUND\n",
      "../outputs/UNetFormer-efficientnet-b0_16_adam_Dice.pth\n"
     ]
    },
    {
     "name": "stderr",
     "output_type": "stream",
     "text": [
      "Train: 100%|██████████| 41/41 [00:16<00:00,  2.43it/s, Loss=2.78, Score=0.653]\n",
      "Valid: 100%|██████████| 6/6 [00:02<00:00,  2.70it/s, Loss=4.12, Score=0.485]\n",
      "Train:   0%|          | 0/41 [00:00<?, ?it/s]"
     ]
    },
    {
     "name": "stdout",
     "output_type": "stream",
     "text": [
      "\n",
      "Epoch: 133\n",
      "NOT FOUND\n",
      "../outputs/UNetFormer-efficientnet-b0_16_adam_Dice.pth\n"
     ]
    },
    {
     "name": "stderr",
     "output_type": "stream",
     "text": [
      "Train: 100%|██████████| 41/41 [00:16<00:00,  2.55it/s, Loss=2.85, Score=0.644]\n",
      "Valid: 100%|██████████| 6/6 [00:01<00:00,  3.00it/s, Loss=4.13, Score=0.483]\n",
      "Train:   0%|          | 0/41 [00:00<?, ?it/s]"
     ]
    },
    {
     "name": "stdout",
     "output_type": "stream",
     "text": [
      "\n",
      "Epoch: 134\n",
      "NOT FOUND\n",
      "../outputs/UNetFormer-efficientnet-b0_16_adam_Dice.pth\n"
     ]
    },
    {
     "name": "stderr",
     "output_type": "stream",
     "text": [
      "Train: 100%|██████████| 41/41 [00:16<00:00,  2.46it/s, Loss=2.75, Score=0.656]\n",
      "Valid: 100%|██████████| 6/6 [00:02<00:00,  2.63it/s, Loss=4.17, Score=0.479]\n",
      "Train:   0%|          | 0/41 [00:00<?, ?it/s]"
     ]
    },
    {
     "name": "stdout",
     "output_type": "stream",
     "text": [
      "\n",
      "Epoch: 135\n",
      "NOT FOUND\n",
      "../outputs/UNetFormer-efficientnet-b0_16_adam_Dice.pth\n"
     ]
    },
    {
     "name": "stderr",
     "output_type": "stream",
     "text": [
      "Train: 100%|██████████| 41/41 [00:16<00:00,  2.44it/s, Loss=2.9, Score=0.638] \n",
      "Valid: 100%|██████████| 6/6 [00:02<00:00,  2.69it/s, Loss=4.22, Score=0.473]\n",
      "Train:   0%|          | 0/41 [00:00<?, ?it/s]"
     ]
    },
    {
     "name": "stdout",
     "output_type": "stream",
     "text": [
      "\n",
      "Epoch: 136\n",
      "NOT FOUND\n",
      "../outputs/UNetFormer-efficientnet-b0_16_adam_Dice.pth\n"
     ]
    },
    {
     "name": "stderr",
     "output_type": "stream",
     "text": [
      "Train: 100%|██████████| 41/41 [00:15<00:00,  2.65it/s, Loss=2.82, Score=0.647]\n",
      "Valid: 100%|██████████| 6/6 [00:02<00:00,  2.61it/s, Loss=4.11, Score=0.486]\n",
      "Train:   0%|          | 0/41 [00:00<?, ?it/s]"
     ]
    },
    {
     "name": "stdout",
     "output_type": "stream",
     "text": [
      "\n",
      "Epoch: 137\n",
      "NOT FOUND\n",
      "../outputs/UNetFormer-efficientnet-b0_16_adam_Dice.pth\n"
     ]
    },
    {
     "name": "stderr",
     "output_type": "stream",
     "text": [
      "Train: 100%|██████████| 41/41 [00:16<00:00,  2.45it/s, Loss=2.79, Score=0.652]\n",
      "Valid: 100%|██████████| 6/6 [00:02<00:00,  2.48it/s, Loss=4.1, Score=0.488] \n",
      "Train:   0%|          | 0/41 [00:00<?, ?it/s]"
     ]
    },
    {
     "name": "stdout",
     "output_type": "stream",
     "text": [
      "\n",
      "Epoch: 138\n",
      "NOT FOUND\n",
      "../outputs/UNetFormer-efficientnet-b0_16_adam_Dice.pth\n"
     ]
    },
    {
     "name": "stderr",
     "output_type": "stream",
     "text": [
      "Train: 100%|██████████| 41/41 [00:15<00:00,  2.65it/s, Loss=2.64, Score=0.67] \n",
      "Valid: 100%|██████████| 6/6 [00:02<00:00,  2.54it/s, Loss=4.08, Score=0.49] \n",
      "Train:   0%|          | 0/41 [00:00<?, ?it/s]"
     ]
    },
    {
     "name": "stdout",
     "output_type": "stream",
     "text": [
      "\n",
      "Epoch: 139\n",
      "NOT FOUND\n",
      "../outputs/UNetFormer-efficientnet-b0_16_adam_Dice.pth\n"
     ]
    },
    {
     "name": "stderr",
     "output_type": "stream",
     "text": [
      "Train: 100%|██████████| 41/41 [00:16<00:00,  2.45it/s, Loss=2.77, Score=0.654]\n",
      "Valid: 100%|██████████| 6/6 [00:02<00:00,  2.68it/s, Loss=4.07, Score=0.492]\n",
      "Train:   0%|          | 0/41 [00:00<?, ?it/s]"
     ]
    },
    {
     "name": "stdout",
     "output_type": "stream",
     "text": [
      "\n",
      "Epoch: 140\n",
      "NOT FOUND\n",
      "../outputs/UNetFormer-efficientnet-b0_16_adam_Dice.pth\n"
     ]
    },
    {
     "name": "stderr",
     "output_type": "stream",
     "text": [
      "Train: 100%|██████████| 41/41 [00:16<00:00,  2.49it/s, Loss=2.75, Score=0.656]\n",
      "Valid: 100%|██████████| 6/6 [00:02<00:00,  2.87it/s, Loss=4.06, Score=0.492]\n",
      "Train:   0%|          | 0/41 [00:00<?, ?it/s]"
     ]
    },
    {
     "name": "stdout",
     "output_type": "stream",
     "text": [
      "\n",
      "Epoch: 141\n",
      "NOT FOUND\n",
      "../outputs/UNetFormer-efficientnet-b0_16_adam_Dice.pth\n"
     ]
    },
    {
     "name": "stderr",
     "output_type": "stream",
     "text": [
      "Train: 100%|██████████| 41/41 [00:16<00:00,  2.44it/s, Loss=2.72, Score=0.659]\n",
      "Valid: 100%|██████████| 6/6 [00:02<00:00,  2.62it/s, Loss=4.06, Score=0.492]\n",
      "Train:   0%|          | 0/41 [00:00<?, ?it/s]"
     ]
    },
    {
     "name": "stdout",
     "output_type": "stream",
     "text": [
      "\n",
      "Epoch: 142\n",
      "NOT FOUND\n",
      "../outputs/UNetFormer-efficientnet-b0_16_adam_Dice.pth\n"
     ]
    },
    {
     "name": "stderr",
     "output_type": "stream",
     "text": [
      "Train: 100%|██████████| 41/41 [00:16<00:00,  2.44it/s, Loss=2.77, Score=0.654]\n",
      "Valid: 100%|██████████| 6/6 [00:02<00:00,  2.55it/s, Loss=4.07, Score=0.491]\n",
      "Train:   0%|          | 0/41 [00:00<?, ?it/s]"
     ]
    },
    {
     "name": "stdout",
     "output_type": "stream",
     "text": [
      "\n",
      "Epoch: 143\n",
      "NOT FOUND\n",
      "../outputs/UNetFormer-efficientnet-b0_16_adam_Dice.pth\n"
     ]
    },
    {
     "name": "stderr",
     "output_type": "stream",
     "text": [
      "Train: 100%|██████████| 41/41 [00:16<00:00,  2.56it/s, Loss=2.63, Score=0.671]\n",
      "Valid: 100%|██████████| 6/6 [00:02<00:00,  2.74it/s, Loss=4.13, Score=0.484]\n",
      "Train:   0%|          | 0/41 [00:00<?, ?it/s]"
     ]
    },
    {
     "name": "stdout",
     "output_type": "stream",
     "text": [
      "\n",
      "Epoch: 144\n",
      "NOT FOUND\n",
      "../outputs/UNetFormer-efficientnet-b0_16_adam_Dice.pth\n"
     ]
    },
    {
     "name": "stderr",
     "output_type": "stream",
     "text": [
      "Train: 100%|██████████| 41/41 [00:16<00:00,  2.42it/s, Loss=2.73, Score=0.659]\n",
      "Valid: 100%|██████████| 6/6 [00:02<00:00,  2.54it/s, Loss=4.07, Score=0.491]\n",
      "Train:   0%|          | 0/41 [00:00<?, ?it/s]"
     ]
    },
    {
     "name": "stdout",
     "output_type": "stream",
     "text": [
      "\n",
      "Epoch: 145\n",
      "NOT FOUND\n",
      "../outputs/UNetFormer-efficientnet-b0_16_adam_Dice.pth\n"
     ]
    },
    {
     "name": "stderr",
     "output_type": "stream",
     "text": [
      "Train: 100%|██████████| 41/41 [00:15<00:00,  2.64it/s, Loss=2.63, Score=0.672]\n",
      "Valid: 100%|██████████| 6/6 [00:02<00:00,  2.60it/s, Loss=4.05, Score=0.494]\n",
      "Train:   0%|          | 0/41 [00:00<?, ?it/s]"
     ]
    },
    {
     "name": "stdout",
     "output_type": "stream",
     "text": [
      "\n",
      "Epoch: 146\n",
      "NOT FOUND\n",
      "../outputs/UNetFormer-efficientnet-b0_16_adam_Dice.pth\n"
     ]
    },
    {
     "name": "stderr",
     "output_type": "stream",
     "text": [
      "Train: 100%|██████████| 41/41 [00:16<00:00,  2.44it/s, Loss=2.79, Score=0.651]\n",
      "Valid: 100%|██████████| 6/6 [00:02<00:00,  2.77it/s, Loss=4.04, Score=0.496]\n",
      "Train:   0%|          | 0/41 [00:00<?, ?it/s]"
     ]
    },
    {
     "name": "stdout",
     "output_type": "stream",
     "text": [
      "model saved\n",
      "\n",
      "Epoch: 147\n",
      "NOT FOUND\n",
      "../outputs/UNetFormer-efficientnet-b0_16_adam_Dice.pth\n"
     ]
    },
    {
     "name": "stderr",
     "output_type": "stream",
     "text": [
      "Train: 100%|██████████| 41/41 [00:15<00:00,  2.67it/s, Loss=2.65, Score=0.669]\n",
      "Valid: 100%|██████████| 6/6 [00:02<00:00,  2.44it/s, Loss=4.07, Score=0.491]\n",
      "Train:   0%|          | 0/41 [00:00<?, ?it/s]"
     ]
    },
    {
     "name": "stdout",
     "output_type": "stream",
     "text": [
      "\n",
      "Epoch: 148\n",
      "NOT FOUND\n",
      "../outputs/UNetFormer-efficientnet-b0_16_adam_Dice.pth\n"
     ]
    },
    {
     "name": "stderr",
     "output_type": "stream",
     "text": [
      "Train: 100%|██████████| 41/41 [00:17<00:00,  2.33it/s, Loss=2.75, Score=0.656]\n",
      "Valid: 100%|██████████| 6/6 [00:03<00:00,  1.89it/s, Loss=4.19, Score=0.476]\n",
      "Train:   0%|          | 0/41 [00:00<?, ?it/s]"
     ]
    },
    {
     "name": "stdout",
     "output_type": "stream",
     "text": [
      "\n",
      "Epoch: 149\n",
      "NOT FOUND\n",
      "../outputs/UNetFormer-efficientnet-b0_16_adam_Dice.pth\n"
     ]
    },
    {
     "name": "stderr",
     "output_type": "stream",
     "text": [
      "Train: 100%|██████████| 41/41 [00:17<00:00,  2.36it/s, Loss=2.66, Score=0.667]\n",
      "Valid: 100%|██████████| 6/6 [00:03<00:00,  1.70it/s, Loss=4.08, Score=0.491]\n",
      "Train:   0%|          | 0/41 [00:00<?, ?it/s]"
     ]
    },
    {
     "name": "stdout",
     "output_type": "stream",
     "text": [
      "\n",
      "Epoch: 150\n",
      "NOT FOUND\n",
      "../outputs/UNetFormer-efficientnet-b0_16_adam_Dice.pth\n"
     ]
    },
    {
     "name": "stderr",
     "output_type": "stream",
     "text": [
      "Train: 100%|██████████| 41/41 [00:17<00:00,  2.29it/s, Loss=2.7, Score=0.663] \n",
      "Valid: 100%|██████████| 6/6 [00:03<00:00,  1.84it/s, Loss=4.08, Score=0.49] \n",
      "Train:   0%|          | 0/41 [00:00<?, ?it/s]"
     ]
    },
    {
     "name": "stdout",
     "output_type": "stream",
     "text": [
      "\n",
      "Epoch: 151\n",
      "NOT FOUND\n",
      "../outputs/UNetFormer-efficientnet-b0_16_adam_Dice.pth\n"
     ]
    },
    {
     "name": "stderr",
     "output_type": "stream",
     "text": [
      "Train: 100%|██████████| 41/41 [00:16<00:00,  2.54it/s, Loss=2.58, Score=0.677]\n",
      "Valid: 100%|██████████| 6/6 [00:02<00:00,  2.77it/s, Loss=4.1, Score=0.487] \n",
      "Train:   0%|          | 0/41 [00:00<?, ?it/s]"
     ]
    },
    {
     "name": "stdout",
     "output_type": "stream",
     "text": [
      "\n",
      "Epoch: 152\n",
      "NOT FOUND\n",
      "../outputs/UNetFormer-efficientnet-b0_16_adam_Dice.pth\n"
     ]
    },
    {
     "name": "stderr",
     "output_type": "stream",
     "text": [
      "Train: 100%|██████████| 41/41 [00:18<00:00,  2.26it/s, Loss=2.66, Score=0.668]\n",
      "Valid: 100%|██████████| 6/6 [00:03<00:00,  1.73it/s, Loss=4.08, Score=0.49] \n",
      "Train:   0%|          | 0/41 [00:00<?, ?it/s]"
     ]
    },
    {
     "name": "stdout",
     "output_type": "stream",
     "text": [
      "\n",
      "Epoch: 153\n",
      "NOT FOUND\n",
      "../outputs/UNetFormer-efficientnet-b0_16_adam_Dice.pth\n"
     ]
    },
    {
     "name": "stderr",
     "output_type": "stream",
     "text": [
      "Train: 100%|██████████| 41/41 [00:16<00:00,  2.50it/s, Loss=2.62, Score=0.673]\n",
      "Valid: 100%|██████████| 6/6 [00:02<00:00,  2.56it/s, Loss=4.08, Score=0.49] \n",
      "Train:   0%|          | 0/41 [00:00<?, ?it/s]"
     ]
    },
    {
     "name": "stdout",
     "output_type": "stream",
     "text": [
      "\n",
      "Epoch: 154\n",
      "NOT FOUND\n",
      "../outputs/UNetFormer-efficientnet-b0_16_adam_Dice.pth\n"
     ]
    },
    {
     "name": "stderr",
     "output_type": "stream",
     "text": [
      "Train: 100%|██████████| 41/41 [00:17<00:00,  2.36it/s, Loss=2.75, Score=0.656]\n",
      "Valid: 100%|██████████| 6/6 [00:02<00:00,  2.26it/s, Loss=4.08, Score=0.49] \n",
      "Train:   0%|          | 0/41 [00:00<?, ?it/s]"
     ]
    },
    {
     "name": "stdout",
     "output_type": "stream",
     "text": [
      "\n",
      "Epoch: 155\n",
      "NOT FOUND\n",
      "../outputs/UNetFormer-efficientnet-b0_16_adam_Dice.pth\n"
     ]
    },
    {
     "name": "stderr",
     "output_type": "stream",
     "text": [
      "Train: 100%|██████████| 41/41 [00:16<00:00,  2.46it/s, Loss=2.66, Score=0.667]\n",
      "Valid: 100%|██████████| 6/6 [00:02<00:00,  2.03it/s, Loss=4.08, Score=0.49] \n",
      "Train:   0%|          | 0/41 [00:00<?, ?it/s]"
     ]
    },
    {
     "name": "stdout",
     "output_type": "stream",
     "text": [
      "\n",
      "Epoch: 156\n",
      "NOT FOUND\n",
      "../outputs/UNetFormer-efficientnet-b0_16_adam_Dice.pth\n"
     ]
    },
    {
     "name": "stderr",
     "output_type": "stream",
     "text": [
      "Train: 100%|██████████| 41/41 [00:17<00:00,  2.34it/s, Loss=2.65, Score=0.669]\n",
      "Valid: 100%|██████████| 6/6 [00:02<00:00,  2.53it/s, Loss=4.1, Score=0.488] \n",
      "Train:   0%|          | 0/41 [00:00<?, ?it/s]"
     ]
    },
    {
     "name": "stdout",
     "output_type": "stream",
     "text": [
      "\n",
      "Epoch: 157\n",
      "NOT FOUND\n",
      "../outputs/UNetFormer-efficientnet-b0_16_adam_Dice.pth\n"
     ]
    },
    {
     "name": "stderr",
     "output_type": "stream",
     "text": [
      "Train: 100%|██████████| 41/41 [00:16<00:00,  2.43it/s, Loss=2.57, Score=0.678]\n",
      "Valid: 100%|██████████| 6/6 [00:02<00:00,  2.50it/s, Loss=4.09, Score=0.489]\n",
      "Train:   0%|          | 0/41 [00:00<?, ?it/s]"
     ]
    },
    {
     "name": "stdout",
     "output_type": "stream",
     "text": [
      "\n",
      "Epoch: 158\n",
      "NOT FOUND\n",
      "../outputs/UNetFormer-efficientnet-b0_16_adam_Dice.pth\n"
     ]
    },
    {
     "name": "stderr",
     "output_type": "stream",
     "text": [
      "Train: 100%|██████████| 41/41 [00:16<00:00,  2.43it/s, Loss=2.69, Score=0.664]\n",
      "Valid: 100%|██████████| 6/6 [00:02<00:00,  2.69it/s, Loss=4.07, Score=0.492]\n",
      "Train:   0%|          | 0/41 [00:00<?, ?it/s]"
     ]
    },
    {
     "name": "stdout",
     "output_type": "stream",
     "text": [
      "\n",
      "Epoch: 159\n",
      "NOT FOUND\n",
      "../outputs/UNetFormer-efficientnet-b0_16_adam_Dice.pth\n"
     ]
    },
    {
     "name": "stderr",
     "output_type": "stream",
     "text": [
      "Train: 100%|██████████| 41/41 [00:16<00:00,  2.46it/s, Loss=2.6, Score=0.675] \n",
      "Valid: 100%|██████████| 6/6 [00:02<00:00,  2.64it/s, Loss=4.08, Score=0.49] \n",
      "Train:   0%|          | 0/41 [00:00<?, ?it/s]"
     ]
    },
    {
     "name": "stdout",
     "output_type": "stream",
     "text": [
      "\n",
      "Epoch: 160\n",
      "NOT FOUND\n",
      "../outputs/UNetFormer-efficientnet-b0_16_adam_Dice.pth\n"
     ]
    },
    {
     "name": "stderr",
     "output_type": "stream",
     "text": [
      "Train: 100%|██████████| 41/41 [00:15<00:00,  2.59it/s, Loss=2.68, Score=0.665]\n",
      "Valid: 100%|██████████| 6/6 [00:02<00:00,  2.58it/s, Loss=4.04, Score=0.495]\n",
      "Train:   0%|          | 0/41 [00:00<?, ?it/s]"
     ]
    },
    {
     "name": "stdout",
     "output_type": "stream",
     "text": [
      "\n",
      "Epoch: 161\n",
      "NOT FOUND\n",
      "../outputs/UNetFormer-efficientnet-b0_16_adam_Dice.pth\n"
     ]
    },
    {
     "name": "stderr",
     "output_type": "stream",
     "text": [
      "Train: 100%|██████████| 41/41 [00:16<00:00,  2.43it/s, Loss=2.59, Score=0.677]\n",
      "Valid: 100%|██████████| 6/6 [00:02<00:00,  2.53it/s, Loss=4.04, Score=0.495]\n",
      "Train:   0%|          | 0/41 [00:00<?, ?it/s]"
     ]
    },
    {
     "name": "stdout",
     "output_type": "stream",
     "text": [
      "\n",
      "Epoch: 162\n",
      "NOT FOUND\n",
      "../outputs/UNetFormer-efficientnet-b0_16_adam_Dice.pth\n"
     ]
    },
    {
     "name": "stderr",
     "output_type": "stream",
     "text": [
      "Train: 100%|██████████| 41/41 [00:15<00:00,  2.68it/s, Loss=2.67, Score=0.666]\n",
      "Valid: 100%|██████████| 6/6 [00:02<00:00,  2.63it/s, Loss=4.04, Score=0.495]\n",
      "Train:   0%|          | 0/41 [00:00<?, ?it/s]"
     ]
    },
    {
     "name": "stdout",
     "output_type": "stream",
     "text": [
      "\n",
      "Epoch: 163\n",
      "NOT FOUND\n",
      "../outputs/UNetFormer-efficientnet-b0_16_adam_Dice.pth\n"
     ]
    },
    {
     "name": "stderr",
     "output_type": "stream",
     "text": [
      "Train: 100%|██████████| 41/41 [00:16<00:00,  2.46it/s, Loss=2.66, Score=0.668]\n",
      "Valid: 100%|██████████| 6/6 [00:02<00:00,  2.68it/s, Loss=4.09, Score=0.489]\n",
      "Train:   0%|          | 0/41 [00:00<?, ?it/s]"
     ]
    },
    {
     "name": "stdout",
     "output_type": "stream",
     "text": [
      "\n",
      "Epoch: 164\n",
      "NOT FOUND\n",
      "../outputs/UNetFormer-efficientnet-b0_16_adam_Dice.pth\n"
     ]
    },
    {
     "name": "stderr",
     "output_type": "stream",
     "text": [
      "Train: 100%|██████████| 41/41 [00:15<00:00,  2.72it/s, Loss=2.59, Score=0.676]\n",
      "Valid: 100%|██████████| 6/6 [00:02<00:00,  2.69it/s, Loss=4.07, Score=0.491]\n",
      "Train:   0%|          | 0/41 [00:00<?, ?it/s]"
     ]
    },
    {
     "name": "stdout",
     "output_type": "stream",
     "text": [
      "\n",
      "Epoch: 165\n",
      "NOT FOUND\n",
      "../outputs/UNetFormer-efficientnet-b0_16_adam_Dice.pth\n"
     ]
    },
    {
     "name": "stderr",
     "output_type": "stream",
     "text": [
      "Train: 100%|██████████| 41/41 [00:16<00:00,  2.43it/s, Loss=2.7, Score=0.663] \n",
      "Valid: 100%|██████████| 6/6 [00:02<00:00,  2.64it/s, Loss=4.09, Score=0.489]\n",
      "Train:   0%|          | 0/41 [00:00<?, ?it/s]"
     ]
    },
    {
     "name": "stdout",
     "output_type": "stream",
     "text": [
      "\n",
      "Epoch: 166\n",
      "NOT FOUND\n",
      "../outputs/UNetFormer-efficientnet-b0_16_adam_Dice.pth\n"
     ]
    },
    {
     "name": "stderr",
     "output_type": "stream",
     "text": [
      "Train: 100%|██████████| 41/41 [00:16<00:00,  2.44it/s, Loss=2.77, Score=0.653]\n",
      "Valid: 100%|██████████| 6/6 [00:03<00:00,  1.60it/s, Loss=4.09, Score=0.489]\n",
      "Train:   0%|          | 0/41 [00:00<?, ?it/s]"
     ]
    },
    {
     "name": "stdout",
     "output_type": "stream",
     "text": [
      "\n",
      "Epoch: 167\n",
      "NOT FOUND\n",
      "../outputs/UNetFormer-efficientnet-b0_16_adam_Dice.pth\n"
     ]
    },
    {
     "name": "stderr",
     "output_type": "stream",
     "text": [
      "Train: 100%|██████████| 41/41 [00:19<00:00,  2.11it/s, Loss=2.67, Score=0.666]\n",
      "Valid: 100%|██████████| 6/6 [00:02<00:00,  2.37it/s, Loss=4.09, Score=0.488]\n",
      "Train:   0%|          | 0/41 [00:00<?, ?it/s]"
     ]
    },
    {
     "name": "stdout",
     "output_type": "stream",
     "text": [
      "\n",
      "Epoch: 168\n",
      "NOT FOUND\n",
      "../outputs/UNetFormer-efficientnet-b0_16_adam_Dice.pth\n"
     ]
    },
    {
     "name": "stderr",
     "output_type": "stream",
     "text": [
      "Train: 100%|██████████| 41/41 [00:17<00:00,  2.39it/s, Loss=2.74, Score=0.658]\n",
      "Valid: 100%|██████████| 6/6 [00:02<00:00,  2.31it/s, Loss=4.12, Score=0.485]\n",
      "Train:   0%|          | 0/41 [00:00<?, ?it/s]"
     ]
    },
    {
     "name": "stdout",
     "output_type": "stream",
     "text": [
      "\n",
      "Epoch: 169\n",
      "NOT FOUND\n",
      "../outputs/UNetFormer-efficientnet-b0_16_adam_Dice.pth\n"
     ]
    },
    {
     "name": "stderr",
     "output_type": "stream",
     "text": [
      "Train: 100%|██████████| 41/41 [00:17<00:00,  2.34it/s, Loss=2.71, Score=0.661]\n",
      "Valid: 100%|██████████| 6/6 [00:02<00:00,  2.56it/s, Loss=4.13, Score=0.484]\n",
      "Train:   0%|          | 0/41 [00:00<?, ?it/s]"
     ]
    },
    {
     "name": "stdout",
     "output_type": "stream",
     "text": [
      "\n",
      "Epoch: 170\n",
      "NOT FOUND\n",
      "../outputs/UNetFormer-efficientnet-b0_16_adam_Dice.pth\n"
     ]
    },
    {
     "name": "stderr",
     "output_type": "stream",
     "text": [
      "Train: 100%|██████████| 41/41 [00:17<00:00,  2.41it/s, Loss=2.59, Score=0.676]\n",
      "Valid: 100%|██████████| 6/6 [00:02<00:00,  2.66it/s, Loss=4.09, Score=0.488]\n",
      "Train:   0%|          | 0/41 [00:00<?, ?it/s]"
     ]
    },
    {
     "name": "stdout",
     "output_type": "stream",
     "text": [
      "\n",
      "Epoch: 171\n",
      "NOT FOUND\n",
      "../outputs/UNetFormer-efficientnet-b0_16_adam_Dice.pth\n"
     ]
    },
    {
     "name": "stderr",
     "output_type": "stream",
     "text": [
      "Train: 100%|██████████| 41/41 [00:17<00:00,  2.37it/s, Loss=2.68, Score=0.664]\n",
      "Valid: 100%|██████████| 6/6 [00:02<00:00,  2.44it/s, Loss=4.07, Score=0.491]\n",
      "Train:   0%|          | 0/41 [00:00<?, ?it/s]"
     ]
    },
    {
     "name": "stdout",
     "output_type": "stream",
     "text": [
      "\n",
      "Epoch: 172\n",
      "NOT FOUND\n",
      "../outputs/UNetFormer-efficientnet-b0_16_adam_Dice.pth\n"
     ]
    },
    {
     "name": "stderr",
     "output_type": "stream",
     "text": [
      "Train: 100%|██████████| 41/41 [00:17<00:00,  2.38it/s, Loss=2.68, Score=0.665]\n",
      "Valid: 100%|██████████| 6/6 [00:02<00:00,  2.49it/s, Loss=4.03, Score=0.497]\n",
      "Train:   0%|          | 0/41 [00:00<?, ?it/s]"
     ]
    },
    {
     "name": "stdout",
     "output_type": "stream",
     "text": [
      "model saved\n",
      "\n",
      "Epoch: 173\n",
      "NOT FOUND\n",
      "../outputs/UNetFormer-efficientnet-b0_16_adam_Dice.pth\n"
     ]
    },
    {
     "name": "stderr",
     "output_type": "stream",
     "text": [
      "Train: 100%|██████████| 41/41 [00:15<00:00,  2.62it/s, Loss=2.6, Score=0.674] \n",
      "Valid: 100%|██████████| 6/6 [00:02<00:00,  2.54it/s, Loss=4.07, Score=0.491]\n",
      "Train:   0%|          | 0/41 [00:00<?, ?it/s]"
     ]
    },
    {
     "name": "stdout",
     "output_type": "stream",
     "text": [
      "\n",
      "Epoch: 174\n",
      "NOT FOUND\n",
      "../outputs/UNetFormer-efficientnet-b0_16_adam_Dice.pth\n"
     ]
    },
    {
     "name": "stderr",
     "output_type": "stream",
     "text": [
      "Train: 100%|██████████| 41/41 [00:17<00:00,  2.40it/s, Loss=2.59, Score=0.676]\n",
      "Valid: 100%|██████████| 6/6 [00:02<00:00,  2.40it/s, Loss=4.01, Score=0.499]\n",
      "Train:   0%|          | 0/41 [00:00<?, ?it/s]"
     ]
    },
    {
     "name": "stdout",
     "output_type": "stream",
     "text": [
      "model saved\n",
      "\n",
      "Epoch: 175\n",
      "NOT FOUND\n",
      "../outputs/UNetFormer-efficientnet-b0_16_adam_Dice.pth\n"
     ]
    },
    {
     "name": "stderr",
     "output_type": "stream",
     "text": [
      "Train: 100%|██████████| 41/41 [00:15<00:00,  2.61it/s, Loss=2.67, Score=0.667]\n",
      "Valid: 100%|██████████| 6/6 [00:02<00:00,  2.48it/s, Loss=4.0, Score=0.5]   \n",
      "Train:   0%|          | 0/41 [00:00<?, ?it/s]"
     ]
    },
    {
     "name": "stdout",
     "output_type": "stream",
     "text": [
      "model saved\n",
      "\n",
      "Epoch: 176\n",
      "NOT FOUND\n",
      "../outputs/UNetFormer-efficientnet-b0_16_adam_Dice.pth\n"
     ]
    },
    {
     "name": "stderr",
     "output_type": "stream",
     "text": [
      "Train: 100%|██████████| 41/41 [00:16<00:00,  2.42it/s, Loss=2.68, Score=0.666]\n",
      "Valid: 100%|██████████| 6/6 [00:02<00:00,  2.45it/s, Loss=4.05, Score=0.494]\n",
      "Train:   0%|          | 0/41 [00:00<?, ?it/s]"
     ]
    },
    {
     "name": "stdout",
     "output_type": "stream",
     "text": [
      "\n",
      "Epoch: 177\n",
      "NOT FOUND\n",
      "../outputs/UNetFormer-efficientnet-b0_16_adam_Dice.pth\n"
     ]
    },
    {
     "name": "stderr",
     "output_type": "stream",
     "text": [
      "Train: 100%|██████████| 41/41 [00:15<00:00,  2.61it/s, Loss=2.51, Score=0.686]\n",
      "Valid: 100%|██████████| 6/6 [00:02<00:00,  2.42it/s, Loss=4.02, Score=0.498]\n",
      "Train:   0%|          | 0/41 [00:00<?, ?it/s]"
     ]
    },
    {
     "name": "stdout",
     "output_type": "stream",
     "text": [
      "\n",
      "Epoch: 178\n",
      "NOT FOUND\n",
      "../outputs/UNetFormer-efficientnet-b0_16_adam_Dice.pth\n"
     ]
    },
    {
     "name": "stderr",
     "output_type": "stream",
     "text": [
      "Train: 100%|██████████| 41/41 [00:17<00:00,  2.41it/s, Loss=2.62, Score=0.672]\n",
      "Valid: 100%|██████████| 6/6 [00:02<00:00,  2.50it/s, Loss=4.04, Score=0.495]\n",
      "Train:   0%|          | 0/41 [00:00<?, ?it/s]"
     ]
    },
    {
     "name": "stdout",
     "output_type": "stream",
     "text": [
      "\n",
      "Epoch: 179\n",
      "NOT FOUND\n",
      "../outputs/UNetFormer-efficientnet-b0_16_adam_Dice.pth\n"
     ]
    },
    {
     "name": "stderr",
     "output_type": "stream",
     "text": [
      "Train: 100%|██████████| 41/41 [00:17<00:00,  2.40it/s, Loss=2.53, Score=0.684]\n",
      "Valid: 100%|██████████| 6/6 [00:02<00:00,  2.36it/s, Loss=4.04, Score=0.496]\n",
      "Train:   0%|          | 0/41 [00:00<?, ?it/s]"
     ]
    },
    {
     "name": "stdout",
     "output_type": "stream",
     "text": [
      "\n",
      "Epoch: 180\n",
      "NOT FOUND\n",
      "../outputs/UNetFormer-efficientnet-b0_16_adam_Dice.pth\n"
     ]
    },
    {
     "name": "stderr",
     "output_type": "stream",
     "text": [
      "Train: 100%|██████████| 41/41 [00:17<00:00,  2.39it/s, Loss=2.6, Score=0.675] \n",
      "Valid: 100%|██████████| 6/6 [00:02<00:00,  2.56it/s, Loss=4.02, Score=0.497]\n",
      "Train:   0%|          | 0/41 [00:00<?, ?it/s]"
     ]
    },
    {
     "name": "stdout",
     "output_type": "stream",
     "text": [
      "\n",
      "Epoch: 181\n",
      "NOT FOUND\n",
      "../outputs/UNetFormer-efficientnet-b0_16_adam_Dice.pth\n"
     ]
    },
    {
     "name": "stderr",
     "output_type": "stream",
     "text": [
      "Train: 100%|██████████| 41/41 [00:16<00:00,  2.44it/s, Loss=2.68, Score=0.665]\n",
      "Valid: 100%|██████████| 6/6 [00:02<00:00,  2.53it/s, Loss=4.14, Score=0.482]\n",
      "Train:   0%|          | 0/41 [00:00<?, ?it/s]"
     ]
    },
    {
     "name": "stdout",
     "output_type": "stream",
     "text": [
      "\n",
      "Epoch: 182\n",
      "NOT FOUND\n",
      "../outputs/UNetFormer-efficientnet-b0_16_adam_Dice.pth\n"
     ]
    },
    {
     "name": "stderr",
     "output_type": "stream",
     "text": [
      "Train: 100%|██████████| 41/41 [00:16<00:00,  2.52it/s, Loss=2.61, Score=0.674]\n",
      "Valid: 100%|██████████| 6/6 [00:02<00:00,  2.32it/s, Loss=4.06, Score=0.492]\n",
      "Train:   0%|          | 0/41 [00:00<?, ?it/s]"
     ]
    },
    {
     "name": "stdout",
     "output_type": "stream",
     "text": [
      "\n",
      "Epoch: 183\n",
      "NOT FOUND\n",
      "../outputs/UNetFormer-efficientnet-b0_16_adam_Dice.pth\n"
     ]
    },
    {
     "name": "stderr",
     "output_type": "stream",
     "text": [
      "Train: 100%|██████████| 41/41 [00:17<00:00,  2.41it/s, Loss=2.61, Score=0.674]\n",
      "Valid: 100%|██████████| 6/6 [00:02<00:00,  2.49it/s, Loss=4.07, Score=0.492]\n",
      "Train:   0%|          | 0/41 [00:00<?, ?it/s]"
     ]
    },
    {
     "name": "stdout",
     "output_type": "stream",
     "text": [
      "\n",
      "Epoch: 184\n",
      "NOT FOUND\n",
      "../outputs/UNetFormer-efficientnet-b0_16_adam_Dice.pth\n"
     ]
    },
    {
     "name": "stderr",
     "output_type": "stream",
     "text": [
      "Train: 100%|██████████| 41/41 [00:15<00:00,  2.64it/s, Loss=2.63, Score=0.672]\n",
      "Valid: 100%|██████████| 6/6 [00:02<00:00,  2.52it/s, Loss=4.01, Score=0.498]\n",
      "Train:   0%|          | 0/41 [00:00<?, ?it/s]"
     ]
    },
    {
     "name": "stdout",
     "output_type": "stream",
     "text": [
      "\n",
      "Epoch: 185\n",
      "NOT FOUND\n",
      "../outputs/UNetFormer-efficientnet-b0_16_adam_Dice.pth\n"
     ]
    },
    {
     "name": "stderr",
     "output_type": "stream",
     "text": [
      "Train: 100%|██████████| 41/41 [00:17<00:00,  2.40it/s, Loss=2.63, Score=0.671]\n",
      "Valid: 100%|██████████| 6/6 [00:02<00:00,  2.38it/s, Loss=4.04, Score=0.495]\n",
      "Train:   0%|          | 0/41 [00:00<?, ?it/s]"
     ]
    },
    {
     "name": "stdout",
     "output_type": "stream",
     "text": [
      "\n",
      "Epoch: 186\n",
      "NOT FOUND\n",
      "../outputs/UNetFormer-efficientnet-b0_16_adam_Dice.pth\n"
     ]
    },
    {
     "name": "stderr",
     "output_type": "stream",
     "text": [
      "Train: 100%|██████████| 41/41 [00:15<00:00,  2.66it/s, Loss=2.61, Score=0.674]\n",
      "Valid: 100%|██████████| 6/6 [00:02<00:00,  2.56it/s, Loss=4.07, Score=0.492]\n",
      "Train:   0%|          | 0/41 [00:00<?, ?it/s]"
     ]
    },
    {
     "name": "stdout",
     "output_type": "stream",
     "text": [
      "\n",
      "Epoch: 187\n",
      "NOT FOUND\n",
      "../outputs/UNetFormer-efficientnet-b0_16_adam_Dice.pth\n"
     ]
    },
    {
     "name": "stderr",
     "output_type": "stream",
     "text": [
      "Train: 100%|██████████| 41/41 [00:16<00:00,  2.43it/s, Loss=2.72, Score=0.66] \n",
      "Valid: 100%|██████████| 6/6 [00:02<00:00,  2.44it/s, Loss=4.09, Score=0.489]\n",
      "Train:   0%|          | 0/41 [00:00<?, ?it/s]"
     ]
    },
    {
     "name": "stdout",
     "output_type": "stream",
     "text": [
      "\n",
      "Epoch: 188\n",
      "NOT FOUND\n",
      "../outputs/UNetFormer-efficientnet-b0_16_adam_Dice.pth\n"
     ]
    },
    {
     "name": "stderr",
     "output_type": "stream",
     "text": [
      "Train: 100%|██████████| 41/41 [00:16<00:00,  2.49it/s, Loss=2.68, Score=0.665]\n",
      "Valid: 100%|██████████| 6/6 [00:02<00:00,  2.77it/s, Loss=4.02, Score=0.497]\n",
      "Train:   0%|          | 0/41 [00:00<?, ?it/s]"
     ]
    },
    {
     "name": "stdout",
     "output_type": "stream",
     "text": [
      "\n",
      "Epoch: 189\n",
      "NOT FOUND\n",
      "../outputs/UNetFormer-efficientnet-b0_16_adam_Dice.pth\n"
     ]
    },
    {
     "name": "stderr",
     "output_type": "stream",
     "text": [
      "Train: 100%|██████████| 41/41 [00:12<00:00,  3.17it/s, Loss=2.63, Score=0.671]\n",
      "Valid: 100%|██████████| 6/6 [00:03<00:00,  1.95it/s, Loss=4.02, Score=0.497]\n",
      "Train:   0%|          | 0/41 [00:00<?, ?it/s]"
     ]
    },
    {
     "name": "stdout",
     "output_type": "stream",
     "text": [
      "\n",
      "Epoch: 190\n",
      "NOT FOUND\n",
      "../outputs/UNetFormer-efficientnet-b0_16_adam_Dice.pth\n"
     ]
    },
    {
     "name": "stderr",
     "output_type": "stream",
     "text": [
      "Train: 100%|██████████| 41/41 [00:17<00:00,  2.41it/s, Loss=2.66, Score=0.667]\n",
      "Valid: 100%|██████████| 6/6 [00:02<00:00,  2.51it/s, Loss=4.03, Score=0.496]\n",
      "Train:   0%|          | 0/41 [00:00<?, ?it/s]"
     ]
    },
    {
     "name": "stdout",
     "output_type": "stream",
     "text": [
      "\n",
      "Epoch: 191\n",
      "NOT FOUND\n",
      "../outputs/UNetFormer-efficientnet-b0_16_adam_Dice.pth\n"
     ]
    },
    {
     "name": "stderr",
     "output_type": "stream",
     "text": [
      "Train: 100%|██████████| 41/41 [00:16<00:00,  2.43it/s, Loss=2.64, Score=0.67] \n",
      "Valid: 100%|██████████| 6/6 [00:02<00:00,  2.57it/s, Loss=4.01, Score=0.499]\n",
      "Train:   0%|          | 0/41 [00:00<?, ?it/s]"
     ]
    },
    {
     "name": "stdout",
     "output_type": "stream",
     "text": [
      "\n",
      "Epoch: 192\n",
      "NOT FOUND\n",
      "../outputs/UNetFormer-efficientnet-b0_16_adam_Dice.pth\n"
     ]
    },
    {
     "name": "stderr",
     "output_type": "stream",
     "text": [
      "Train: 100%|██████████| 41/41 [00:16<00:00,  2.54it/s, Loss=2.56, Score=0.68] \n",
      "Valid: 100%|██████████| 6/6 [00:02<00:00,  2.55it/s, Loss=3.98, Score=0.502]\n",
      "Train:   0%|          | 0/41 [00:00<?, ?it/s]"
     ]
    },
    {
     "name": "stdout",
     "output_type": "stream",
     "text": [
      "model saved\n",
      "\n",
      "Epoch: 193\n",
      "NOT FOUND\n",
      "../outputs/UNetFormer-efficientnet-b0_16_adam_Dice.pth\n"
     ]
    },
    {
     "name": "stderr",
     "output_type": "stream",
     "text": [
      "Train: 100%|██████████| 41/41 [00:16<00:00,  2.44it/s, Loss=2.53, Score=0.684]\n",
      "Valid: 100%|██████████| 6/6 [00:02<00:00,  2.49it/s, Loss=4.01, Score=0.499]\n",
      "Train:   0%|          | 0/41 [00:00<?, ?it/s]"
     ]
    },
    {
     "name": "stdout",
     "output_type": "stream",
     "text": [
      "\n",
      "Epoch: 194\n",
      "NOT FOUND\n",
      "../outputs/UNetFormer-efficientnet-b0_16_adam_Dice.pth\n"
     ]
    },
    {
     "name": "stderr",
     "output_type": "stream",
     "text": [
      "Train: 100%|██████████| 41/41 [00:15<00:00,  2.69it/s, Loss=2.49, Score=0.688]\n",
      "Valid: 100%|██████████| 6/6 [00:02<00:00,  2.50it/s, Loss=4.02, Score=0.497]\n",
      "Train:   0%|          | 0/41 [00:00<?, ?it/s]"
     ]
    },
    {
     "name": "stdout",
     "output_type": "stream",
     "text": [
      "\n",
      "Epoch: 195\n",
      "NOT FOUND\n",
      "../outputs/UNetFormer-efficientnet-b0_16_adam_Dice.pth\n"
     ]
    },
    {
     "name": "stderr",
     "output_type": "stream",
     "text": [
      "Train: 100%|██████████| 41/41 [00:16<00:00,  2.42it/s, Loss=2.56, Score=0.68] \n",
      "Valid: 100%|██████████| 6/6 [00:02<00:00,  2.56it/s, Loss=3.99, Score=0.501]\n",
      "Train:   0%|          | 0/41 [00:00<?, ?it/s]"
     ]
    },
    {
     "name": "stdout",
     "output_type": "stream",
     "text": [
      "\n",
      "Epoch: 196\n",
      "NOT FOUND\n",
      "../outputs/UNetFormer-efficientnet-b0_16_adam_Dice.pth\n"
     ]
    },
    {
     "name": "stderr",
     "output_type": "stream",
     "text": [
      "Train: 100%|██████████| 41/41 [00:15<00:00,  2.65it/s, Loss=2.61, Score=0.673]\n",
      "Valid: 100%|██████████| 6/6 [00:02<00:00,  2.48it/s, Loss=3.99, Score=0.501]\n",
      "Train:   0%|          | 0/41 [00:00<?, ?it/s]"
     ]
    },
    {
     "name": "stdout",
     "output_type": "stream",
     "text": [
      "\n",
      "Epoch: 197\n",
      "NOT FOUND\n",
      "../outputs/UNetFormer-efficientnet-b0_16_adam_Dice.pth\n"
     ]
    },
    {
     "name": "stderr",
     "output_type": "stream",
     "text": [
      "Train: 100%|██████████| 41/41 [00:16<00:00,  2.42it/s, Loss=2.45, Score=0.694]\n",
      "Valid: 100%|██████████| 6/6 [00:02<00:00,  2.53it/s, Loss=4.0, Score=0.5]   \n",
      "Train:   0%|          | 0/41 [00:00<?, ?it/s]"
     ]
    },
    {
     "name": "stdout",
     "output_type": "stream",
     "text": [
      "\n",
      "Epoch: 198\n",
      "NOT FOUND\n",
      "../outputs/UNetFormer-efficientnet-b0_16_adam_Dice.pth\n"
     ]
    },
    {
     "name": "stderr",
     "output_type": "stream",
     "text": [
      "Train: 100%|██████████| 41/41 [00:16<00:00,  2.54it/s, Loss=2.74, Score=0.658]\n",
      "Valid: 100%|██████████| 6/6 [00:02<00:00,  2.39it/s, Loss=4.02, Score=0.497]\n",
      "Train:   0%|          | 0/41 [00:00<?, ?it/s]"
     ]
    },
    {
     "name": "stdout",
     "output_type": "stream",
     "text": [
      "\n",
      "Epoch: 199\n",
      "NOT FOUND\n",
      "../outputs/UNetFormer-efficientnet-b0_16_adam_Dice.pth\n"
     ]
    },
    {
     "name": "stderr",
     "output_type": "stream",
     "text": [
      "Train: 100%|██████████| 41/41 [00:17<00:00,  2.41it/s, Loss=2.58, Score=0.678]\n",
      "Valid: 100%|██████████| 6/6 [00:02<00:00,  2.53it/s, Loss=4.01, Score=0.499]\n",
      "Train:   0%|          | 0/41 [00:00<?, ?it/s]"
     ]
    },
    {
     "name": "stdout",
     "output_type": "stream",
     "text": [
      "\n",
      "Epoch: 200\n",
      "NOT FOUND\n",
      "../outputs/UNetFormer-efficientnet-b0_16_adam_Dice.pth\n"
     ]
    },
    {
     "name": "stderr",
     "output_type": "stream",
     "text": [
      "Train: 100%|██████████| 41/41 [00:16<00:00,  2.42it/s, Loss=2.54, Score=0.683]\n",
      "Valid: 100%|██████████| 6/6 [00:02<00:00,  2.40it/s, Loss=4.09, Score=0.489]"
     ]
    },
    {
     "name": "stdout",
     "output_type": "stream",
     "text": [
      "Elapsed time: 62.958 min\n"
     ]
    },
    {
     "name": "stderr",
     "output_type": "stream",
     "text": [
      "\n"
     ]
    }
   ],
   "source": [
    "# %%capture cap_training\n",
    "\n",
    "# Based on best performance so far\n",
    "best_score, name = run_one_model(train_data, val_data, 16, 'efficientnet_b0', 'adam', 'Dice', epochs=NUM_EPOCHS, train_existing=True)"
   ]
  },
  {
   "cell_type": "markdown",
   "metadata": {},
   "source": [
    "# Training Best Model on Full OEM"
   ]
  },
  {
   "cell_type": "code",
   "execution_count": 3,
   "metadata": {},
   "outputs": [],
   "source": [
    "warnings.filterwarnings(\"ignore\")\n",
    "os.environ['CUDA_VISIBLE_DEVICES'] = '2'\n",
    "\n",
    "# Path to the OpenEarthMap directory\n",
    "OEM_DATA_DIR = \"../../../../../data/11/megha/OpenEarthMap/OpenEarthMap_wo_xBD/\"\n",
    "\n",
    "# Training and validation file list\n",
    "TRAIN_LIST = os.path.join(OEM_DATA_DIR, \"train.txt\")\n",
    "VAL_LIST = os.path.join(OEM_DATA_DIR, \"val.txt\")\n",
    "\n",
    "IMG_SIZE = 512\n",
    "N_CLASSES = 9\n",
    "LR = 0.0001\n",
    "WEIGHT_DECAY = 0.000001\n",
    "BATCH_SIZE = 16\n",
    "NUM_EPOCHS = 200\n",
    "DEVICE = \"cuda\"\n",
    "OUTPUT_DIR = \"../outputs\""
   ]
  },
  {
   "cell_type": "code",
   "execution_count": 4,
   "metadata": {},
   "outputs": [
    {
     "name": "stdout",
     "output_type": "stream",
     "text": [
      "Total samples      : 3838\n",
      "Training samples   : 2303\n",
      "Validation samples : 384\n"
     ]
    }
   ],
   "source": [
    "img_paths = [f for f in Path(OEM_DATA_DIR).rglob(\n",
    "    \"*.tif\") if \"/images/\" in str(f)]\n",
    "train_fns = [str(f) for f in img_paths if f.name in np.loadtxt(\n",
    "    TRAIN_LIST, dtype=str)]\n",
    "val_fns = [str(f)\n",
    "            for f in img_paths if f.name in np.loadtxt(VAL_LIST, dtype=str)]\n",
    "\n",
    "print(\"Total samples      :\", len(img_paths))\n",
    "print(\"Training samples   :\", len(train_fns))\n",
    "print(\"Validation samples :\", len(val_fns))"
   ]
  },
  {
   "cell_type": "code",
   "execution_count": 4,
   "metadata": {},
   "outputs": [],
   "source": [
    "train_augm = torchvision.transforms.Compose(\n",
    "    [\n",
    "        oem.transforms.Rotate(),\n",
    "        oem.transforms.Crop(IMG_SIZE),\n",
    "    ],\n",
    ")\n",
    "\n",
    "val_augm = torchvision.transforms.Compose(\n",
    "    [\n",
    "        oem.transforms.Resize(IMG_SIZE),\n",
    "    ],\n",
    "\n",
    ")"
   ]
  },
  {
   "cell_type": "code",
   "execution_count": 5,
   "metadata": {},
   "outputs": [],
   "source": [
    "train_data = oem.dataset.OpenEarthMapDataset(\n",
    "    train_fns,\n",
    "    n_classes=N_CLASSES,\n",
    "    augm=train_augm,\n",
    ")\n",
    "\n",
    "val_data = oem.dataset.OpenEarthMapDataset(\n",
    "    val_fns,\n",
    "    n_classes=N_CLASSES,\n",
    "    augm=val_augm,\n",
    ")"
   ]
  },
  {
   "cell_type": "code",
   "execution_count": 10,
   "metadata": {},
   "outputs": [
    {
     "name": "stdout",
     "output_type": "stream",
     "text": [
      "Loading data\n",
      "Loading Optimizer\n",
      "Loading Criterion\n",
      "../outputs/UNetFormer-seresnet152d_16_adam_Dice.pth\n",
      "Loaded model:UNetFormer-seresnet152d_16_adam_Dice.pth (Epoch=148, Score=0.536)\n",
      "\n",
      "Epoch: 1\n",
      "NOT FOUND\n",
      "../outputs/UNetFormer-seresnet152d_16_adam_Dice.pth\n"
     ]
    },
    {
     "name": "stderr",
     "output_type": "stream",
     "text": [
      "Train: 100%|██████████| 143/143 [02:19<00:00,  1.03it/s, Loss=3.17, Score=0.604]\n",
      "Valid: 100%|██████████| 24/24 [00:09<00:00,  2.63it/s, Loss=3.9, Score=0.512] \n",
      "Train:   0%|          | 0/143 [00:00<?, ?it/s]"
     ]
    },
    {
     "name": "stdout",
     "output_type": "stream",
     "text": [
      "model saved\n",
      "\n",
      "Epoch: 2\n",
      "NOT FOUND\n",
      "../outputs/UNetFormer-seresnet152d_16_adam_Dice.pth\n"
     ]
    },
    {
     "name": "stderr",
     "output_type": "stream",
     "text": [
      "Train: 100%|██████████| 143/143 [02:19<00:00,  1.03it/s, Loss=3.01, Score=0.623]\n",
      "Valid: 100%|██████████| 24/24 [00:09<00:00,  2.64it/s, Loss=3.86, Score=0.518]\n",
      "Train:   0%|          | 0/143 [00:00<?, ?it/s]"
     ]
    },
    {
     "name": "stdout",
     "output_type": "stream",
     "text": [
      "model saved\n",
      "\n",
      "Epoch: 3\n",
      "NOT FOUND\n",
      "../outputs/UNetFormer-seresnet152d_16_adam_Dice.pth\n"
     ]
    },
    {
     "name": "stderr",
     "output_type": "stream",
     "text": [
      "Train: 100%|██████████| 143/143 [02:20<00:00,  1.02it/s, Loss=3.04, Score=0.62] \n",
      "Valid: 100%|██████████| 24/24 [00:09<00:00,  2.65it/s, Loss=3.82, Score=0.522]\n",
      "Train:   0%|          | 0/143 [00:00<?, ?it/s]"
     ]
    },
    {
     "name": "stdout",
     "output_type": "stream",
     "text": [
      "model saved\n",
      "\n",
      "Epoch: 4\n",
      "NOT FOUND\n",
      "../outputs/UNetFormer-seresnet152d_16_adam_Dice.pth\n"
     ]
    },
    {
     "name": "stderr",
     "output_type": "stream",
     "text": [
      "Train: 100%|██████████| 143/143 [02:14<00:00,  1.06it/s, Loss=2.98, Score=0.627]\n",
      "Valid: 100%|██████████| 24/24 [00:08<00:00,  2.69it/s, Loss=3.83, Score=0.521]\n",
      "Train:   0%|          | 0/143 [00:00<?, ?it/s]"
     ]
    },
    {
     "name": "stdout",
     "output_type": "stream",
     "text": [
      "\n",
      "Epoch: 5\n",
      "NOT FOUND\n",
      "../outputs/UNetFormer-seresnet152d_16_adam_Dice.pth\n"
     ]
    },
    {
     "name": "stderr",
     "output_type": "stream",
     "text": [
      "Train: 100%|██████████| 143/143 [02:13<00:00,  1.07it/s, Loss=3.05, Score=0.619]\n",
      "Valid: 100%|██████████| 24/24 [00:08<00:00,  2.68it/s, Loss=3.85, Score=0.518]\n",
      "Train:   0%|          | 0/143 [00:00<?, ?it/s]"
     ]
    },
    {
     "name": "stdout",
     "output_type": "stream",
     "text": [
      "\n",
      "Epoch: 6\n",
      "NOT FOUND\n",
      "../outputs/UNetFormer-seresnet152d_16_adam_Dice.pth\n"
     ]
    },
    {
     "name": "stderr",
     "output_type": "stream",
     "text": [
      "Train: 100%|██████████| 143/143 [02:14<00:00,  1.06it/s, Loss=2.98, Score=0.627]\n",
      "Valid: 100%|██████████| 24/24 [00:09<00:00,  2.59it/s, Loss=3.79, Score=0.526]\n",
      "Train:   0%|          | 0/143 [00:00<?, ?it/s]"
     ]
    },
    {
     "name": "stdout",
     "output_type": "stream",
     "text": [
      "model saved\n",
      "\n",
      "Epoch: 7\n",
      "NOT FOUND\n",
      "../outputs/UNetFormer-seresnet152d_16_adam_Dice.pth\n"
     ]
    },
    {
     "name": "stderr",
     "output_type": "stream",
     "text": [
      "Train: 100%|██████████| 143/143 [02:18<00:00,  1.03it/s, Loss=2.95, Score=0.631]\n",
      "Valid: 100%|██████████| 24/24 [00:07<00:00,  3.41it/s, Loss=3.8, Score=0.525] \n",
      "Train:   0%|          | 0/143 [00:00<?, ?it/s]"
     ]
    },
    {
     "name": "stdout",
     "output_type": "stream",
     "text": [
      "\n",
      "Epoch: 8\n",
      "NOT FOUND\n",
      "../outputs/UNetFormer-seresnet152d_16_adam_Dice.pth\n"
     ]
    },
    {
     "name": "stderr",
     "output_type": "stream",
     "text": [
      "Train: 100%|██████████| 143/143 [02:18<00:00,  1.03it/s, Loss=2.86, Score=0.643]\n",
      "Valid: 100%|██████████| 24/24 [00:09<00:00,  2.66it/s, Loss=3.83, Score=0.522]\n",
      "Train:   0%|          | 0/143 [00:00<?, ?it/s]"
     ]
    },
    {
     "name": "stdout",
     "output_type": "stream",
     "text": [
      "\n",
      "Epoch: 9\n",
      "NOT FOUND\n",
      "../outputs/UNetFormer-seresnet152d_16_adam_Dice.pth\n"
     ]
    },
    {
     "name": "stderr",
     "output_type": "stream",
     "text": [
      "Train: 100%|██████████| 143/143 [02:15<00:00,  1.06it/s, Loss=2.85, Score=0.643]\n",
      "Valid: 100%|██████████| 24/24 [00:09<00:00,  2.65it/s, Loss=3.87, Score=0.517]\n",
      "Train:   0%|          | 0/143 [00:00<?, ?it/s]"
     ]
    },
    {
     "name": "stdout",
     "output_type": "stream",
     "text": [
      "\n",
      "Epoch: 10\n",
      "NOT FOUND\n",
      "../outputs/UNetFormer-seresnet152d_16_adam_Dice.pth\n"
     ]
    },
    {
     "name": "stderr",
     "output_type": "stream",
     "text": [
      "Train: 100%|██████████| 143/143 [02:14<00:00,  1.06it/s, Loss=2.84, Score=0.645]\n",
      "Valid: 100%|██████████| 24/24 [00:08<00:00,  2.67it/s, Loss=3.8, Score=0.525] \n",
      "Train:   0%|          | 0/143 [00:00<?, ?it/s]"
     ]
    },
    {
     "name": "stdout",
     "output_type": "stream",
     "text": [
      "\n",
      "Epoch: 11\n",
      "NOT FOUND\n",
      "../outputs/UNetFormer-seresnet152d_16_adam_Dice.pth\n"
     ]
    },
    {
     "name": "stderr",
     "output_type": "stream",
     "text": [
      "Train: 100%|██████████| 143/143 [02:16<00:00,  1.05it/s, Loss=2.85, Score=0.644]\n",
      "Valid: 100%|██████████| 24/24 [00:10<00:00,  2.33it/s, Loss=3.85, Score=0.518]\n",
      "Train:   0%|          | 0/143 [00:00<?, ?it/s]"
     ]
    },
    {
     "name": "stdout",
     "output_type": "stream",
     "text": [
      "\n",
      "Epoch: 12\n",
      "NOT FOUND\n",
      "../outputs/UNetFormer-seresnet152d_16_adam_Dice.pth\n"
     ]
    },
    {
     "name": "stderr",
     "output_type": "stream",
     "text": [
      "Train: 100%|██████████| 143/143 [02:18<00:00,  1.03it/s, Loss=2.78, Score=0.653]\n",
      "Valid: 100%|██████████| 24/24 [00:09<00:00,  2.60it/s, Loss=3.77, Score=0.528]\n",
      "Train:   0%|          | 0/143 [00:00<?, ?it/s]"
     ]
    },
    {
     "name": "stdout",
     "output_type": "stream",
     "text": [
      "model saved\n",
      "\n",
      "Epoch: 13\n",
      "NOT FOUND\n",
      "../outputs/UNetFormer-seresnet152d_16_adam_Dice.pth\n"
     ]
    },
    {
     "name": "stderr",
     "output_type": "stream",
     "text": [
      "Train: 100%|██████████| 143/143 [02:15<00:00,  1.05it/s, Loss=2.82, Score=0.648]\n",
      "Valid: 100%|██████████| 24/24 [00:09<00:00,  2.66it/s, Loss=3.87, Score=0.516]\n",
      "Train:   0%|          | 0/143 [00:00<?, ?it/s]"
     ]
    },
    {
     "name": "stdout",
     "output_type": "stream",
     "text": [
      "\n",
      "Epoch: 14\n",
      "NOT FOUND\n",
      "../outputs/UNetFormer-seresnet152d_16_adam_Dice.pth\n"
     ]
    },
    {
     "name": "stderr",
     "output_type": "stream",
     "text": [
      "Train: 100%|██████████| 143/143 [02:15<00:00,  1.06it/s, Loss=2.82, Score=0.648]\n",
      "Valid: 100%|██████████| 24/24 [00:09<00:00,  2.65it/s, Loss=3.81, Score=0.524]\n",
      "Train:   0%|          | 0/143 [00:00<?, ?it/s]"
     ]
    },
    {
     "name": "stdout",
     "output_type": "stream",
     "text": [
      "\n",
      "Epoch: 15\n",
      "NOT FOUND\n",
      "../outputs/UNetFormer-seresnet152d_16_adam_Dice.pth\n"
     ]
    },
    {
     "name": "stderr",
     "output_type": "stream",
     "text": [
      "Train: 100%|██████████| 143/143 [02:15<00:00,  1.05it/s, Loss=2.8, Score=0.65]  \n",
      "Valid: 100%|██████████| 24/24 [00:09<00:00,  2.64it/s, Loss=3.74, Score=0.533]\n",
      "Train:   0%|          | 0/143 [00:00<?, ?it/s]"
     ]
    },
    {
     "name": "stdout",
     "output_type": "stream",
     "text": [
      "model saved\n",
      "\n",
      "Epoch: 16\n",
      "NOT FOUND\n",
      "../outputs/UNetFormer-seresnet152d_16_adam_Dice.pth\n"
     ]
    },
    {
     "name": "stderr",
     "output_type": "stream",
     "text": [
      "Train: 100%|██████████| 143/143 [02:17<00:00,  1.04it/s, Loss=2.77, Score=0.654]\n",
      "Valid: 100%|██████████| 24/24 [00:09<00:00,  2.66it/s, Loss=3.77, Score=0.529]\n",
      "Train:   0%|          | 0/143 [00:00<?, ?it/s]"
     ]
    },
    {
     "name": "stdout",
     "output_type": "stream",
     "text": [
      "\n",
      "Epoch: 17\n",
      "NOT FOUND\n",
      "../outputs/UNetFormer-seresnet152d_16_adam_Dice.pth\n"
     ]
    },
    {
     "name": "stderr",
     "output_type": "stream",
     "text": [
      "Train: 100%|██████████| 143/143 [02:17<00:00,  1.04it/s, Loss=2.71, Score=0.661]\n",
      "Valid: 100%|██████████| 24/24 [00:08<00:00,  2.71it/s, Loss=3.8, Score=0.526] \n",
      "Train:   0%|          | 0/143 [00:00<?, ?it/s]"
     ]
    },
    {
     "name": "stdout",
     "output_type": "stream",
     "text": [
      "\n",
      "Epoch: 18\n",
      "NOT FOUND\n",
      "../outputs/UNetFormer-seresnet152d_16_adam_Dice.pth\n"
     ]
    },
    {
     "name": "stderr",
     "output_type": "stream",
     "text": [
      "Train: 100%|██████████| 143/143 [02:17<00:00,  1.04it/s, Loss=2.79, Score=0.651]\n",
      "Valid: 100%|██████████| 24/24 [00:09<00:00,  2.65it/s, Loss=3.82, Score=0.523]\n",
      "Train:   0%|          | 0/143 [00:00<?, ?it/s]"
     ]
    },
    {
     "name": "stdout",
     "output_type": "stream",
     "text": [
      "\n",
      "Epoch: 19\n",
      "NOT FOUND\n",
      "../outputs/UNetFormer-seresnet152d_16_adam_Dice.pth\n"
     ]
    },
    {
     "name": "stderr",
     "output_type": "stream",
     "text": [
      "Train: 100%|██████████| 143/143 [02:17<00:00,  1.04it/s, Loss=2.74, Score=0.658]\n",
      "Valid: 100%|██████████| 24/24 [00:09<00:00,  2.66it/s, Loss=3.82, Score=0.523]\n",
      "Train:   0%|          | 0/143 [00:00<?, ?it/s]"
     ]
    },
    {
     "name": "stdout",
     "output_type": "stream",
     "text": [
      "\n",
      "Epoch: 20\n",
      "NOT FOUND\n",
      "../outputs/UNetFormer-seresnet152d_16_adam_Dice.pth\n"
     ]
    },
    {
     "name": "stderr",
     "output_type": "stream",
     "text": [
      "Train: 100%|██████████| 143/143 [02:13<00:00,  1.08it/s, Loss=2.75, Score=0.656]\n",
      "Valid: 100%|██████████| 24/24 [00:08<00:00,  2.70it/s, Loss=3.81, Score=0.523]\n",
      "Train:   0%|          | 0/143 [00:00<?, ?it/s]"
     ]
    },
    {
     "name": "stdout",
     "output_type": "stream",
     "text": [
      "\n",
      "Epoch: 21\n",
      "NOT FOUND\n",
      "../outputs/UNetFormer-seresnet152d_16_adam_Dice.pth\n"
     ]
    },
    {
     "name": "stderr",
     "output_type": "stream",
     "text": [
      "Train: 100%|██████████| 143/143 [02:11<00:00,  1.09it/s, Loss=2.74, Score=0.658]\n",
      "Valid: 100%|██████████| 24/24 [00:06<00:00,  3.46it/s, Loss=3.82, Score=0.522]\n",
      "Train:   0%|          | 0/143 [00:00<?, ?it/s]"
     ]
    },
    {
     "name": "stdout",
     "output_type": "stream",
     "text": [
      "\n",
      "Epoch: 22\n",
      "NOT FOUND\n",
      "../outputs/UNetFormer-seresnet152d_16_adam_Dice.pth\n"
     ]
    },
    {
     "name": "stderr",
     "output_type": "stream",
     "text": [
      "Train: 100%|██████████| 143/143 [02:11<00:00,  1.09it/s, Loss=2.73, Score=0.659]\n",
      "Valid: 100%|██████████| 24/24 [00:08<00:00,  2.71it/s, Loss=3.76, Score=0.53] \n",
      "Train:   0%|          | 0/143 [00:00<?, ?it/s]"
     ]
    },
    {
     "name": "stdout",
     "output_type": "stream",
     "text": [
      "\n",
      "Epoch: 23\n",
      "NOT FOUND\n",
      "../outputs/UNetFormer-seresnet152d_16_adam_Dice.pth\n"
     ]
    },
    {
     "name": "stderr",
     "output_type": "stream",
     "text": [
      "Train: 100%|██████████| 143/143 [02:07<00:00,  1.12it/s, Loss=2.68, Score=0.665]\n",
      "Valid: 100%|██████████| 24/24 [00:08<00:00,  2.69it/s, Loss=3.77, Score=0.529]\n",
      "Train:   0%|          | 0/143 [00:00<?, ?it/s]"
     ]
    },
    {
     "name": "stdout",
     "output_type": "stream",
     "text": [
      "\n",
      "Epoch: 24\n",
      "NOT FOUND\n",
      "../outputs/UNetFormer-seresnet152d_16_adam_Dice.pth\n"
     ]
    },
    {
     "name": "stderr",
     "output_type": "stream",
     "text": [
      "Train: 100%|██████████| 143/143 [02:11<00:00,  1.09it/s, Loss=2.68, Score=0.665]\n",
      "Valid: 100%|██████████| 24/24 [00:08<00:00,  2.70it/s, Loss=3.77, Score=0.529]\n",
      "Train:   0%|          | 0/143 [00:00<?, ?it/s]"
     ]
    },
    {
     "name": "stdout",
     "output_type": "stream",
     "text": [
      "\n",
      "Epoch: 25\n",
      "NOT FOUND\n",
      "../outputs/UNetFormer-seresnet152d_16_adam_Dice.pth\n"
     ]
    },
    {
     "name": "stderr",
     "output_type": "stream",
     "text": [
      "Train: 100%|██████████| 143/143 [02:08<00:00,  1.11it/s, Loss=2.69, Score=0.664]\n",
      "Valid: 100%|██████████| 24/24 [00:08<00:00,  2.70it/s, Loss=3.77, Score=0.529]\n",
      "Train:   0%|          | 0/143 [00:00<?, ?it/s]"
     ]
    },
    {
     "name": "stdout",
     "output_type": "stream",
     "text": [
      "\n",
      "Epoch: 26\n",
      "NOT FOUND\n",
      "../outputs/UNetFormer-seresnet152d_16_adam_Dice.pth\n"
     ]
    },
    {
     "name": "stderr",
     "output_type": "stream",
     "text": [
      "Train: 100%|██████████| 143/143 [02:11<00:00,  1.09it/s, Loss=2.63, Score=0.671]\n",
      "Valid: 100%|██████████| 24/24 [00:06<00:00,  3.46it/s, Loss=3.72, Score=0.535]\n",
      "Train:   0%|          | 0/143 [00:00<?, ?it/s]"
     ]
    },
    {
     "name": "stdout",
     "output_type": "stream",
     "text": [
      "model saved\n",
      "\n",
      "Epoch: 27\n",
      "NOT FOUND\n",
      "../outputs/UNetFormer-seresnet152d_16_adam_Dice.pth\n"
     ]
    },
    {
     "name": "stderr",
     "output_type": "stream",
     "text": [
      "Train: 100%|██████████| 143/143 [02:12<00:00,  1.08it/s, Loss=2.63, Score=0.671]\n",
      "Valid: 100%|██████████| 24/24 [00:08<00:00,  2.70it/s, Loss=3.78, Score=0.528]\n",
      "Train:   0%|          | 0/143 [00:00<?, ?it/s]"
     ]
    },
    {
     "name": "stdout",
     "output_type": "stream",
     "text": [
      "\n",
      "Epoch: 28\n",
      "NOT FOUND\n",
      "../outputs/UNetFormer-seresnet152d_16_adam_Dice.pth\n"
     ]
    },
    {
     "name": "stderr",
     "output_type": "stream",
     "text": [
      "Train: 100%|██████████| 143/143 [02:11<00:00,  1.09it/s, Loss=2.71, Score=0.661]\n",
      "Valid: 100%|██████████| 24/24 [00:08<00:00,  2.69it/s, Loss=3.82, Score=0.523]\n",
      "Train:   0%|          | 0/143 [00:00<?, ?it/s]"
     ]
    },
    {
     "name": "stdout",
     "output_type": "stream",
     "text": [
      "\n",
      "Epoch: 29\n",
      "NOT FOUND\n",
      "../outputs/UNetFormer-seresnet152d_16_adam_Dice.pth\n"
     ]
    },
    {
     "name": "stderr",
     "output_type": "stream",
     "text": [
      "Train: 100%|██████████| 143/143 [02:11<00:00,  1.09it/s, Loss=2.65, Score=0.669]\n",
      "Valid: 100%|██████████| 24/24 [00:08<00:00,  2.88it/s, Loss=3.82, Score=0.522]\n",
      "Train:   0%|          | 0/143 [00:00<?, ?it/s]"
     ]
    },
    {
     "name": "stdout",
     "output_type": "stream",
     "text": [
      "\n",
      "Epoch: 30\n",
      "NOT FOUND\n",
      "../outputs/UNetFormer-seresnet152d_16_adam_Dice.pth\n"
     ]
    },
    {
     "name": "stderr",
     "output_type": "stream",
     "text": [
      "Train: 100%|██████████| 143/143 [02:13<00:00,  1.07it/s, Loss=2.64, Score=0.67] \n",
      "Valid: 100%|██████████| 24/24 [00:08<00:00,  2.67it/s, Loss=3.81, Score=0.524]\n",
      "Train:   0%|          | 0/143 [00:00<?, ?it/s]"
     ]
    },
    {
     "name": "stdout",
     "output_type": "stream",
     "text": [
      "\n",
      "Epoch: 31\n",
      "NOT FOUND\n",
      "../outputs/UNetFormer-seresnet152d_16_adam_Dice.pth\n"
     ]
    },
    {
     "name": "stderr",
     "output_type": "stream",
     "text": [
      "Train: 100%|██████████| 143/143 [02:10<00:00,  1.10it/s, Loss=2.65, Score=0.669]\n",
      "Valid: 100%|██████████| 24/24 [00:08<00:00,  2.68it/s, Loss=3.81, Score=0.523]\n",
      "Train:   0%|          | 0/143 [00:00<?, ?it/s]"
     ]
    },
    {
     "name": "stdout",
     "output_type": "stream",
     "text": [
      "\n",
      "Epoch: 32\n",
      "NOT FOUND\n",
      "../outputs/UNetFormer-seresnet152d_16_adam_Dice.pth\n"
     ]
    },
    {
     "name": "stderr",
     "output_type": "stream",
     "text": [
      "Train: 100%|██████████| 143/143 [02:11<00:00,  1.09it/s, Loss=2.62, Score=0.673]\n",
      "Valid: 100%|██████████| 24/24 [00:06<00:00,  3.48it/s, Loss=3.82, Score=0.522]\n",
      "Train:   0%|          | 0/143 [00:00<?, ?it/s]"
     ]
    },
    {
     "name": "stdout",
     "output_type": "stream",
     "text": [
      "\n",
      "Epoch: 33\n",
      "NOT FOUND\n",
      "../outputs/UNetFormer-seresnet152d_16_adam_Dice.pth\n"
     ]
    },
    {
     "name": "stderr",
     "output_type": "stream",
     "text": [
      "Train: 100%|██████████| 143/143 [02:12<00:00,  1.08it/s, Loss=2.57, Score=0.678]\n",
      "Valid: 100%|██████████| 24/24 [00:08<00:00,  2.70it/s, Loss=3.78, Score=0.527]\n",
      "Train:   0%|          | 0/143 [00:00<?, ?it/s]"
     ]
    },
    {
     "name": "stdout",
     "output_type": "stream",
     "text": [
      "\n",
      "Epoch: 34\n",
      "NOT FOUND\n",
      "../outputs/UNetFormer-seresnet152d_16_adam_Dice.pth\n"
     ]
    },
    {
     "name": "stderr",
     "output_type": "stream",
     "text": [
      "Train: 100%|██████████| 143/143 [02:08<00:00,  1.12it/s, Loss=2.65, Score=0.669]\n",
      "Valid: 100%|██████████| 24/24 [00:08<00:00,  2.67it/s, Loss=3.76, Score=0.53] \n",
      "Train:   0%|          | 0/143 [00:00<?, ?it/s]"
     ]
    },
    {
     "name": "stdout",
     "output_type": "stream",
     "text": [
      "\n",
      "Epoch: 35\n",
      "NOT FOUND\n",
      "../outputs/UNetFormer-seresnet152d_16_adam_Dice.pth\n"
     ]
    },
    {
     "name": "stderr",
     "output_type": "stream",
     "text": [
      "Train: 100%|██████████| 143/143 [02:12<00:00,  1.08it/s, Loss=2.59, Score=0.677]\n",
      "Valid: 100%|██████████| 24/24 [00:08<00:00,  2.72it/s, Loss=3.77, Score=0.529]\n",
      "Train:   0%|          | 0/143 [00:00<?, ?it/s]"
     ]
    },
    {
     "name": "stdout",
     "output_type": "stream",
     "text": [
      "\n",
      "Epoch: 36\n",
      "NOT FOUND\n",
      "../outputs/UNetFormer-seresnet152d_16_adam_Dice.pth\n"
     ]
    },
    {
     "name": "stderr",
     "output_type": "stream",
     "text": [
      "Train: 100%|██████████| 143/143 [02:08<00:00,  1.11it/s, Loss=2.63, Score=0.671]\n",
      "Valid: 100%|██████████| 24/24 [00:08<00:00,  2.73it/s, Loss=3.74, Score=0.533]\n",
      "Train:   0%|          | 0/143 [00:00<?, ?it/s]"
     ]
    },
    {
     "name": "stdout",
     "output_type": "stream",
     "text": [
      "\n",
      "Epoch: 37\n",
      "NOT FOUND\n",
      "../outputs/UNetFormer-seresnet152d_16_adam_Dice.pth\n"
     ]
    },
    {
     "name": "stderr",
     "output_type": "stream",
     "text": [
      "Train: 100%|██████████| 143/143 [02:10<00:00,  1.09it/s, Loss=2.64, Score=0.67] \n",
      "Valid: 100%|██████████| 24/24 [00:09<00:00,  2.54it/s, Loss=3.75, Score=0.531]\n",
      "Train:   0%|          | 0/143 [00:00<?, ?it/s]"
     ]
    },
    {
     "name": "stdout",
     "output_type": "stream",
     "text": [
      "\n",
      "Epoch: 38\n",
      "NOT FOUND\n",
      "../outputs/UNetFormer-seresnet152d_16_adam_Dice.pth\n"
     ]
    },
    {
     "name": "stderr",
     "output_type": "stream",
     "text": [
      "Train: 100%|██████████| 143/143 [02:09<00:00,  1.10it/s, Loss=2.57, Score=0.678]\n",
      "Valid: 100%|██████████| 24/24 [00:08<00:00,  2.71it/s, Loss=3.74, Score=0.532]\n",
      "Train:   0%|          | 0/143 [00:00<?, ?it/s]"
     ]
    },
    {
     "name": "stdout",
     "output_type": "stream",
     "text": [
      "\n",
      "Epoch: 39\n",
      "NOT FOUND\n",
      "../outputs/UNetFormer-seresnet152d_16_adam_Dice.pth\n"
     ]
    },
    {
     "name": "stderr",
     "output_type": "stream",
     "text": [
      "Train: 100%|██████████| 143/143 [02:06<00:00,  1.13it/s, Loss=2.56, Score=0.679]\n",
      "Valid: 100%|██████████| 24/24 [00:08<00:00,  2.71it/s, Loss=3.73, Score=0.534]\n",
      "Train:   0%|          | 0/143 [00:00<?, ?it/s]"
     ]
    },
    {
     "name": "stdout",
     "output_type": "stream",
     "text": [
      "\n",
      "Epoch: 40\n",
      "NOT FOUND\n",
      "../outputs/UNetFormer-seresnet152d_16_adam_Dice.pth\n"
     ]
    },
    {
     "name": "stderr",
     "output_type": "stream",
     "text": [
      "Train: 100%|██████████| 143/143 [02:10<00:00,  1.10it/s, Loss=2.59, Score=0.676]\n",
      "Valid: 100%|██████████| 24/24 [00:08<00:00,  2.84it/s, Loss=3.82, Score=0.523]\n",
      "Train:   0%|          | 0/143 [00:00<?, ?it/s]"
     ]
    },
    {
     "name": "stdout",
     "output_type": "stream",
     "text": [
      "\n",
      "Epoch: 41\n",
      "NOT FOUND\n",
      "../outputs/UNetFormer-seresnet152d_16_adam_Dice.pth\n"
     ]
    },
    {
     "name": "stderr",
     "output_type": "stream",
     "text": [
      "Train: 100%|██████████| 143/143 [02:09<00:00,  1.10it/s, Loss=2.62, Score=0.672]\n",
      "Valid: 100%|██████████| 24/24 [00:08<00:00,  2.72it/s, Loss=3.78, Score=0.527]\n",
      "Train:   0%|          | 0/143 [00:00<?, ?it/s]"
     ]
    },
    {
     "name": "stdout",
     "output_type": "stream",
     "text": [
      "\n",
      "Epoch: 42\n",
      "NOT FOUND\n",
      "../outputs/UNetFormer-seresnet152d_16_adam_Dice.pth\n"
     ]
    },
    {
     "name": "stderr",
     "output_type": "stream",
     "text": [
      "Train: 100%|██████████| 143/143 [02:09<00:00,  1.11it/s, Loss=2.52, Score=0.684]\n",
      "Valid: 100%|██████████| 24/24 [00:08<00:00,  2.69it/s, Loss=3.74, Score=0.532]\n",
      "Train:   0%|          | 0/143 [00:00<?, ?it/s]"
     ]
    },
    {
     "name": "stdout",
     "output_type": "stream",
     "text": [
      "\n",
      "Epoch: 43\n",
      "NOT FOUND\n",
      "../outputs/UNetFormer-seresnet152d_16_adam_Dice.pth\n"
     ]
    },
    {
     "name": "stderr",
     "output_type": "stream",
     "text": [
      "Train: 100%|██████████| 143/143 [02:10<00:00,  1.09it/s, Loss=2.53, Score=0.683]\n",
      "Valid: 100%|██████████| 24/24 [00:08<00:00,  2.67it/s, Loss=3.77, Score=0.528]\n",
      "Train:   0%|          | 0/143 [00:00<?, ?it/s]"
     ]
    },
    {
     "name": "stdout",
     "output_type": "stream",
     "text": [
      "\n",
      "Epoch: 44\n",
      "NOT FOUND\n",
      "../outputs/UNetFormer-seresnet152d_16_adam_Dice.pth\n"
     ]
    },
    {
     "name": "stderr",
     "output_type": "stream",
     "text": [
      "Train: 100%|██████████| 143/143 [02:07<00:00,  1.12it/s, Loss=2.53, Score=0.683]\n",
      "Valid: 100%|██████████| 24/24 [00:08<00:00,  2.73it/s, Loss=3.78, Score=0.528]\n",
      "Train:   0%|          | 0/143 [00:00<?, ?it/s]"
     ]
    },
    {
     "name": "stdout",
     "output_type": "stream",
     "text": [
      "\n",
      "Epoch: 45\n",
      "NOT FOUND\n",
      "../outputs/UNetFormer-seresnet152d_16_adam_Dice.pth\n"
     ]
    },
    {
     "name": "stderr",
     "output_type": "stream",
     "text": [
      "Train: 100%|██████████| 143/143 [02:10<00:00,  1.10it/s, Loss=2.56, Score=0.68] \n",
      "Valid: 100%|██████████| 24/24 [00:06<00:00,  3.44it/s, Loss=3.73, Score=0.533]\n",
      "Train:   0%|          | 0/143 [00:00<?, ?it/s]"
     ]
    },
    {
     "name": "stdout",
     "output_type": "stream",
     "text": [
      "\n",
      "Epoch: 46\n",
      "NOT FOUND\n",
      "../outputs/UNetFormer-seresnet152d_16_adam_Dice.pth\n"
     ]
    },
    {
     "name": "stderr",
     "output_type": "stream",
     "text": [
      "Train: 100%|██████████| 143/143 [02:10<00:00,  1.10it/s, Loss=2.57, Score=0.679]\n",
      "Valid: 100%|██████████| 24/24 [00:08<00:00,  2.69it/s, Loss=3.74, Score=0.533]\n",
      "Train:   0%|          | 0/143 [00:00<?, ?it/s]"
     ]
    },
    {
     "name": "stdout",
     "output_type": "stream",
     "text": [
      "\n",
      "Epoch: 47\n",
      "NOT FOUND\n",
      "../outputs/UNetFormer-seresnet152d_16_adam_Dice.pth\n"
     ]
    },
    {
     "name": "stderr",
     "output_type": "stream",
     "text": [
      "Train: 100%|██████████| 143/143 [02:08<00:00,  1.11it/s, Loss=2.59, Score=0.676]\n",
      "Valid: 100%|██████████| 24/24 [00:08<00:00,  2.75it/s, Loss=3.75, Score=0.532]\n",
      "Train:   0%|          | 0/143 [00:00<?, ?it/s]"
     ]
    },
    {
     "name": "stdout",
     "output_type": "stream",
     "text": [
      "\n",
      "Epoch: 48\n",
      "NOT FOUND\n",
      "../outputs/UNetFormer-seresnet152d_16_adam_Dice.pth\n"
     ]
    },
    {
     "name": "stderr",
     "output_type": "stream",
     "text": [
      "Train: 100%|██████████| 143/143 [02:10<00:00,  1.10it/s, Loss=2.56, Score=0.68] \n",
      "Valid: 100%|██████████| 24/24 [00:08<00:00,  2.70it/s, Loss=3.79, Score=0.526]\n",
      "Train:   0%|          | 0/143 [00:00<?, ?it/s]"
     ]
    },
    {
     "name": "stdout",
     "output_type": "stream",
     "text": [
      "\n",
      "Epoch: 49\n",
      "NOT FOUND\n",
      "../outputs/UNetFormer-seresnet152d_16_adam_Dice.pth\n"
     ]
    },
    {
     "name": "stderr",
     "output_type": "stream",
     "text": [
      "Train: 100%|██████████| 143/143 [02:07<00:00,  1.13it/s, Loss=2.56, Score=0.68] \n",
      "Valid: 100%|██████████| 24/24 [00:08<00:00,  2.69it/s, Loss=3.73, Score=0.533]\n",
      "Train:   0%|          | 0/143 [00:00<?, ?it/s]"
     ]
    },
    {
     "name": "stdout",
     "output_type": "stream",
     "text": [
      "\n",
      "Epoch: 50\n",
      "NOT FOUND\n",
      "../outputs/UNetFormer-seresnet152d_16_adam_Dice.pth\n"
     ]
    },
    {
     "name": "stderr",
     "output_type": "stream",
     "text": [
      "Train: 100%|██████████| 143/143 [02:10<00:00,  1.10it/s, Loss=2.54, Score=0.682]\n",
      "Valid: 100%|██████████| 24/24 [00:08<00:00,  2.88it/s, Loss=3.73, Score=0.533]\n",
      "Train:   0%|          | 0/143 [00:00<?, ?it/s]"
     ]
    },
    {
     "name": "stdout",
     "output_type": "stream",
     "text": [
      "\n",
      "Epoch: 51\n",
      "NOT FOUND\n",
      "../outputs/UNetFormer-seresnet152d_16_adam_Dice.pth\n"
     ]
    },
    {
     "name": "stderr",
     "output_type": "stream",
     "text": [
      "Train: 100%|██████████| 143/143 [02:08<00:00,  1.12it/s, Loss=2.55, Score=0.682]\n",
      "Valid: 100%|██████████| 24/24 [00:08<00:00,  2.73it/s, Loss=3.71, Score=0.536]\n",
      "Train:   0%|          | 0/143 [00:00<?, ?it/s]"
     ]
    },
    {
     "name": "stdout",
     "output_type": "stream",
     "text": [
      "model saved\n",
      "\n",
      "Epoch: 52\n",
      "NOT FOUND\n",
      "../outputs/UNetFormer-seresnet152d_16_adam_Dice.pth\n"
     ]
    },
    {
     "name": "stderr",
     "output_type": "stream",
     "text": [
      "Train: 100%|██████████| 143/143 [02:08<00:00,  1.11it/s, Loss=2.53, Score=0.684]\n",
      "Valid: 100%|██████████| 24/24 [00:08<00:00,  2.79it/s, Loss=3.73, Score=0.533]\n",
      "Train:   0%|          | 0/143 [00:00<?, ?it/s]"
     ]
    },
    {
     "name": "stdout",
     "output_type": "stream",
     "text": [
      "\n",
      "Epoch: 53\n",
      "NOT FOUND\n",
      "../outputs/UNetFormer-seresnet152d_16_adam_Dice.pth\n"
     ]
    },
    {
     "name": "stderr",
     "output_type": "stream",
     "text": [
      "Train: 100%|██████████| 143/143 [02:09<00:00,  1.10it/s, Loss=2.46, Score=0.692]\n",
      "Valid: 100%|██████████| 24/24 [00:08<00:00,  2.69it/s, Loss=3.75, Score=0.531]\n",
      "Train:   0%|          | 0/143 [00:00<?, ?it/s]"
     ]
    },
    {
     "name": "stdout",
     "output_type": "stream",
     "text": [
      "\n",
      "Epoch: 54\n",
      "NOT FOUND\n",
      "../outputs/UNetFormer-seresnet152d_16_adam_Dice.pth\n"
     ]
    },
    {
     "name": "stderr",
     "output_type": "stream",
     "text": [
      "Train: 100%|██████████| 143/143 [02:08<00:00,  1.11it/s, Loss=2.46, Score=0.692]\n",
      "Valid: 100%|██████████| 24/24 [00:08<00:00,  2.72it/s, Loss=3.71, Score=0.537]\n",
      "Train:   0%|          | 0/143 [00:00<?, ?it/s]"
     ]
    },
    {
     "name": "stdout",
     "output_type": "stream",
     "text": [
      "model saved\n",
      "\n",
      "Epoch: 55\n",
      "NOT FOUND\n",
      "../outputs/UNetFormer-seresnet152d_16_adam_Dice.pth\n"
     ]
    },
    {
     "name": "stderr",
     "output_type": "stream",
     "text": [
      "Train: 100%|██████████| 143/143 [02:09<00:00,  1.11it/s, Loss=2.49, Score=0.688]\n",
      "Valid: 100%|██████████| 24/24 [00:07<00:00,  3.43it/s, Loss=3.7, Score=0.537] \n",
      "Train:   0%|          | 0/143 [00:00<?, ?it/s]"
     ]
    },
    {
     "name": "stdout",
     "output_type": "stream",
     "text": [
      "model saved\n",
      "\n",
      "Epoch: 56\n",
      "NOT FOUND\n",
      "../outputs/UNetFormer-seresnet152d_16_adam_Dice.pth\n"
     ]
    },
    {
     "name": "stderr",
     "output_type": "stream",
     "text": [
      "Train: 100%|██████████| 143/143 [02:09<00:00,  1.10it/s, Loss=2.54, Score=0.683]\n",
      "Valid: 100%|██████████| 24/24 [00:08<00:00,  2.74it/s, Loss=3.82, Score=0.523]\n",
      "Train:   0%|          | 0/143 [00:00<?, ?it/s]"
     ]
    },
    {
     "name": "stdout",
     "output_type": "stream",
     "text": [
      "\n",
      "Epoch: 57\n",
      "NOT FOUND\n",
      "../outputs/UNetFormer-seresnet152d_16_adam_Dice.pth\n"
     ]
    },
    {
     "name": "stderr",
     "output_type": "stream",
     "text": [
      "Train: 100%|██████████| 143/143 [02:07<00:00,  1.12it/s, Loss=2.45, Score=0.694]\n",
      "Valid: 100%|██████████| 24/24 [00:08<00:00,  2.69it/s, Loss=3.71, Score=0.536]\n",
      "Train:   0%|          | 0/143 [00:00<?, ?it/s]"
     ]
    },
    {
     "name": "stdout",
     "output_type": "stream",
     "text": [
      "\n",
      "Epoch: 58\n",
      "NOT FOUND\n",
      "../outputs/UNetFormer-seresnet152d_16_adam_Dice.pth\n"
     ]
    },
    {
     "name": "stderr",
     "output_type": "stream",
     "text": [
      "Train: 100%|██████████| 143/143 [02:10<00:00,  1.10it/s, Loss=2.47, Score=0.691]\n",
      "Valid: 100%|██████████| 24/24 [00:08<00:00,  2.74it/s, Loss=3.78, Score=0.528]\n",
      "Train:   0%|          | 0/143 [00:00<?, ?it/s]"
     ]
    },
    {
     "name": "stdout",
     "output_type": "stream",
     "text": [
      "\n",
      "Epoch: 59\n",
      "NOT FOUND\n",
      "../outputs/UNetFormer-seresnet152d_16_adam_Dice.pth\n"
     ]
    },
    {
     "name": "stderr",
     "output_type": "stream",
     "text": [
      "Train: 100%|██████████| 143/143 [02:07<00:00,  1.12it/s, Loss=2.47, Score=0.691]\n",
      "Valid: 100%|██████████| 24/24 [00:08<00:00,  2.69it/s, Loss=3.81, Score=0.524]\n",
      "Train:   0%|          | 0/143 [00:00<?, ?it/s]"
     ]
    },
    {
     "name": "stdout",
     "output_type": "stream",
     "text": [
      "\n",
      "Epoch: 60\n",
      "NOT FOUND\n",
      "../outputs/UNetFormer-seresnet152d_16_adam_Dice.pth\n"
     ]
    },
    {
     "name": "stderr",
     "output_type": "stream",
     "text": [
      "Train: 100%|██████████| 143/143 [02:03<00:00,  1.16it/s, Loss=2.49, Score=0.689]\n",
      "Valid: 100%|██████████| 24/24 [00:07<00:00,  3.23it/s, Loss=3.77, Score=0.529]\n",
      "Train:   0%|          | 0/143 [00:00<?, ?it/s]"
     ]
    },
    {
     "name": "stdout",
     "output_type": "stream",
     "text": [
      "\n",
      "Epoch: 61\n",
      "NOT FOUND\n",
      "../outputs/UNetFormer-seresnet152d_16_adam_Dice.pth\n"
     ]
    }
   ],
   "source": [
    "# %%capture cap_training\n",
    "\n",
    "# Based on best performance so far\n",
    "best_score, name = run_one_model(train_data, val_data, 16, 'seresnet152d', 'adam', 'Dice', epochs=NUM_EPOCHS, train_existing=True)"
   ]
  },
  {
   "cell_type": "code",
   "execution_count": 5,
   "metadata": {},
   "outputs": [
    {
     "name": "stdout",
     "output_type": "stream",
     "text": [
      "Total samples   : 3838\n",
      "Testing samples : 1151\n"
     ]
    }
   ],
   "source": [
    "TEST_LIST = os.path.join(OEM_DATA_DIR, \"test.txt\")\n",
    "\n",
    "img_paths = [f for f in Path(OEM_DATA_DIR).rglob(\"*.tif\") if \"/images/\" in str(f)]\n",
    "test_fns = [str(f) for f in img_paths if f.name in np.loadtxt(TEST_LIST, dtype=str)]\n",
    "\n",
    "print(\"Total samples   :\", len(img_paths))\n",
    "print(\"Testing samples :\", len(test_fns))"
   ]
  },
  {
   "cell_type": "markdown",
   "metadata": {},
   "source": [
    "# Swin Transformer Results"
   ]
  },
  {
   "cell_type": "code",
   "execution_count": 2,
   "metadata": {},
   "outputs": [
    {
     "data": {
      "text/html": [
       "<div>\n",
       "<style scoped>\n",
       "    .dataframe tbody tr th:only-of-type {\n",
       "        vertical-align: middle;\n",
       "    }\n",
       "\n",
       "    .dataframe tbody tr th {\n",
       "        vertical-align: top;\n",
       "    }\n",
       "\n",
       "    .dataframe thead th {\n",
       "        text-align: right;\n",
       "    }\n",
       "</style>\n",
       "<table border=\"1\" class=\"dataframe\">\n",
       "  <thead>\n",
       "    <tr style=\"text-align: right;\">\n",
       "      <th></th>\n",
       "      <th>Model</th>\n",
       "      <th>Batch_size</th>\n",
       "      <th>Optimizer</th>\n",
       "      <th>Criterion</th>\n",
       "      <th>Best Score</th>\n",
       "    </tr>\n",
       "  </thead>\n",
       "  <tbody>\n",
       "    <tr>\n",
       "      <th>0</th>\n",
       "      <td>FTUnetFormer_SwinTransformer</td>\n",
       "      <td>4</td>\n",
       "      <td>adam</td>\n",
       "      <td>CE</td>\n",
       "      <td>0.176996</td>\n",
       "    </tr>\n",
       "    <tr>\n",
       "      <th>1</th>\n",
       "      <td>FTUnetFormer_SwinTransformer</td>\n",
       "      <td>4</td>\n",
       "      <td>adam</td>\n",
       "      <td>Focal</td>\n",
       "      <td>0.119632</td>\n",
       "    </tr>\n",
       "    <tr>\n",
       "      <th>2</th>\n",
       "      <td>FTUnetFormer_SwinTransformer</td>\n",
       "      <td>4</td>\n",
       "      <td>adam</td>\n",
       "      <td>Jaccard</td>\n",
       "      <td>0.260501</td>\n",
       "    </tr>\n",
       "    <tr>\n",
       "      <th>3</th>\n",
       "      <td>FTUnetFormer_SwinTransformer</td>\n",
       "      <td>4</td>\n",
       "      <td>adam</td>\n",
       "      <td>Dice</td>\n",
       "      <td>0.249168</td>\n",
       "    </tr>\n",
       "    <tr>\n",
       "      <th>4</th>\n",
       "      <td>FTUnetFormer_SwinTransformer</td>\n",
       "      <td>4</td>\n",
       "      <td>adam</td>\n",
       "      <td>MCC</td>\n",
       "      <td>0.194517</td>\n",
       "    </tr>\n",
       "  </tbody>\n",
       "</table>\n",
       "</div>"
      ],
      "text/plain": [
       "                          Model  Batch_size Optimizer Criterion  Best Score\n",
       "0  FTUnetFormer_SwinTransformer           4      adam        CE    0.176996\n",
       "1  FTUnetFormer_SwinTransformer           4      adam     Focal    0.119632\n",
       "2  FTUnetFormer_SwinTransformer           4      adam   Jaccard    0.260501\n",
       "3  FTUnetFormer_SwinTransformer           4      adam      Dice    0.249168\n",
       "4  FTUnetFormer_SwinTransformer           4      adam       MCC    0.194517"
      ]
     },
     "execution_count": 2,
     "metadata": {},
     "output_type": "execute_result"
    }
   ],
   "source": [
    "results_df = pd.read_csv('unetformer_results2.csv')\n",
    "results_df.head()"
   ]
  },
  {
   "cell_type": "code",
   "execution_count": 7,
   "metadata": {},
   "outputs": [],
   "source": [
    "warnings.filterwarnings(\"ignore\")\n",
    "os.environ['CUDA_VISIBLE_DEVICES'] = '2'\n",
    "\n",
    "# Path to the OpenEarthMap directory\n",
    "OEM_DATA_DIR = \"../OpenEarthMap_Mini/\"\n",
    "\n",
    "# Training and validation file list\n",
    "TRAIN_LIST = os.path.join(OEM_DATA_DIR, \"train.txt\")\n",
    "VAL_LIST = os.path.join(OEM_DATA_DIR, \"val.txt\")\n",
    "\n",
    "IMG_SIZE = 512\n",
    "N_CLASSES = 9\n",
    "LR = 0.0001\n",
    "WEIGHT_DECAY = 0.000001\n",
    "BATCH_SIZE = 16\n",
    "NUM_EPOCHS = 200\n",
    "DEVICE = \"cuda\"\n",
    "OUTPUT_DIR = \"../swinoutputs\""
   ]
  },
  {
   "cell_type": "code",
   "execution_count": 4,
   "metadata": {},
   "outputs": [
    {
     "name": "stdout",
     "output_type": "stream",
     "text": [
      "Total samples      : 1068\n",
      "Training samples   : 663\n",
      "Validation samples : 92\n"
     ]
    }
   ],
   "source": [
    "img_paths = [f for f in Path(OEM_DATA_DIR).rglob(\n",
    "    \"*.tif\") if \"/images/\" in str(f)]\n",
    "train_fns = [str(f) for f in img_paths if f.name in np.loadtxt(\n",
    "    TRAIN_LIST, dtype=str)]\n",
    "val_fns = [str(f)\n",
    "            for f in img_paths if f.name in np.loadtxt(VAL_LIST, dtype=str)]\n",
    "\n",
    "print(\"Total samples      :\", len(img_paths))\n",
    "print(\"Training samples   :\", len(train_fns))\n",
    "print(\"Validation samples :\", len(val_fns))"
   ]
  },
  {
   "cell_type": "code",
   "execution_count": 5,
   "metadata": {},
   "outputs": [],
   "source": [
    "train_augm = torchvision.transforms.Compose(\n",
    "    [\n",
    "        oem.transforms.Rotate(),\n",
    "        oem.transforms.Crop(IMG_SIZE),\n",
    "    ],\n",
    ")\n",
    "\n",
    "val_augm = torchvision.transforms.Compose(\n",
    "    [\n",
    "        oem.transforms.Resize(IMG_SIZE),\n",
    "    ],\n",
    "\n",
    ")"
   ]
  },
  {
   "cell_type": "code",
   "execution_count": 6,
   "metadata": {},
   "outputs": [],
   "source": [
    "train_data = oem.dataset.OpenEarthMapDataset(\n",
    "    train_fns,\n",
    "    n_classes=N_CLASSES,\n",
    "    augm=train_augm,\n",
    ")\n",
    "\n",
    "val_data = oem.dataset.OpenEarthMapDataset(\n",
    "    val_fns,\n",
    "    n_classes=N_CLASSES,\n",
    "    augm=val_augm,\n",
    ")"
   ]
  },
  {
   "cell_type": "code",
   "execution_count": null,
   "metadata": {},
   "outputs": [],
   "source": [
    "results_df.sort_values('Best Score', ascending=False)[:4]"
   ]
  },
  {
   "cell_type": "code",
   "execution_count": 8,
   "metadata": {},
   "outputs": [
    {
     "name": "stdout",
     "output_type": "stream",
     "text": [
      "Loading data\n",
      "Loading Optimizer\n",
      "Loading Criterion\n",
      "../swinoutputs/FTUnetFormer_SwinTransformer_8_decode256_adam_Dice.pth\n",
      "Loaded model:FTUnetFormer_SwinTransformer_8_decode256_adam_Dice.pth (Epoch=53, Score=0.414)\n",
      "\n",
      "Epoch: 1\n",
      "NOT FOUND\n",
      "../swinoutputs/FTUnetFormer_SwinTransformer_8_decode256_adam_Dice.pth\n"
     ]
    },
    {
     "name": "stderr",
     "output_type": "stream",
     "text": [
      "Train: 100%|██████████| 82/82 [00:24<00:00,  3.30it/s, Loss=4.01, Score=0.499]\n",
      "Valid: 100%|██████████| 12/12 [00:02<00:00,  5.25it/s, Loss=4.77, Score=0.403]\n",
      "Train:   0%|          | 0/82 [00:00<?, ?it/s]"
     ]
    },
    {
     "name": "stdout",
     "output_type": "stream",
     "text": [
      "model saved\n",
      "\n",
      "Epoch: 2\n",
      "NOT FOUND\n",
      "../swinoutputs/FTUnetFormer_SwinTransformer_8_decode256_adam_Dice.pth\n"
     ]
    },
    {
     "name": "stderr",
     "output_type": "stream",
     "text": [
      "Train: 100%|██████████| 82/82 [00:23<00:00,  3.48it/s, Loss=3.93, Score=0.509]\n",
      "Valid: 100%|██████████| 12/12 [00:02<00:00,  5.18it/s, Loss=4.78, Score=0.402]\n",
      "Train:   0%|          | 0/82 [00:00<?, ?it/s]"
     ]
    },
    {
     "name": "stdout",
     "output_type": "stream",
     "text": [
      "\n",
      "Epoch: 3\n",
      "NOT FOUND\n",
      "../swinoutputs/FTUnetFormer_SwinTransformer_8_decode256_adam_Dice.pth\n"
     ]
    },
    {
     "name": "stderr",
     "output_type": "stream",
     "text": [
      "Train: 100%|██████████| 82/82 [00:23<00:00,  3.47it/s, Loss=3.96, Score=0.506]\n",
      "Valid: 100%|██████████| 12/12 [00:02<00:00,  5.21it/s, Loss=4.81, Score=0.399]\n",
      "Train:   0%|          | 0/82 [00:00<?, ?it/s]"
     ]
    },
    {
     "name": "stdout",
     "output_type": "stream",
     "text": [
      "\n",
      "Epoch: 4\n",
      "NOT FOUND\n",
      "../swinoutputs/FTUnetFormer_SwinTransformer_8_decode256_adam_Dice.pth\n"
     ]
    },
    {
     "name": "stderr",
     "output_type": "stream",
     "text": [
      "Train: 100%|██████████| 82/82 [00:23<00:00,  3.46it/s, Loss=3.83, Score=0.521]\n",
      "Valid: 100%|██████████| 12/12 [00:02<00:00,  5.22it/s, Loss=4.86, Score=0.393]\n",
      "Train:   0%|          | 0/82 [00:00<?, ?it/s]"
     ]
    },
    {
     "name": "stdout",
     "output_type": "stream",
     "text": [
      "\n",
      "Epoch: 5\n",
      "NOT FOUND\n",
      "../swinoutputs/FTUnetFormer_SwinTransformer_8_decode256_adam_Dice.pth\n"
     ]
    },
    {
     "name": "stderr",
     "output_type": "stream",
     "text": [
      "Train: 100%|██████████| 82/82 [00:23<00:00,  3.46it/s, Loss=3.89, Score=0.513]\n",
      "Valid: 100%|██████████| 12/12 [00:02<00:00,  5.24it/s, Loss=4.87, Score=0.391]\n",
      "Train:   0%|          | 0/82 [00:00<?, ?it/s]"
     ]
    },
    {
     "name": "stdout",
     "output_type": "stream",
     "text": [
      "\n",
      "Epoch: 6\n",
      "NOT FOUND\n",
      "../swinoutputs/FTUnetFormer_SwinTransformer_8_decode256_adam_Dice.pth\n"
     ]
    },
    {
     "name": "stderr",
     "output_type": "stream",
     "text": [
      "Train: 100%|██████████| 82/82 [00:24<00:00,  3.34it/s, Loss=3.96, Score=0.505]\n",
      "Valid: 100%|██████████| 12/12 [00:02<00:00,  5.13it/s, Loss=4.78, Score=0.403]\n",
      "Train:   0%|          | 0/82 [00:00<?, ?it/s]"
     ]
    },
    {
     "name": "stdout",
     "output_type": "stream",
     "text": [
      "\n",
      "Epoch: 7\n",
      "NOT FOUND\n",
      "../swinoutputs/FTUnetFormer_SwinTransformer_8_decode256_adam_Dice.pth\n"
     ]
    },
    {
     "name": "stderr",
     "output_type": "stream",
     "text": [
      "Train: 100%|██████████| 82/82 [00:23<00:00,  3.46it/s, Loss=3.96, Score=0.506]\n",
      "Valid: 100%|██████████| 12/12 [00:02<00:00,  5.22it/s, Loss=4.72, Score=0.41] \n",
      "Train:   0%|          | 0/82 [00:00<?, ?it/s]"
     ]
    },
    {
     "name": "stdout",
     "output_type": "stream",
     "text": [
      "model saved\n",
      "\n",
      "Epoch: 8\n",
      "NOT FOUND\n",
      "../swinoutputs/FTUnetFormer_SwinTransformer_8_decode256_adam_Dice.pth\n"
     ]
    },
    {
     "name": "stderr",
     "output_type": "stream",
     "text": [
      "Train: 100%|██████████| 82/82 [00:23<00:00,  3.42it/s, Loss=3.86, Score=0.518]\n",
      "Valid: 100%|██████████| 12/12 [00:02<00:00,  5.09it/s, Loss=4.81, Score=0.399]\n",
      "Train:   0%|          | 0/82 [00:00<?, ?it/s]"
     ]
    },
    {
     "name": "stdout",
     "output_type": "stream",
     "text": [
      "\n",
      "Epoch: 9\n",
      "NOT FOUND\n",
      "../swinoutputs/FTUnetFormer_SwinTransformer_8_decode256_adam_Dice.pth\n"
     ]
    },
    {
     "name": "stderr",
     "output_type": "stream",
     "text": [
      "Train: 100%|██████████| 82/82 [00:23<00:00,  3.46it/s, Loss=3.91, Score=0.511]\n",
      "Valid: 100%|██████████| 12/12 [00:02<00:00,  5.30it/s, Loss=4.8, Score=0.4]   \n",
      "Train:   0%|          | 0/82 [00:00<?, ?it/s]"
     ]
    },
    {
     "name": "stdout",
     "output_type": "stream",
     "text": [
      "\n",
      "Epoch: 10\n",
      "NOT FOUND\n",
      "../swinoutputs/FTUnetFormer_SwinTransformer_8_decode256_adam_Dice.pth\n"
     ]
    },
    {
     "name": "stderr",
     "output_type": "stream",
     "text": [
      "Train: 100%|██████████| 82/82 [00:23<00:00,  3.47it/s, Loss=3.89, Score=0.513]\n",
      "Valid: 100%|██████████| 12/12 [00:02<00:00,  5.28it/s, Loss=4.78, Score=0.403]\n",
      "Train:   0%|          | 0/82 [00:00<?, ?it/s]"
     ]
    },
    {
     "name": "stdout",
     "output_type": "stream",
     "text": [
      "\n",
      "Epoch: 11\n",
      "NOT FOUND\n",
      "../swinoutputs/FTUnetFormer_SwinTransformer_8_decode256_adam_Dice.pth\n"
     ]
    },
    {
     "name": "stderr",
     "output_type": "stream",
     "text": [
      "Train: 100%|██████████| 82/82 [00:23<00:00,  3.47it/s, Loss=3.96, Score=0.505]\n",
      "Valid: 100%|██████████| 12/12 [00:02<00:00,  5.25it/s, Loss=4.98, Score=0.377]\n",
      "Train:   0%|          | 0/82 [00:00<?, ?it/s]"
     ]
    },
    {
     "name": "stdout",
     "output_type": "stream",
     "text": [
      "\n",
      "Epoch: 12\n",
      "NOT FOUND\n",
      "../swinoutputs/FTUnetFormer_SwinTransformer_8_decode256_adam_Dice.pth\n"
     ]
    },
    {
     "name": "stderr",
     "output_type": "stream",
     "text": [
      "Train: 100%|██████████| 82/82 [00:23<00:00,  3.46it/s, Loss=3.9, Score=0.513] \n",
      "Valid: 100%|██████████| 12/12 [00:02<00:00,  5.29it/s, Loss=4.82, Score=0.397]\n",
      "Train:   0%|          | 0/82 [00:00<?, ?it/s]"
     ]
    },
    {
     "name": "stdout",
     "output_type": "stream",
     "text": [
      "\n",
      "Epoch: 13\n",
      "NOT FOUND\n",
      "../swinoutputs/FTUnetFormer_SwinTransformer_8_decode256_adam_Dice.pth\n"
     ]
    },
    {
     "name": "stderr",
     "output_type": "stream",
     "text": [
      "Train: 100%|██████████| 82/82 [00:23<00:00,  3.47it/s, Loss=3.9, Score=0.513] \n",
      "Valid: 100%|██████████| 12/12 [00:02<00:00,  5.17it/s, Loss=4.87, Score=0.391]\n",
      "Train:   0%|          | 0/82 [00:00<?, ?it/s]"
     ]
    },
    {
     "name": "stdout",
     "output_type": "stream",
     "text": [
      "\n",
      "Epoch: 14\n",
      "NOT FOUND\n",
      "../swinoutputs/FTUnetFormer_SwinTransformer_8_decode256_adam_Dice.pth\n"
     ]
    },
    {
     "name": "stderr",
     "output_type": "stream",
     "text": [
      "Train: 100%|██████████| 82/82 [00:23<00:00,  3.45it/s, Loss=3.86, Score=0.517]\n",
      "Valid: 100%|██████████| 12/12 [00:02<00:00,  5.29it/s, Loss=4.8, Score=0.4]   \n",
      "Train:   0%|          | 0/82 [00:00<?, ?it/s]"
     ]
    },
    {
     "name": "stdout",
     "output_type": "stream",
     "text": [
      "\n",
      "Epoch: 15\n",
      "NOT FOUND\n",
      "../swinoutputs/FTUnetFormer_SwinTransformer_8_decode256_adam_Dice.pth\n"
     ]
    },
    {
     "name": "stderr",
     "output_type": "stream",
     "text": [
      "Train: 100%|██████████| 82/82 [00:23<00:00,  3.45it/s, Loss=3.87, Score=0.516]\n",
      "Valid: 100%|██████████| 12/12 [00:02<00:00,  5.12it/s, Loss=4.85, Score=0.393]\n",
      "Train:   0%|          | 0/82 [00:00<?, ?it/s]"
     ]
    },
    {
     "name": "stdout",
     "output_type": "stream",
     "text": [
      "\n",
      "Epoch: 16\n",
      "NOT FOUND\n",
      "../swinoutputs/FTUnetFormer_SwinTransformer_8_decode256_adam_Dice.pth\n"
     ]
    },
    {
     "name": "stderr",
     "output_type": "stream",
     "text": [
      "Train: 100%|██████████| 82/82 [00:24<00:00,  3.37it/s, Loss=3.86, Score=0.518]\n",
      "Valid: 100%|██████████| 12/12 [00:02<00:00,  5.01it/s, Loss=4.79, Score=0.401]\n",
      "Train:   0%|          | 0/82 [00:00<?, ?it/s]"
     ]
    },
    {
     "name": "stdout",
     "output_type": "stream",
     "text": [
      "\n",
      "Epoch: 17\n",
      "NOT FOUND\n",
      "../swinoutputs/FTUnetFormer_SwinTransformer_8_decode256_adam_Dice.pth\n"
     ]
    },
    {
     "name": "stderr",
     "output_type": "stream",
     "text": [
      "Train: 100%|██████████| 82/82 [00:24<00:00,  3.41it/s, Loss=3.79, Score=0.527]\n",
      "Valid: 100%|██████████| 12/12 [00:02<00:00,  5.14it/s, Loss=4.81, Score=0.399]\n",
      "Train:   0%|          | 0/82 [00:00<?, ?it/s]"
     ]
    },
    {
     "name": "stdout",
     "output_type": "stream",
     "text": [
      "\n",
      "Epoch: 18\n",
      "NOT FOUND\n",
      "../swinoutputs/FTUnetFormer_SwinTransformer_8_decode256_adam_Dice.pth\n"
     ]
    },
    {
     "name": "stderr",
     "output_type": "stream",
     "text": [
      "Train: 100%|██████████| 82/82 [00:23<00:00,  3.42it/s, Loss=4.0, Score=0.5]   \n",
      "Valid: 100%|██████████| 12/12 [00:02<00:00,  5.07it/s, Loss=4.86, Score=0.393]\n",
      "Train:   0%|          | 0/82 [00:00<?, ?it/s]"
     ]
    },
    {
     "name": "stdout",
     "output_type": "stream",
     "text": [
      "\n",
      "Epoch: 19\n",
      "NOT FOUND\n",
      "../swinoutputs/FTUnetFormer_SwinTransformer_8_decode256_adam_Dice.pth\n"
     ]
    },
    {
     "name": "stderr",
     "output_type": "stream",
     "text": [
      "Train: 100%|██████████| 82/82 [00:24<00:00,  3.41it/s, Loss=3.86, Score=0.517]\n",
      "Valid: 100%|██████████| 12/12 [00:02<00:00,  5.16it/s, Loss=4.8, Score=0.399] \n",
      "Train:   0%|          | 0/82 [00:00<?, ?it/s]"
     ]
    },
    {
     "name": "stdout",
     "output_type": "stream",
     "text": [
      "\n",
      "Epoch: 20\n",
      "NOT FOUND\n",
      "../swinoutputs/FTUnetFormer_SwinTransformer_8_decode256_adam_Dice.pth\n"
     ]
    },
    {
     "name": "stderr",
     "output_type": "stream",
     "text": [
      "Train: 100%|██████████| 82/82 [00:24<00:00,  3.41it/s, Loss=3.88, Score=0.515]\n",
      "Valid: 100%|██████████| 12/12 [00:02<00:00,  5.14it/s, Loss=4.86, Score=0.392]\n",
      "Train:   0%|          | 0/82 [00:00<?, ?it/s]"
     ]
    },
    {
     "name": "stdout",
     "output_type": "stream",
     "text": [
      "\n",
      "Epoch: 21\n",
      "NOT FOUND\n",
      "../swinoutputs/FTUnetFormer_SwinTransformer_8_decode256_adam_Dice.pth\n"
     ]
    },
    {
     "name": "stderr",
     "output_type": "stream",
     "text": [
      "Train: 100%|██████████| 82/82 [00:24<00:00,  3.41it/s, Loss=3.85, Score=0.519]\n",
      "Valid: 100%|██████████| 12/12 [00:02<00:00,  5.05it/s, Loss=4.91, Score=0.386]\n",
      "Train:   0%|          | 0/82 [00:00<?, ?it/s]"
     ]
    },
    {
     "name": "stdout",
     "output_type": "stream",
     "text": [
      "\n",
      "Epoch: 22\n",
      "NOT FOUND\n",
      "../swinoutputs/FTUnetFormer_SwinTransformer_8_decode256_adam_Dice.pth\n"
     ]
    },
    {
     "name": "stderr",
     "output_type": "stream",
     "text": [
      "Train: 100%|██████████| 82/82 [00:24<00:00,  3.40it/s, Loss=3.89, Score=0.514]\n",
      "Valid: 100%|██████████| 12/12 [00:02<00:00,  5.14it/s, Loss=4.84, Score=0.394]\n",
      "Train:   0%|          | 0/82 [00:00<?, ?it/s]"
     ]
    },
    {
     "name": "stdout",
     "output_type": "stream",
     "text": [
      "\n",
      "Epoch: 23\n",
      "NOT FOUND\n",
      "../swinoutputs/FTUnetFormer_SwinTransformer_8_decode256_adam_Dice.pth\n"
     ]
    },
    {
     "name": "stderr",
     "output_type": "stream",
     "text": [
      "Train: 100%|██████████| 82/82 [00:24<00:00,  3.41it/s, Loss=3.85, Score=0.519]\n",
      "Valid: 100%|██████████| 12/12 [00:02<00:00,  5.00it/s, Loss=4.77, Score=0.404]\n",
      "Train:   0%|          | 0/82 [00:00<?, ?it/s]"
     ]
    },
    {
     "name": "stdout",
     "output_type": "stream",
     "text": [
      "\n",
      "Epoch: 24\n",
      "NOT FOUND\n",
      "../swinoutputs/FTUnetFormer_SwinTransformer_8_decode256_adam_Dice.pth\n"
     ]
    },
    {
     "name": "stderr",
     "output_type": "stream",
     "text": [
      "Train: 100%|██████████| 82/82 [00:24<00:00,  3.42it/s, Loss=3.79, Score=0.526]\n",
      "Valid: 100%|██████████| 12/12 [00:02<00:00,  5.07it/s, Loss=4.79, Score=0.401]\n",
      "Train:   0%|          | 0/82 [00:00<?, ?it/s]"
     ]
    },
    {
     "name": "stdout",
     "output_type": "stream",
     "text": [
      "\n",
      "Epoch: 25\n",
      "NOT FOUND\n",
      "../swinoutputs/FTUnetFormer_SwinTransformer_8_decode256_adam_Dice.pth\n"
     ]
    },
    {
     "name": "stderr",
     "output_type": "stream",
     "text": [
      "Train: 100%|██████████| 82/82 [00:24<00:00,  3.40it/s, Loss=3.85, Score=0.519]\n",
      "Valid: 100%|██████████| 12/12 [00:02<00:00,  5.04it/s, Loss=4.77, Score=0.404]\n",
      "Train:   0%|          | 0/82 [00:00<?, ?it/s]"
     ]
    },
    {
     "name": "stdout",
     "output_type": "stream",
     "text": [
      "\n",
      "Epoch: 26\n",
      "NOT FOUND\n",
      "../swinoutputs/FTUnetFormer_SwinTransformer_8_decode256_adam_Dice.pth\n"
     ]
    },
    {
     "name": "stderr",
     "output_type": "stream",
     "text": [
      "Train: 100%|██████████| 82/82 [00:23<00:00,  3.43it/s, Loss=3.87, Score=0.516]\n",
      "Valid: 100%|██████████| 12/12 [00:02<00:00,  5.15it/s, Loss=4.84, Score=0.395]\n",
      "Train:   0%|          | 0/82 [00:00<?, ?it/s]"
     ]
    },
    {
     "name": "stdout",
     "output_type": "stream",
     "text": [
      "\n",
      "Epoch: 27\n",
      "NOT FOUND\n",
      "../swinoutputs/FTUnetFormer_SwinTransformer_8_decode256_adam_Dice.pth\n"
     ]
    },
    {
     "name": "stderr",
     "output_type": "stream",
     "text": [
      "Train: 100%|██████████| 82/82 [00:24<00:00,  3.41it/s, Loss=3.88, Score=0.514]\n",
      "Valid: 100%|██████████| 12/12 [00:02<00:00,  5.13it/s, Loss=4.86, Score=0.393]\n",
      "Train:   0%|          | 0/82 [00:00<?, ?it/s]"
     ]
    },
    {
     "name": "stdout",
     "output_type": "stream",
     "text": [
      "\n",
      "Epoch: 28\n",
      "NOT FOUND\n",
      "../swinoutputs/FTUnetFormer_SwinTransformer_8_decode256_adam_Dice.pth\n"
     ]
    },
    {
     "name": "stderr",
     "output_type": "stream",
     "text": [
      "Train: 100%|██████████| 82/82 [00:24<00:00,  3.40it/s, Loss=3.83, Score=0.521]\n",
      "Valid: 100%|██████████| 12/12 [00:02<00:00,  5.11it/s, Loss=4.8, Score=0.4]   \n",
      "Train:   0%|          | 0/82 [00:00<?, ?it/s]"
     ]
    },
    {
     "name": "stdout",
     "output_type": "stream",
     "text": [
      "\n",
      "Epoch: 29\n",
      "NOT FOUND\n",
      "../swinoutputs/FTUnetFormer_SwinTransformer_8_decode256_adam_Dice.pth\n"
     ]
    },
    {
     "name": "stderr",
     "output_type": "stream",
     "text": [
      "Train: 100%|██████████| 82/82 [00:24<00:00,  3.40it/s, Loss=3.78, Score=0.527]\n",
      "Valid: 100%|██████████| 12/12 [00:02<00:00,  5.16it/s, Loss=4.7, Score=0.413] \n",
      "Train:   0%|          | 0/82 [00:00<?, ?it/s]"
     ]
    },
    {
     "name": "stdout",
     "output_type": "stream",
     "text": [
      "model saved\n",
      "\n",
      "Epoch: 30\n",
      "NOT FOUND\n",
      "../swinoutputs/FTUnetFormer_SwinTransformer_8_decode256_adam_Dice.pth\n"
     ]
    },
    {
     "name": "stderr",
     "output_type": "stream",
     "text": [
      "Train: 100%|██████████| 82/82 [00:24<00:00,  3.41it/s, Loss=3.88, Score=0.515]\n",
      "Valid: 100%|██████████| 12/12 [00:02<00:00,  5.15it/s, Loss=4.82, Score=0.398]\n",
      "Train:   0%|          | 0/82 [00:00<?, ?it/s]"
     ]
    },
    {
     "name": "stdout",
     "output_type": "stream",
     "text": [
      "\n",
      "Epoch: 31\n",
      "NOT FOUND\n",
      "../swinoutputs/FTUnetFormer_SwinTransformer_8_decode256_adam_Dice.pth\n"
     ]
    },
    {
     "name": "stderr",
     "output_type": "stream",
     "text": [
      "Train: 100%|██████████| 82/82 [00:24<00:00,  3.36it/s, Loss=3.76, Score=0.529]\n",
      "Valid: 100%|██████████| 12/12 [00:02<00:00,  5.16it/s, Loss=4.75, Score=0.406]\n",
      "Train:   0%|          | 0/82 [00:00<?, ?it/s]"
     ]
    },
    {
     "name": "stdout",
     "output_type": "stream",
     "text": [
      "\n",
      "Epoch: 32\n",
      "NOT FOUND\n",
      "../swinoutputs/FTUnetFormer_SwinTransformer_8_decode256_adam_Dice.pth\n"
     ]
    },
    {
     "name": "stderr",
     "output_type": "stream",
     "text": [
      "Train: 100%|██████████| 82/82 [00:24<00:00,  3.41it/s, Loss=3.95, Score=0.507]\n",
      "Valid: 100%|██████████| 12/12 [00:02<00:00,  5.05it/s, Loss=4.8, Score=0.4]   \n",
      "Train:   0%|          | 0/82 [00:00<?, ?it/s]"
     ]
    },
    {
     "name": "stdout",
     "output_type": "stream",
     "text": [
      "\n",
      "Epoch: 33\n",
      "NOT FOUND\n",
      "../swinoutputs/FTUnetFormer_SwinTransformer_8_decode256_adam_Dice.pth\n"
     ]
    },
    {
     "name": "stderr",
     "output_type": "stream",
     "text": [
      "Train: 100%|██████████| 82/82 [00:24<00:00,  3.41it/s, Loss=3.89, Score=0.513]\n",
      "Valid: 100%|██████████| 12/12 [00:02<00:00,  5.08it/s, Loss=4.9, Score=0.387] \n",
      "Train:   0%|          | 0/82 [00:00<?, ?it/s]"
     ]
    },
    {
     "name": "stdout",
     "output_type": "stream",
     "text": [
      "\n",
      "Epoch: 34\n",
      "NOT FOUND\n",
      "../swinoutputs/FTUnetFormer_SwinTransformer_8_decode256_adam_Dice.pth\n"
     ]
    },
    {
     "name": "stderr",
     "output_type": "stream",
     "text": [
      "Train: 100%|██████████| 82/82 [00:24<00:00,  3.41it/s, Loss=3.79, Score=0.526]\n",
      "Valid: 100%|██████████| 12/12 [00:02<00:00,  5.08it/s, Loss=4.84, Score=0.395]\n",
      "Train:   0%|          | 0/82 [00:00<?, ?it/s]"
     ]
    },
    {
     "name": "stdout",
     "output_type": "stream",
     "text": [
      "\n",
      "Epoch: 35\n",
      "NOT FOUND\n",
      "../swinoutputs/FTUnetFormer_SwinTransformer_8_decode256_adam_Dice.pth\n"
     ]
    },
    {
     "name": "stderr",
     "output_type": "stream",
     "text": [
      "Train: 100%|██████████| 82/82 [00:24<00:00,  3.40it/s, Loss=3.82, Score=0.522]\n",
      "Valid: 100%|██████████| 12/12 [00:02<00:00,  4.96it/s, Loss=4.79, Score=0.401]\n",
      "Train:   0%|          | 0/82 [00:00<?, ?it/s]"
     ]
    },
    {
     "name": "stdout",
     "output_type": "stream",
     "text": [
      "\n",
      "Epoch: 36\n",
      "NOT FOUND\n",
      "../swinoutputs/FTUnetFormer_SwinTransformer_8_decode256_adam_Dice.pth\n"
     ]
    },
    {
     "name": "stderr",
     "output_type": "stream",
     "text": [
      "Train: 100%|██████████| 82/82 [00:23<00:00,  3.43it/s, Loss=3.81, Score=0.523]\n",
      "Valid: 100%|██████████| 12/12 [00:02<00:00,  5.02it/s, Loss=4.72, Score=0.41] \n",
      "Train:   0%|          | 0/82 [00:00<?, ?it/s]"
     ]
    },
    {
     "name": "stdout",
     "output_type": "stream",
     "text": [
      "\n",
      "Epoch: 37\n",
      "NOT FOUND\n",
      "../swinoutputs/FTUnetFormer_SwinTransformer_8_decode256_adam_Dice.pth\n"
     ]
    },
    {
     "name": "stderr",
     "output_type": "stream",
     "text": [
      "Train: 100%|██████████| 82/82 [00:24<00:00,  3.40it/s, Loss=3.84, Score=0.52] \n",
      "Valid: 100%|██████████| 12/12 [00:02<00:00,  5.12it/s, Loss=4.83, Score=0.397]\n",
      "Train:   0%|          | 0/82 [00:00<?, ?it/s]"
     ]
    },
    {
     "name": "stdout",
     "output_type": "stream",
     "text": [
      "\n",
      "Epoch: 38\n",
      "NOT FOUND\n",
      "../swinoutputs/FTUnetFormer_SwinTransformer_8_decode256_adam_Dice.pth\n"
     ]
    },
    {
     "name": "stderr",
     "output_type": "stream",
     "text": [
      "Train: 100%|██████████| 82/82 [00:24<00:00,  3.41it/s, Loss=3.82, Score=0.523]\n",
      "Valid: 100%|██████████| 12/12 [00:02<00:00,  5.02it/s, Loss=4.82, Score=0.397]\n",
      "Train:   0%|          | 0/82 [00:00<?, ?it/s]"
     ]
    },
    {
     "name": "stdout",
     "output_type": "stream",
     "text": [
      "\n",
      "Epoch: 39\n",
      "NOT FOUND\n",
      "../swinoutputs/FTUnetFormer_SwinTransformer_8_decode256_adam_Dice.pth\n"
     ]
    },
    {
     "name": "stderr",
     "output_type": "stream",
     "text": [
      "Train: 100%|██████████| 82/82 [00:24<00:00,  3.40it/s, Loss=3.83, Score=0.522]\n",
      "Valid: 100%|██████████| 12/12 [00:02<00:00,  5.04it/s, Loss=4.74, Score=0.408]\n",
      "Train:   0%|          | 0/82 [00:00<?, ?it/s]"
     ]
    },
    {
     "name": "stdout",
     "output_type": "stream",
     "text": [
      "\n",
      "Epoch: 40\n",
      "NOT FOUND\n",
      "../swinoutputs/FTUnetFormer_SwinTransformer_8_decode256_adam_Dice.pth\n"
     ]
    },
    {
     "name": "stderr",
     "output_type": "stream",
     "text": [
      "Train: 100%|██████████| 82/82 [00:24<00:00,  3.41it/s, Loss=3.72, Score=0.535]\n",
      "Valid: 100%|██████████| 12/12 [00:02<00:00,  5.14it/s, Loss=4.75, Score=0.406]\n",
      "Train:   0%|          | 0/82 [00:00<?, ?it/s]"
     ]
    },
    {
     "name": "stdout",
     "output_type": "stream",
     "text": [
      "\n",
      "Epoch: 41\n",
      "NOT FOUND\n",
      "../swinoutputs/FTUnetFormer_SwinTransformer_8_decode256_adam_Dice.pth\n"
     ]
    },
    {
     "name": "stderr",
     "output_type": "stream",
     "text": [
      "Train: 100%|██████████| 82/82 [00:24<00:00,  3.41it/s, Loss=3.78, Score=0.527]\n",
      "Valid: 100%|██████████| 12/12 [00:02<00:00,  5.07it/s, Loss=4.73, Score=0.408]\n",
      "Train:   0%|          | 0/82 [00:00<?, ?it/s]"
     ]
    },
    {
     "name": "stdout",
     "output_type": "stream",
     "text": [
      "\n",
      "Epoch: 42\n",
      "NOT FOUND\n",
      "../swinoutputs/FTUnetFormer_SwinTransformer_8_decode256_adam_Dice.pth\n"
     ]
    },
    {
     "name": "stderr",
     "output_type": "stream",
     "text": [
      "Train: 100%|██████████| 82/82 [00:24<00:00,  3.40it/s, Loss=3.82, Score=0.523]\n",
      "Valid: 100%|██████████| 12/12 [00:02<00:00,  5.14it/s, Loss=4.79, Score=0.401]\n",
      "Train:   0%|          | 0/82 [00:00<?, ?it/s]"
     ]
    },
    {
     "name": "stdout",
     "output_type": "stream",
     "text": [
      "\n",
      "Epoch: 43\n",
      "NOT FOUND\n",
      "../swinoutputs/FTUnetFormer_SwinTransformer_8_decode256_adam_Dice.pth\n"
     ]
    },
    {
     "name": "stderr",
     "output_type": "stream",
     "text": [
      "Train: 100%|██████████| 82/82 [00:24<00:00,  3.40it/s, Loss=3.84, Score=0.52] \n",
      "Valid: 100%|██████████| 12/12 [00:02<00:00,  5.15it/s, Loss=4.84, Score=0.395]\n",
      "Train:   0%|          | 0/82 [00:00<?, ?it/s]"
     ]
    },
    {
     "name": "stdout",
     "output_type": "stream",
     "text": [
      "\n",
      "Epoch: 44\n",
      "NOT FOUND\n",
      "../swinoutputs/FTUnetFormer_SwinTransformer_8_decode256_adam_Dice.pth\n"
     ]
    },
    {
     "name": "stderr",
     "output_type": "stream",
     "text": [
      "Train: 100%|██████████| 82/82 [00:24<00:00,  3.42it/s, Loss=3.73, Score=0.534]\n",
      "Valid: 100%|██████████| 12/12 [00:02<00:00,  5.16it/s, Loss=4.75, Score=0.407]\n",
      "Train:   0%|          | 0/82 [00:00<?, ?it/s]"
     ]
    },
    {
     "name": "stdout",
     "output_type": "stream",
     "text": [
      "\n",
      "Epoch: 45\n",
      "NOT FOUND\n",
      "../swinoutputs/FTUnetFormer_SwinTransformer_8_decode256_adam_Dice.pth\n"
     ]
    },
    {
     "name": "stderr",
     "output_type": "stream",
     "text": [
      "Train: 100%|██████████| 82/82 [00:23<00:00,  3.43it/s, Loss=3.83, Score=0.521]\n",
      "Valid: 100%|██████████| 12/12 [00:02<00:00,  5.08it/s, Loss=4.79, Score=0.401]\n",
      "Train:   0%|          | 0/82 [00:00<?, ?it/s]"
     ]
    },
    {
     "name": "stdout",
     "output_type": "stream",
     "text": [
      "\n",
      "Epoch: 46\n",
      "NOT FOUND\n",
      "../swinoutputs/FTUnetFormer_SwinTransformer_8_decode256_adam_Dice.pth\n"
     ]
    },
    {
     "name": "stderr",
     "output_type": "stream",
     "text": [
      "Train: 100%|██████████| 82/82 [00:24<00:00,  3.42it/s, Loss=3.78, Score=0.527]\n",
      "Valid: 100%|██████████| 12/12 [00:02<00:00,  5.13it/s, Loss=4.75, Score=0.406]\n",
      "Train:   0%|          | 0/82 [00:00<?, ?it/s]"
     ]
    },
    {
     "name": "stdout",
     "output_type": "stream",
     "text": [
      "\n",
      "Epoch: 47\n",
      "NOT FOUND\n",
      "../swinoutputs/FTUnetFormer_SwinTransformer_8_decode256_adam_Dice.pth\n"
     ]
    },
    {
     "name": "stderr",
     "output_type": "stream",
     "text": [
      "Train: 100%|██████████| 82/82 [00:23<00:00,  3.44it/s, Loss=3.87, Score=0.516]\n",
      "Valid: 100%|██████████| 12/12 [00:02<00:00,  5.08it/s, Loss=4.72, Score=0.41] \n",
      "Train:   0%|          | 0/82 [00:00<?, ?it/s]"
     ]
    },
    {
     "name": "stdout",
     "output_type": "stream",
     "text": [
      "\n",
      "Epoch: 48\n",
      "NOT FOUND\n",
      "../swinoutputs/FTUnetFormer_SwinTransformer_8_decode256_adam_Dice.pth\n"
     ]
    },
    {
     "name": "stderr",
     "output_type": "stream",
     "text": [
      "Train: 100%|██████████| 82/82 [00:23<00:00,  3.43it/s, Loss=3.72, Score=0.536]\n",
      "Valid: 100%|██████████| 12/12 [00:02<00:00,  5.11it/s, Loss=4.72, Score=0.41] \n",
      "Train:   0%|          | 0/82 [00:00<?, ?it/s]"
     ]
    },
    {
     "name": "stdout",
     "output_type": "stream",
     "text": [
      "\n",
      "Epoch: 49\n",
      "NOT FOUND\n",
      "../swinoutputs/FTUnetFormer_SwinTransformer_8_decode256_adam_Dice.pth\n"
     ]
    },
    {
     "name": "stderr",
     "output_type": "stream",
     "text": [
      "Train: 100%|██████████| 82/82 [00:23<00:00,  3.43it/s, Loss=3.77, Score=0.529]\n",
      "Valid: 100%|██████████| 12/12 [00:02<00:00,  5.05it/s, Loss=4.73, Score=0.409]\n",
      "Train:   0%|          | 0/82 [00:00<?, ?it/s]"
     ]
    },
    {
     "name": "stdout",
     "output_type": "stream",
     "text": [
      "\n",
      "Epoch: 50\n",
      "NOT FOUND\n",
      "../swinoutputs/FTUnetFormer_SwinTransformer_8_decode256_adam_Dice.pth\n"
     ]
    },
    {
     "name": "stderr",
     "output_type": "stream",
     "text": [
      "Train: 100%|██████████| 82/82 [00:23<00:00,  3.42it/s, Loss=3.79, Score=0.526]\n",
      "Valid: 100%|██████████| 12/12 [00:02<00:00,  5.00it/s, Loss=4.73, Score=0.409]\n",
      "Train:   0%|          | 0/82 [00:00<?, ?it/s]"
     ]
    },
    {
     "name": "stdout",
     "output_type": "stream",
     "text": [
      "\n",
      "Epoch: 51\n",
      "NOT FOUND\n",
      "../swinoutputs/FTUnetFormer_SwinTransformer_8_decode256_adam_Dice.pth\n"
     ]
    },
    {
     "name": "stderr",
     "output_type": "stream",
     "text": [
      "Train: 100%|██████████| 82/82 [00:23<00:00,  3.42it/s, Loss=3.88, Score=0.515]\n",
      "Valid: 100%|██████████| 12/12 [00:02<00:00,  5.12it/s, Loss=5.02, Score=0.373]\n",
      "Train:   0%|          | 0/82 [00:00<?, ?it/s]"
     ]
    },
    {
     "name": "stdout",
     "output_type": "stream",
     "text": [
      "\n",
      "Epoch: 52\n",
      "NOT FOUND\n",
      "../swinoutputs/FTUnetFormer_SwinTransformer_8_decode256_adam_Dice.pth\n"
     ]
    },
    {
     "name": "stderr",
     "output_type": "stream",
     "text": [
      "Train: 100%|██████████| 82/82 [00:23<00:00,  3.42it/s, Loss=4.02, Score=0.497]\n",
      "Valid: 100%|██████████| 12/12 [00:02<00:00,  5.01it/s, Loss=5.11, Score=0.361]\n",
      "Train:   0%|          | 0/82 [00:00<?, ?it/s]"
     ]
    },
    {
     "name": "stdout",
     "output_type": "stream",
     "text": [
      "\n",
      "Epoch: 53\n",
      "NOT FOUND\n",
      "../swinoutputs/FTUnetFormer_SwinTransformer_8_decode256_adam_Dice.pth\n"
     ]
    },
    {
     "name": "stderr",
     "output_type": "stream",
     "text": [
      "Train: 100%|██████████| 82/82 [00:23<00:00,  3.43it/s, Loss=3.91, Score=0.511]\n",
      "Valid: 100%|██████████| 12/12 [00:02<00:00,  5.02it/s, Loss=4.88, Score=0.391]\n",
      "Train:   0%|          | 0/82 [00:00<?, ?it/s]"
     ]
    },
    {
     "name": "stdout",
     "output_type": "stream",
     "text": [
      "\n",
      "Epoch: 54\n",
      "NOT FOUND\n",
      "../swinoutputs/FTUnetFormer_SwinTransformer_8_decode256_adam_Dice.pth\n"
     ]
    },
    {
     "name": "stderr",
     "output_type": "stream",
     "text": [
      "Train: 100%|██████████| 82/82 [00:23<00:00,  3.44it/s, Loss=3.78, Score=0.528]\n",
      "Valid: 100%|██████████| 12/12 [00:02<00:00,  5.12it/s, Loss=4.8, Score=0.4]   \n",
      "Train:   0%|          | 0/82 [00:00<?, ?it/s]"
     ]
    },
    {
     "name": "stdout",
     "output_type": "stream",
     "text": [
      "\n",
      "Epoch: 55\n",
      "NOT FOUND\n",
      "../swinoutputs/FTUnetFormer_SwinTransformer_8_decode256_adam_Dice.pth\n"
     ]
    },
    {
     "name": "stderr",
     "output_type": "stream",
     "text": [
      "Train: 100%|██████████| 82/82 [00:23<00:00,  3.44it/s, Loss=3.8, Score=0.525] \n",
      "Valid: 100%|██████████| 12/12 [00:02<00:00,  4.95it/s, Loss=4.69, Score=0.413]\n",
      "Train:   0%|          | 0/82 [00:00<?, ?it/s]"
     ]
    },
    {
     "name": "stdout",
     "output_type": "stream",
     "text": [
      "model saved\n",
      "\n",
      "Epoch: 56\n",
      "NOT FOUND\n",
      "../swinoutputs/FTUnetFormer_SwinTransformer_8_decode256_adam_Dice.pth\n"
     ]
    },
    {
     "name": "stderr",
     "output_type": "stream",
     "text": [
      "Train: 100%|██████████| 82/82 [00:23<00:00,  3.44it/s, Loss=3.78, Score=0.527]\n",
      "Valid: 100%|██████████| 12/12 [00:02<00:00,  5.07it/s, Loss=4.77, Score=0.403]\n",
      "Train:   0%|          | 0/82 [00:00<?, ?it/s]"
     ]
    },
    {
     "name": "stdout",
     "output_type": "stream",
     "text": [
      "\n",
      "Epoch: 57\n",
      "NOT FOUND\n",
      "../swinoutputs/FTUnetFormer_SwinTransformer_8_decode256_adam_Dice.pth\n"
     ]
    },
    {
     "name": "stderr",
     "output_type": "stream",
     "text": [
      "Train: 100%|██████████| 82/82 [00:23<00:00,  3.44it/s, Loss=3.77, Score=0.529]\n",
      "Valid: 100%|██████████| 12/12 [00:02<00:00,  5.18it/s, Loss=4.65, Score=0.419]\n",
      "Train:   0%|          | 0/82 [00:00<?, ?it/s]"
     ]
    },
    {
     "name": "stdout",
     "output_type": "stream",
     "text": [
      "model saved\n",
      "\n",
      "Epoch: 58\n",
      "NOT FOUND\n",
      "../swinoutputs/FTUnetFormer_SwinTransformer_8_decode256_adam_Dice.pth\n"
     ]
    },
    {
     "name": "stderr",
     "output_type": "stream",
     "text": [
      "Train: 100%|██████████| 82/82 [00:23<00:00,  3.45it/s, Loss=3.76, Score=0.53] \n",
      "Valid: 100%|██████████| 12/12 [00:02<00:00,  5.05it/s, Loss=4.76, Score=0.404]\n",
      "Train:   0%|          | 0/82 [00:00<?, ?it/s]"
     ]
    },
    {
     "name": "stdout",
     "output_type": "stream",
     "text": [
      "\n",
      "Epoch: 59\n",
      "NOT FOUND\n",
      "../swinoutputs/FTUnetFormer_SwinTransformer_8_decode256_adam_Dice.pth\n"
     ]
    },
    {
     "name": "stderr",
     "output_type": "stream",
     "text": [
      "Train: 100%|██████████| 82/82 [00:23<00:00,  3.44it/s, Loss=3.86, Score=0.518]\n",
      "Valid: 100%|██████████| 12/12 [00:02<00:00,  5.05it/s, Loss=4.7, Score=0.413] \n",
      "Train:   0%|          | 0/82 [00:00<?, ?it/s]"
     ]
    },
    {
     "name": "stdout",
     "output_type": "stream",
     "text": [
      "\n",
      "Epoch: 60\n",
      "NOT FOUND\n",
      "../swinoutputs/FTUnetFormer_SwinTransformer_8_decode256_adam_Dice.pth\n"
     ]
    },
    {
     "name": "stderr",
     "output_type": "stream",
     "text": [
      "Train: 100%|██████████| 82/82 [00:23<00:00,  3.45it/s, Loss=3.72, Score=0.535]\n",
      "Valid: 100%|██████████| 12/12 [00:02<00:00,  5.01it/s, Loss=4.68, Score=0.414]\n",
      "Train:   0%|          | 0/82 [00:00<?, ?it/s]"
     ]
    },
    {
     "name": "stdout",
     "output_type": "stream",
     "text": [
      "\n",
      "Epoch: 61\n",
      "NOT FOUND\n",
      "../swinoutputs/FTUnetFormer_SwinTransformer_8_decode256_adam_Dice.pth\n"
     ]
    },
    {
     "name": "stderr",
     "output_type": "stream",
     "text": [
      "Train: 100%|██████████| 82/82 [00:23<00:00,  3.43it/s, Loss=3.87, Score=0.516]\n",
      "Valid: 100%|██████████| 12/12 [00:02<00:00,  5.06it/s, Loss=4.79, Score=0.402]\n",
      "Train:   0%|          | 0/82 [00:00<?, ?it/s]"
     ]
    },
    {
     "name": "stdout",
     "output_type": "stream",
     "text": [
      "\n",
      "Epoch: 62\n",
      "NOT FOUND\n",
      "../swinoutputs/FTUnetFormer_SwinTransformer_8_decode256_adam_Dice.pth\n"
     ]
    },
    {
     "name": "stderr",
     "output_type": "stream",
     "text": [
      "Train: 100%|██████████| 82/82 [00:23<00:00,  3.43it/s, Loss=3.87, Score=0.516]\n",
      "Valid: 100%|██████████| 12/12 [00:02<00:00,  5.14it/s, Loss=4.87, Score=0.392]\n",
      "Train:   0%|          | 0/82 [00:00<?, ?it/s]"
     ]
    },
    {
     "name": "stdout",
     "output_type": "stream",
     "text": [
      "\n",
      "Epoch: 63\n",
      "NOT FOUND\n",
      "../swinoutputs/FTUnetFormer_SwinTransformer_8_decode256_adam_Dice.pth\n"
     ]
    },
    {
     "name": "stderr",
     "output_type": "stream",
     "text": [
      "Train: 100%|██████████| 82/82 [00:23<00:00,  3.44it/s, Loss=3.86, Score=0.518]\n",
      "Valid: 100%|██████████| 12/12 [00:02<00:00,  5.10it/s, Loss=4.77, Score=0.403]\n",
      "Train:   0%|          | 0/82 [00:00<?, ?it/s]"
     ]
    },
    {
     "name": "stdout",
     "output_type": "stream",
     "text": [
      "\n",
      "Epoch: 64\n",
      "NOT FOUND\n",
      "../swinoutputs/FTUnetFormer_SwinTransformer_8_decode256_adam_Dice.pth\n"
     ]
    },
    {
     "name": "stderr",
     "output_type": "stream",
     "text": [
      "Train: 100%|██████████| 82/82 [00:23<00:00,  3.43it/s, Loss=3.82, Score=0.522]\n",
      "Valid: 100%|██████████| 12/12 [00:02<00:00,  5.09it/s, Loss=4.77, Score=0.403]\n",
      "Train:   0%|          | 0/82 [00:00<?, ?it/s]"
     ]
    },
    {
     "name": "stdout",
     "output_type": "stream",
     "text": [
      "\n",
      "Epoch: 65\n",
      "NOT FOUND\n",
      "../swinoutputs/FTUnetFormer_SwinTransformer_8_decode256_adam_Dice.pth\n"
     ]
    },
    {
     "name": "stderr",
     "output_type": "stream",
     "text": [
      "Train: 100%|██████████| 82/82 [00:23<00:00,  3.44it/s, Loss=3.77, Score=0.529]\n",
      "Valid: 100%|██████████| 12/12 [00:02<00:00,  5.13it/s, Loss=4.84, Score=0.395]\n",
      "Train:   0%|          | 0/82 [00:00<?, ?it/s]"
     ]
    },
    {
     "name": "stdout",
     "output_type": "stream",
     "text": [
      "\n",
      "Epoch: 66\n",
      "NOT FOUND\n",
      "../swinoutputs/FTUnetFormer_SwinTransformer_8_decode256_adam_Dice.pth\n"
     ]
    },
    {
     "name": "stderr",
     "output_type": "stream",
     "text": [
      "Train: 100%|██████████| 82/82 [00:23<00:00,  3.45it/s, Loss=3.8, Score=0.525] \n",
      "Valid: 100%|██████████| 12/12 [00:02<00:00,  5.04it/s, Loss=4.85, Score=0.394]\n",
      "Train:   0%|          | 0/82 [00:00<?, ?it/s]"
     ]
    },
    {
     "name": "stdout",
     "output_type": "stream",
     "text": [
      "\n",
      "Epoch: 67\n",
      "NOT FOUND\n",
      "../swinoutputs/FTUnetFormer_SwinTransformer_8_decode256_adam_Dice.pth\n"
     ]
    },
    {
     "name": "stderr",
     "output_type": "stream",
     "text": [
      "Train: 100%|██████████| 82/82 [00:23<00:00,  3.43it/s, Loss=3.87, Score=0.516]\n",
      "Valid: 100%|██████████| 12/12 [00:02<00:00,  5.13it/s, Loss=4.75, Score=0.407]\n",
      "Train:   0%|          | 0/82 [00:00<?, ?it/s]"
     ]
    },
    {
     "name": "stdout",
     "output_type": "stream",
     "text": [
      "\n",
      "Epoch: 68\n",
      "NOT FOUND\n",
      "../swinoutputs/FTUnetFormer_SwinTransformer_8_decode256_adam_Dice.pth\n"
     ]
    },
    {
     "name": "stderr",
     "output_type": "stream",
     "text": [
      "Train: 100%|██████████| 82/82 [00:23<00:00,  3.44it/s, Loss=3.8, Score=0.525] \n",
      "Valid: 100%|██████████| 12/12 [00:02<00:00,  5.19it/s, Loss=4.8, Score=0.4]   \n",
      "Train:   0%|          | 0/82 [00:00<?, ?it/s]"
     ]
    },
    {
     "name": "stdout",
     "output_type": "stream",
     "text": [
      "\n",
      "Epoch: 69\n",
      "NOT FOUND\n",
      "../swinoutputs/FTUnetFormer_SwinTransformer_8_decode256_adam_Dice.pth\n"
     ]
    },
    {
     "name": "stderr",
     "output_type": "stream",
     "text": [
      "Train: 100%|██████████| 82/82 [00:23<00:00,  3.44it/s, Loss=3.83, Score=0.521]\n",
      "Valid: 100%|██████████| 12/12 [00:02<00:00,  5.12it/s, Loss=4.72, Score=0.411]\n",
      "Train:   0%|          | 0/82 [00:00<?, ?it/s]"
     ]
    },
    {
     "name": "stdout",
     "output_type": "stream",
     "text": [
      "\n",
      "Epoch: 70\n",
      "NOT FOUND\n",
      "../swinoutputs/FTUnetFormer_SwinTransformer_8_decode256_adam_Dice.pth\n"
     ]
    },
    {
     "name": "stderr",
     "output_type": "stream",
     "text": [
      "Train: 100%|██████████| 82/82 [00:23<00:00,  3.46it/s, Loss=3.8, Score=0.525] \n",
      "Valid: 100%|██████████| 12/12 [00:02<00:00,  4.94it/s, Loss=4.71, Score=0.412]\n",
      "Train:   0%|          | 0/82 [00:00<?, ?it/s]"
     ]
    },
    {
     "name": "stdout",
     "output_type": "stream",
     "text": [
      "\n",
      "Epoch: 71\n",
      "NOT FOUND\n",
      "../swinoutputs/FTUnetFormer_SwinTransformer_8_decode256_adam_Dice.pth\n"
     ]
    },
    {
     "name": "stderr",
     "output_type": "stream",
     "text": [
      "Train: 100%|██████████| 82/82 [00:23<00:00,  3.44it/s, Loss=3.72, Score=0.535]\n",
      "Valid: 100%|██████████| 12/12 [00:02<00:00,  5.11it/s, Loss=4.72, Score=0.41] \n",
      "Train:   0%|          | 0/82 [00:00<?, ?it/s]"
     ]
    },
    {
     "name": "stdout",
     "output_type": "stream",
     "text": [
      "\n",
      "Epoch: 72\n",
      "NOT FOUND\n",
      "../swinoutputs/FTUnetFormer_SwinTransformer_8_decode256_adam_Dice.pth\n"
     ]
    },
    {
     "name": "stderr",
     "output_type": "stream",
     "text": [
      "Train: 100%|██████████| 82/82 [00:23<00:00,  3.45it/s, Loss=3.8, Score=0.525] \n",
      "Valid: 100%|██████████| 12/12 [00:02<00:00,  5.09it/s, Loss=4.75, Score=0.406]\n",
      "Train:   0%|          | 0/82 [00:00<?, ?it/s]"
     ]
    },
    {
     "name": "stdout",
     "output_type": "stream",
     "text": [
      "\n",
      "Epoch: 73\n",
      "NOT FOUND\n",
      "../swinoutputs/FTUnetFormer_SwinTransformer_8_decode256_adam_Dice.pth\n"
     ]
    },
    {
     "name": "stderr",
     "output_type": "stream",
     "text": [
      "Train: 100%|██████████| 82/82 [00:23<00:00,  3.44it/s, Loss=3.8, Score=0.525] \n",
      "Valid: 100%|██████████| 12/12 [00:02<00:00,  5.12it/s, Loss=4.81, Score=0.398]\n",
      "Train:   0%|          | 0/82 [00:00<?, ?it/s]"
     ]
    },
    {
     "name": "stdout",
     "output_type": "stream",
     "text": [
      "\n",
      "Epoch: 74\n",
      "NOT FOUND\n",
      "../swinoutputs/FTUnetFormer_SwinTransformer_8_decode256_adam_Dice.pth\n"
     ]
    },
    {
     "name": "stderr",
     "output_type": "stream",
     "text": [
      "Train: 100%|██████████| 82/82 [00:23<00:00,  3.45it/s, Loss=3.78, Score=0.527]\n",
      "Valid: 100%|██████████| 12/12 [00:02<00:00,  5.21it/s, Loss=4.78, Score=0.403]\n",
      "Train:   0%|          | 0/82 [00:00<?, ?it/s]"
     ]
    },
    {
     "name": "stdout",
     "output_type": "stream",
     "text": [
      "\n",
      "Epoch: 75\n",
      "NOT FOUND\n",
      "../swinoutputs/FTUnetFormer_SwinTransformer_8_decode256_adam_Dice.pth\n"
     ]
    },
    {
     "name": "stderr",
     "output_type": "stream",
     "text": [
      "Train: 100%|██████████| 82/82 [00:23<00:00,  3.44it/s, Loss=3.7, Score=0.537] \n",
      "Valid: 100%|██████████| 12/12 [00:02<00:00,  5.18it/s, Loss=4.61, Score=0.424]\n",
      "Train:   0%|          | 0/82 [00:00<?, ?it/s]"
     ]
    },
    {
     "name": "stdout",
     "output_type": "stream",
     "text": [
      "model saved\n",
      "\n",
      "Epoch: 76\n",
      "NOT FOUND\n",
      "../swinoutputs/FTUnetFormer_SwinTransformer_8_decode256_adam_Dice.pth\n"
     ]
    },
    {
     "name": "stderr",
     "output_type": "stream",
     "text": [
      "Train: 100%|██████████| 82/82 [00:23<00:00,  3.45it/s, Loss=3.76, Score=0.53] \n",
      "Valid: 100%|██████████| 12/12 [00:02<00:00,  5.14it/s, Loss=4.78, Score=0.402]\n",
      "Train:   0%|          | 0/82 [00:00<?, ?it/s]"
     ]
    },
    {
     "name": "stdout",
     "output_type": "stream",
     "text": [
      "\n",
      "Epoch: 77\n",
      "NOT FOUND\n",
      "../swinoutputs/FTUnetFormer_SwinTransformer_8_decode256_adam_Dice.pth\n"
     ]
    },
    {
     "name": "stderr",
     "output_type": "stream",
     "text": [
      "Train: 100%|██████████| 82/82 [00:23<00:00,  3.44it/s, Loss=3.95, Score=0.507]\n",
      "Valid: 100%|██████████| 12/12 [00:02<00:00,  5.14it/s, Loss=4.76, Score=0.405]\n",
      "Train:   0%|          | 0/82 [00:00<?, ?it/s]"
     ]
    },
    {
     "name": "stdout",
     "output_type": "stream",
     "text": [
      "\n",
      "Epoch: 78\n",
      "NOT FOUND\n",
      "../swinoutputs/FTUnetFormer_SwinTransformer_8_decode256_adam_Dice.pth\n"
     ]
    },
    {
     "name": "stderr",
     "output_type": "stream",
     "text": [
      "Train: 100%|██████████| 82/82 [00:23<00:00,  3.45it/s, Loss=3.78, Score=0.527]\n",
      "Valid: 100%|██████████| 12/12 [00:02<00:00,  5.13it/s, Loss=4.76, Score=0.404]\n",
      "Train:   0%|          | 0/82 [00:00<?, ?it/s]"
     ]
    },
    {
     "name": "stdout",
     "output_type": "stream",
     "text": [
      "\n",
      "Epoch: 79\n",
      "NOT FOUND\n",
      "../swinoutputs/FTUnetFormer_SwinTransformer_8_decode256_adam_Dice.pth\n"
     ]
    },
    {
     "name": "stderr",
     "output_type": "stream",
     "text": [
      "Train: 100%|██████████| 82/82 [00:23<00:00,  3.45it/s, Loss=3.8, Score=0.526] \n",
      "Valid: 100%|██████████| 12/12 [00:02<00:00,  5.18it/s, Loss=4.66, Score=0.418]\n",
      "Train:   0%|          | 0/82 [00:00<?, ?it/s]"
     ]
    },
    {
     "name": "stdout",
     "output_type": "stream",
     "text": [
      "\n",
      "Epoch: 80\n",
      "NOT FOUND\n",
      "../swinoutputs/FTUnetFormer_SwinTransformer_8_decode256_adam_Dice.pth\n"
     ]
    },
    {
     "name": "stderr",
     "output_type": "stream",
     "text": [
      "Train: 100%|██████████| 82/82 [00:23<00:00,  3.46it/s, Loss=3.79, Score=0.526]\n",
      "Valid: 100%|██████████| 12/12 [00:02<00:00,  5.23it/s, Loss=4.72, Score=0.411]\n",
      "Train:   0%|          | 0/82 [00:00<?, ?it/s]"
     ]
    },
    {
     "name": "stdout",
     "output_type": "stream",
     "text": [
      "\n",
      "Epoch: 81\n",
      "NOT FOUND\n",
      "../swinoutputs/FTUnetFormer_SwinTransformer_8_decode256_adam_Dice.pth\n"
     ]
    },
    {
     "name": "stderr",
     "output_type": "stream",
     "text": [
      "Train: 100%|██████████| 82/82 [00:23<00:00,  3.46it/s, Loss=3.79, Score=0.527]\n",
      "Valid: 100%|██████████| 12/12 [00:02<00:00,  5.06it/s, Loss=4.81, Score=0.399]\n",
      "Train:   0%|          | 0/82 [00:00<?, ?it/s]"
     ]
    },
    {
     "name": "stdout",
     "output_type": "stream",
     "text": [
      "\n",
      "Epoch: 82\n",
      "NOT FOUND\n",
      "../swinoutputs/FTUnetFormer_SwinTransformer_8_decode256_adam_Dice.pth\n"
     ]
    },
    {
     "name": "stderr",
     "output_type": "stream",
     "text": [
      "Train: 100%|██████████| 82/82 [00:23<00:00,  3.45it/s, Loss=3.8, Score=0.525] \n",
      "Valid: 100%|██████████| 12/12 [00:02<00:00,  5.17it/s, Loss=4.78, Score=0.403]\n",
      "Train:   0%|          | 0/82 [00:00<?, ?it/s]"
     ]
    },
    {
     "name": "stdout",
     "output_type": "stream",
     "text": [
      "\n",
      "Epoch: 83\n",
      "NOT FOUND\n",
      "../swinoutputs/FTUnetFormer_SwinTransformer_8_decode256_adam_Dice.pth\n"
     ]
    },
    {
     "name": "stderr",
     "output_type": "stream",
     "text": [
      "Train: 100%|██████████| 82/82 [00:23<00:00,  3.45it/s, Loss=3.68, Score=0.539]\n",
      "Valid: 100%|██████████| 12/12 [00:02<00:00,  5.18it/s, Loss=4.7, Score=0.413] \n",
      "Train:   0%|          | 0/82 [00:00<?, ?it/s]"
     ]
    },
    {
     "name": "stdout",
     "output_type": "stream",
     "text": [
      "\n",
      "Epoch: 84\n",
      "NOT FOUND\n",
      "../swinoutputs/FTUnetFormer_SwinTransformer_8_decode256_adam_Dice.pth\n"
     ]
    },
    {
     "name": "stderr",
     "output_type": "stream",
     "text": [
      "Train: 100%|██████████| 82/82 [00:23<00:00,  3.44it/s, Loss=3.64, Score=0.545]\n",
      "Valid: 100%|██████████| 12/12 [00:02<00:00,  5.01it/s, Loss=4.79, Score=0.402]\n",
      "Train:   0%|          | 0/82 [00:00<?, ?it/s]"
     ]
    },
    {
     "name": "stdout",
     "output_type": "stream",
     "text": [
      "\n",
      "Epoch: 85\n",
      "NOT FOUND\n",
      "../swinoutputs/FTUnetFormer_SwinTransformer_8_decode256_adam_Dice.pth\n"
     ]
    }
   ],
   "source": [
    "# %%capture cap_training\n",
    "from swintransformer_model_run import run_one_model\n",
    "\n",
    "# Based on best performance so far\n",
    "best_score, name = run_one_model(train_data, val_data, 8, 256, 'adam', 'Dice', epochs=NUM_EPOCHS, train_existing=True)"
   ]
  },
  {
   "cell_type": "code",
   "execution_count": 22,
   "metadata": {},
   "outputs": [
    {
     "data": {
      "text/html": [
       "<div>\n",
       "<style scoped>\n",
       "    .dataframe tbody tr th:only-of-type {\n",
       "        vertical-align: middle;\n",
       "    }\n",
       "\n",
       "    .dataframe tbody tr th {\n",
       "        vertical-align: top;\n",
       "    }\n",
       "\n",
       "    .dataframe thead th {\n",
       "        text-align: right;\n",
       "    }\n",
       "</style>\n",
       "<table border=\"1\" class=\"dataframe\">\n",
       "  <thead>\n",
       "    <tr style=\"text-align: right;\">\n",
       "      <th></th>\n",
       "      <th>Model</th>\n",
       "      <th>Batch_size</th>\n",
       "      <th>Optimizer</th>\n",
       "      <th>Criterion</th>\n",
       "      <th>Best Score</th>\n",
       "    </tr>\n",
       "  </thead>\n",
       "  <tbody>\n",
       "    <tr>\n",
       "      <th>0</th>\n",
       "      <td>FTUnetFormer_SwinTransformer</td>\n",
       "      <td>4</td>\n",
       "      <td>adam</td>\n",
       "      <td>CE</td>\n",
       "      <td>0.176996</td>\n",
       "    </tr>\n",
       "    <tr>\n",
       "      <th>1</th>\n",
       "      <td>FTUnetFormer_SwinTransformer</td>\n",
       "      <td>4</td>\n",
       "      <td>adam</td>\n",
       "      <td>Focal</td>\n",
       "      <td>0.119632</td>\n",
       "    </tr>\n",
       "    <tr>\n",
       "      <th>2</th>\n",
       "      <td>FTUnetFormer_SwinTransformer</td>\n",
       "      <td>4</td>\n",
       "      <td>adam</td>\n",
       "      <td>Jaccard</td>\n",
       "      <td>0.260501</td>\n",
       "    </tr>\n",
       "    <tr>\n",
       "      <th>3</th>\n",
       "      <td>FTUnetFormer_SwinTransformer</td>\n",
       "      <td>4</td>\n",
       "      <td>adam</td>\n",
       "      <td>Dice</td>\n",
       "      <td>0.249168</td>\n",
       "    </tr>\n",
       "    <tr>\n",
       "      <th>4</th>\n",
       "      <td>FTUnetFormer_SwinTransformer</td>\n",
       "      <td>4</td>\n",
       "      <td>adam</td>\n",
       "      <td>MCC</td>\n",
       "      <td>0.194517</td>\n",
       "    </tr>\n",
       "  </tbody>\n",
       "</table>\n",
       "</div>"
      ],
      "text/plain": [
       "                          Model  Batch_size Optimizer Criterion  Best Score\n",
       "0  FTUnetFormer_SwinTransformer           4      adam        CE    0.176996\n",
       "1  FTUnetFormer_SwinTransformer           4      adam     Focal    0.119632\n",
       "2  FTUnetFormer_SwinTransformer           4      adam   Jaccard    0.260501\n",
       "3  FTUnetFormer_SwinTransformer           4      adam      Dice    0.249168\n",
       "4  FTUnetFormer_SwinTransformer           4      adam       MCC    0.194517"
      ]
     },
     "execution_count": 22,
     "metadata": {},
     "output_type": "execute_result"
    }
   ],
   "source": [
    "import pandas as pd\n",
    "\n",
    "results = pd.read_csv('unetformer_results_swin.csv')\n",
    "results.head()"
   ]
  },
  {
   "cell_type": "code",
   "execution_count": 28,
   "metadata": {},
   "outputs": [],
   "source": [
    "def get_backbone(model):\n",
    "    return model.split(\"FTUNetFormer_\",1)[1]"
   ]
  },
  {
   "cell_type": "code",
   "execution_count": 29,
   "metadata": {},
   "outputs": [
    {
     "ename": "IndexError",
     "evalue": "list index out of range",
     "output_type": "error",
     "traceback": [
      "\u001b[0;31m---------------------------------------------------------------------------\u001b[0m",
      "\u001b[0;31mIndexError\u001b[0m                                Traceback (most recent call last)",
      "Cell \u001b[0;32mIn [29], line 1\u001b[0m\n\u001b[0;32m----> 1\u001b[0m results[\u001b[39m'\u001b[39m\u001b[39mbackbone\u001b[39m\u001b[39m'\u001b[39m] \u001b[39m=\u001b[39m results[\u001b[39m'\u001b[39;49m\u001b[39mModel\u001b[39;49m\u001b[39m'\u001b[39;49m]\u001b[39m.\u001b[39;49mapply(\u001b[39mlambda\u001b[39;49;00m x: get_backbone(x))\n",
      "File \u001b[0;32m~/.local/lib/python3.8/site-packages/pandas/core/series.py:4771\u001b[0m, in \u001b[0;36mSeries.apply\u001b[0;34m(self, func, convert_dtype, args, **kwargs)\u001b[0m\n\u001b[1;32m   4661\u001b[0m \u001b[39mdef\u001b[39;00m \u001b[39mapply\u001b[39m(\n\u001b[1;32m   4662\u001b[0m     \u001b[39mself\u001b[39m,\n\u001b[1;32m   4663\u001b[0m     func: AggFuncType,\n\u001b[0;32m   (...)\u001b[0m\n\u001b[1;32m   4666\u001b[0m     \u001b[39m*\u001b[39m\u001b[39m*\u001b[39mkwargs,\n\u001b[1;32m   4667\u001b[0m ) \u001b[39m-\u001b[39m\u001b[39m>\u001b[39m DataFrame \u001b[39m|\u001b[39m Series:\n\u001b[1;32m   4668\u001b[0m     \u001b[39m\"\"\"\u001b[39;00m\n\u001b[1;32m   4669\u001b[0m \u001b[39m    Invoke function on values of Series.\u001b[39;00m\n\u001b[1;32m   4670\u001b[0m \n\u001b[0;32m   (...)\u001b[0m\n\u001b[1;32m   4769\u001b[0m \u001b[39m    dtype: float64\u001b[39;00m\n\u001b[1;32m   4770\u001b[0m \u001b[39m    \"\"\"\u001b[39;00m\n\u001b[0;32m-> 4771\u001b[0m     \u001b[39mreturn\u001b[39;00m SeriesApply(\u001b[39mself\u001b[39;49m, func, convert_dtype, args, kwargs)\u001b[39m.\u001b[39;49mapply()\n",
      "File \u001b[0;32m~/.local/lib/python3.8/site-packages/pandas/core/apply.py:1105\u001b[0m, in \u001b[0;36mSeriesApply.apply\u001b[0;34m(self)\u001b[0m\n\u001b[1;32m   1102\u001b[0m     \u001b[39mreturn\u001b[39;00m \u001b[39mself\u001b[39m\u001b[39m.\u001b[39mapply_str()\n\u001b[1;32m   1104\u001b[0m \u001b[39m# self.f is Callable\u001b[39;00m\n\u001b[0;32m-> 1105\u001b[0m \u001b[39mreturn\u001b[39;00m \u001b[39mself\u001b[39;49m\u001b[39m.\u001b[39;49mapply_standard()\n",
      "File \u001b[0;32m~/.local/lib/python3.8/site-packages/pandas/core/apply.py:1156\u001b[0m, in \u001b[0;36mSeriesApply.apply_standard\u001b[0;34m(self)\u001b[0m\n\u001b[1;32m   1154\u001b[0m     \u001b[39melse\u001b[39;00m:\n\u001b[1;32m   1155\u001b[0m         values \u001b[39m=\u001b[39m obj\u001b[39m.\u001b[39mastype(\u001b[39mobject\u001b[39m)\u001b[39m.\u001b[39m_values\n\u001b[0;32m-> 1156\u001b[0m         mapped \u001b[39m=\u001b[39m lib\u001b[39m.\u001b[39;49mmap_infer(\n\u001b[1;32m   1157\u001b[0m             values,\n\u001b[1;32m   1158\u001b[0m             f,\n\u001b[1;32m   1159\u001b[0m             convert\u001b[39m=\u001b[39;49m\u001b[39mself\u001b[39;49m\u001b[39m.\u001b[39;49mconvert_dtype,\n\u001b[1;32m   1160\u001b[0m         )\n\u001b[1;32m   1162\u001b[0m \u001b[39mif\u001b[39;00m \u001b[39mlen\u001b[39m(mapped) \u001b[39mand\u001b[39;00m \u001b[39misinstance\u001b[39m(mapped[\u001b[39m0\u001b[39m], ABCSeries):\n\u001b[1;32m   1163\u001b[0m     \u001b[39m# GH#43986 Need to do list(mapped) in order to get treated as nested\u001b[39;00m\n\u001b[1;32m   1164\u001b[0m     \u001b[39m#  See also GH#25959 regarding EA support\u001b[39;00m\n\u001b[1;32m   1165\u001b[0m     \u001b[39mreturn\u001b[39;00m obj\u001b[39m.\u001b[39m_constructor_expanddim(\u001b[39mlist\u001b[39m(mapped), index\u001b[39m=\u001b[39mobj\u001b[39m.\u001b[39mindex)\n",
      "File \u001b[0;32m~/.local/lib/python3.8/site-packages/pandas/_libs/lib.pyx:2918\u001b[0m, in \u001b[0;36mpandas._libs.lib.map_infer\u001b[0;34m()\u001b[0m\n",
      "Cell \u001b[0;32mIn [29], line 1\u001b[0m, in \u001b[0;36m<lambda>\u001b[0;34m(x)\u001b[0m\n\u001b[0;32m----> 1\u001b[0m results[\u001b[39m'\u001b[39m\u001b[39mbackbone\u001b[39m\u001b[39m'\u001b[39m] \u001b[39m=\u001b[39m results[\u001b[39m'\u001b[39m\u001b[39mModel\u001b[39m\u001b[39m'\u001b[39m]\u001b[39m.\u001b[39mapply(\u001b[39mlambda\u001b[39;00m x: get_backbone(x))\n",
      "Cell \u001b[0;32mIn [28], line 2\u001b[0m, in \u001b[0;36mget_backbone\u001b[0;34m(model)\u001b[0m\n\u001b[1;32m      1\u001b[0m \u001b[39mdef\u001b[39;00m \u001b[39mget_backbone\u001b[39m(model):\n\u001b[0;32m----> 2\u001b[0m     \u001b[39mreturn\u001b[39;00m model\u001b[39m.\u001b[39;49msplit(\u001b[39m\"\u001b[39;49m\u001b[39mFTUNetFormer_\u001b[39;49m\u001b[39m\"\u001b[39;49m,\u001b[39m1\u001b[39;49m)[\u001b[39m1\u001b[39;49m]\n",
      "\u001b[0;31mIndexError\u001b[0m: list index out of range"
     ]
    }
   ],
   "source": [
    "results['backbone'] = results['Model'].apply(lambda x: get_backbone(x))"
   ]
  },
  {
   "cell_type": "code",
   "execution_count": 25,
   "metadata": {},
   "outputs": [
    {
     "data": {
      "text/html": [
       "<div>\n",
       "<style scoped>\n",
       "    .dataframe tbody tr th:only-of-type {\n",
       "        vertical-align: middle;\n",
       "    }\n",
       "\n",
       "    .dataframe tbody tr th {\n",
       "        vertical-align: top;\n",
       "    }\n",
       "\n",
       "    .dataframe thead th {\n",
       "        text-align: right;\n",
       "    }\n",
       "</style>\n",
       "<table border=\"1\" class=\"dataframe\">\n",
       "  <thead>\n",
       "    <tr style=\"text-align: right;\">\n",
       "      <th></th>\n",
       "      <th>Model</th>\n",
       "      <th>Batch_size</th>\n",
       "      <th>Optimizer</th>\n",
       "      <th>Criterion</th>\n",
       "      <th>Best Score</th>\n",
       "    </tr>\n",
       "  </thead>\n",
       "  <tbody>\n",
       "    <tr>\n",
       "      <th>0</th>\n",
       "      <td>FTUnetFormer_SwinTransformer</td>\n",
       "      <td>4</td>\n",
       "      <td>adam</td>\n",
       "      <td>CE</td>\n",
       "      <td>0.176996</td>\n",
       "    </tr>\n",
       "    <tr>\n",
       "      <th>1</th>\n",
       "      <td>FTUnetFormer_SwinTransformer</td>\n",
       "      <td>4</td>\n",
       "      <td>adam</td>\n",
       "      <td>Focal</td>\n",
       "      <td>0.119632</td>\n",
       "    </tr>\n",
       "    <tr>\n",
       "      <th>2</th>\n",
       "      <td>FTUnetFormer_SwinTransformer</td>\n",
       "      <td>4</td>\n",
       "      <td>adam</td>\n",
       "      <td>Jaccard</td>\n",
       "      <td>0.260501</td>\n",
       "    </tr>\n",
       "    <tr>\n",
       "      <th>3</th>\n",
       "      <td>FTUnetFormer_SwinTransformer</td>\n",
       "      <td>4</td>\n",
       "      <td>adam</td>\n",
       "      <td>Dice</td>\n",
       "      <td>0.249168</td>\n",
       "    </tr>\n",
       "    <tr>\n",
       "      <th>4</th>\n",
       "      <td>FTUnetFormer_SwinTransformer</td>\n",
       "      <td>4</td>\n",
       "      <td>adam</td>\n",
       "      <td>MCC</td>\n",
       "      <td>0.194517</td>\n",
       "    </tr>\n",
       "  </tbody>\n",
       "</table>\n",
       "</div>"
      ],
      "text/plain": [
       "                          Model  Batch_size Optimizer Criterion  Best Score\n",
       "0  FTUnetFormer_SwinTransformer           4      adam        CE    0.176996\n",
       "1  FTUnetFormer_SwinTransformer           4      adam     Focal    0.119632\n",
       "2  FTUnetFormer_SwinTransformer           4      adam   Jaccard    0.260501\n",
       "3  FTUnetFormer_SwinTransformer           4      adam      Dice    0.249168\n",
       "4  FTUnetFormer_SwinTransformer           4      adam       MCC    0.194517"
      ]
     },
     "execution_count": 25,
     "metadata": {},
     "output_type": "execute_result"
    }
   ],
   "source": [
    "results.head()"
   ]
  },
  {
   "cell_type": "code",
   "execution_count": 30,
   "metadata": {},
   "outputs": [
    {
     "data": {
      "text/html": [
       "<div>\n",
       "<style scoped>\n",
       "    .dataframe tbody tr th:only-of-type {\n",
       "        vertical-align: middle;\n",
       "    }\n",
       "\n",
       "    .dataframe tbody tr th {\n",
       "        vertical-align: top;\n",
       "    }\n",
       "\n",
       "    .dataframe thead th {\n",
       "        text-align: right;\n",
       "    }\n",
       "</style>\n",
       "<table border=\"1\" class=\"dataframe\">\n",
       "  <thead>\n",
       "    <tr style=\"text-align: right;\">\n",
       "      <th></th>\n",
       "      <th>Batch_size</th>\n",
       "      <th>Optimizer</th>\n",
       "      <th>Criterion</th>\n",
       "      <th>Best Score</th>\n",
       "    </tr>\n",
       "    <tr>\n",
       "      <th>Model</th>\n",
       "      <th></th>\n",
       "      <th></th>\n",
       "      <th></th>\n",
       "      <th></th>\n",
       "    </tr>\n",
       "  </thead>\n",
       "  <tbody>\n",
       "    <tr>\n",
       "      <th>FTUnetFormer_SwinTransformer</th>\n",
       "      <td>16</td>\n",
       "      <td>sgd</td>\n",
       "      <td>MCC+</td>\n",
       "      <td>0.424307</td>\n",
       "    </tr>\n",
       "  </tbody>\n",
       "</table>\n",
       "</div>"
      ],
      "text/plain": [
       "                              Batch_size Optimizer Criterion  Best Score\n",
       "Model                                                                   \n",
       "FTUnetFormer_SwinTransformer          16       sgd      MCC+    0.424307"
      ]
     },
     "execution_count": 30,
     "metadata": {},
     "output_type": "execute_result"
    }
   ],
   "source": [
    "results.groupby('Model').max()"
   ]
  },
  {
   "cell_type": "code",
   "execution_count": null,
   "metadata": {},
   "outputs": [],
   "source": []
  }
 ],
 "metadata": {
  "kernelspec": {
   "display_name": "Python 3.8.10 64-bit ('3.8.10')",
   "language": "python",
   "name": "python3"
  },
  "language_info": {
   "codemirror_mode": {
    "name": "ipython",
    "version": 3
   },
   "file_extension": ".py",
   "mimetype": "text/x-python",
   "name": "python",
   "nbconvert_exporter": "python",
   "pygments_lexer": "ipython3",
   "version": "3.8.10"
  },
  "orig_nbformat": 4,
  "vscode": {
   "interpreter": {
    "hash": "075e6a1a1c7765b3d79823726d9ed86062a8b30d95202fbc1bd59458a28b8cdf"
   }
  }
 },
 "nbformat": 4,
 "nbformat_minor": 2
}
